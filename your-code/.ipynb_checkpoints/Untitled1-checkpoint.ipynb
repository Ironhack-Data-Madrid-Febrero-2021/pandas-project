{
 "cells": [
  {
   "cell_type": "code",
   "execution_count": 321,
   "metadata": {},
   "outputs": [
    {
     "name": "stdout",
     "output_type": "stream",
     "text": [
      "Requirement already satisfied: countryinfo in c:\\users\\pinil\\anaconda3\\lib\\site-packages (0.1.2)\n",
      "Requirement already satisfied: missingno in c:\\users\\pinil\\anaconda3\\lib\\site-packages (0.4.2)\n",
      "Requirement already satisfied: scipy in c:\\users\\pinil\\anaconda3\\lib\\site-packages (from missingno) (1.5.0)\n",
      "Requirement already satisfied: numpy in c:\\users\\pinil\\anaconda3\\lib\\site-packages (from missingno) (1.18.5)\n",
      "Requirement already satisfied: seaborn in c:\\users\\pinil\\anaconda3\\lib\\site-packages (from missingno) (0.10.1)\n",
      "Requirement already satisfied: matplotlib in c:\\users\\pinil\\anaconda3\\lib\\site-packages (from missingno) (3.2.2)\n",
      "Requirement already satisfied: pandas>=0.22.0 in c:\\users\\pinil\\anaconda3\\lib\\site-packages (from seaborn->missingno) (1.0.5)\n",
      "Requirement already satisfied: pyparsing!=2.0.4,!=2.1.2,!=2.1.6,>=2.0.1 in c:\\users\\pinil\\anaconda3\\lib\\site-packages (from matplotlib->missingno) (2.4.7)\n",
      "Requirement already satisfied: python-dateutil>=2.1 in c:\\users\\pinil\\anaconda3\\lib\\site-packages (from matplotlib->missingno) (2.8.1)\n",
      "Requirement already satisfied: cycler>=0.10 in c:\\users\\pinil\\anaconda3\\lib\\site-packages (from matplotlib->missingno) (0.10.0)\n",
      "Requirement already satisfied: kiwisolver>=1.0.1 in c:\\users\\pinil\\anaconda3\\lib\\site-packages (from matplotlib->missingno) (1.2.0)\n",
      "Requirement already satisfied: pytz>=2017.2 in c:\\users\\pinil\\anaconda3\\lib\\site-packages (from pandas>=0.22.0->seaborn->missingno) (2020.1)\n",
      "Requirement already satisfied: six>=1.5 in c:\\users\\pinil\\anaconda3\\lib\\site-packages (from python-dateutil>=2.1->matplotlib->missingno) (1.15.0)\n"
     ]
    }
   ],
   "source": [
    "!pip install countryinfo\n",
    "!pip install missingno\n",
    "import pandas as pd\n",
    "import numpy as np\n",
    "import missingno as msno\n",
    "\n",
    "import re\n",
    "import math\n",
    "\n",
    "\n",
    "from countryinfo import CountryInfo\n",
    "\n",
    "import matplotlib.pyplot as plt\n",
    "import seaborn as sns\n",
    "pd.set_option(\"display.max_columns\", None)\n",
    "pd.set_option(\"display.max_rows\", 16)"
   ]
  },
  {
   "cell_type": "code",
   "execution_count": 311,
   "metadata": {},
   "outputs": [
    {
     "name": "stdout",
     "output_type": "stream",
     "text": [
      "Collecting package metadata (current_repodata.json): ...working... done\n",
      "Solving environment: ...working... done\n",
      "\n",
      "## Package Plan ##\n",
      "\n",
      "  environment location: C:\\Users\\pinil\\anaconda3\n",
      "\n",
      "  added / updated specs:\n",
      "    - opencv\n",
      "\n",
      "\n",
      "The following packages will be downloaded:\n",
      "\n",
      "    package                    |            build\n",
      "    ---------------------------|-----------------\n",
      "    libopencv-4.0.1            |       hbb9e17c_0        28.6 MB\n",
      "    opencv-4.0.1               |   py38h2a7c758_0          22 KB\n",
      "    py-opencv-4.0.1            |   py38he44ac1e_0         1.5 MB\n",
      "    ------------------------------------------------------------\n",
      "                                           Total:        30.1 MB\n",
      "\n",
      "The following NEW packages will be INSTALLED:\n",
      "\n",
      "  libopencv          pkgs/main/win-64::libopencv-4.0.1-hbb9e17c_0\n",
      "  opencv             pkgs/main/win-64::opencv-4.0.1-py38h2a7c758_0\n",
      "  py-opencv          pkgs/main/win-64::py-opencv-4.0.1-py38he44ac1e_0\n",
      "\n",
      "\n",
      "\n",
      "Downloading and Extracting Packages\n",
      "\n",
      "libopencv-4.0.1      | 28.6 MB   |            |   0% \n",
      "libopencv-4.0.1      | 28.6 MB   |            |   0% \n",
      "libopencv-4.0.1      | 28.6 MB   | 2          |   3% \n",
      "libopencv-4.0.1      | 28.6 MB   | 6          |   7% \n",
      "libopencv-4.0.1      | 28.6 MB   | #          |  10% \n",
      "libopencv-4.0.1      | 28.6 MB   | #2         |  13% \n",
      "libopencv-4.0.1      | 28.6 MB   | #5         |  16% \n",
      "libopencv-4.0.1      | 28.6 MB   | #8         |  19% \n",
      "libopencv-4.0.1      | 28.6 MB   | ##1        |  21% \n",
      "libopencv-4.0.1      | 28.6 MB   | ##3        |  24% \n",
      "libopencv-4.0.1      | 28.6 MB   | ##6        |  27% \n",
      "libopencv-4.0.1      | 28.6 MB   | ##9        |  30% \n",
      "libopencv-4.0.1      | 28.6 MB   | ###2       |  32% \n",
      "libopencv-4.0.1      | 28.6 MB   | ###5       |  35% \n",
      "libopencv-4.0.1      | 28.6 MB   | ###7       |  38% \n",
      "libopencv-4.0.1      | 28.6 MB   | ####       |  40% \n",
      "libopencv-4.0.1      | 28.6 MB   | ####3      |  44% \n",
      "libopencv-4.0.1      | 28.6 MB   | ####6      |  46% \n",
      "libopencv-4.0.1      | 28.6 MB   | ####9      |  50% \n",
      "libopencv-4.0.1      | 28.6 MB   | #####3     |  54% \n",
      "libopencv-4.0.1      | 28.6 MB   | #####7     |  58% \n",
      "libopencv-4.0.1      | 28.6 MB   | ######2    |  63% \n",
      "libopencv-4.0.1      | 28.6 MB   | ######7    |  67% \n",
      "libopencv-4.0.1      | 28.6 MB   | #######1   |  71% \n",
      "libopencv-4.0.1      | 28.6 MB   | #######6   |  76% \n",
      "libopencv-4.0.1      | 28.6 MB   | ########   |  81% \n",
      "libopencv-4.0.1      | 28.6 MB   | ########6  |  86% \n",
      "libopencv-4.0.1      | 28.6 MB   | #########1 |  91% \n",
      "libopencv-4.0.1      | 28.6 MB   | #########6 |  96% \n",
      "libopencv-4.0.1      | 28.6 MB   | ########## | 100% \n",
      "\n",
      "opencv-4.0.1         | 22 KB     |            |   0% \n",
      "opencv-4.0.1         | 22 KB     | ########## | 100% \n",
      "\n",
      "py-opencv-4.0.1      | 1.5 MB    |            |   0% \n",
      "py-opencv-4.0.1      | 1.5 MB    | ######8    |  68% \n",
      "py-opencv-4.0.1      | 1.5 MB    | ########## | 100% \n",
      "py-opencv-4.0.1      | 1.5 MB    | ########## | 100% \n",
      "Preparing transaction: ...working... done\n",
      "Verifying transaction: ...working... done\n",
      "Executing transaction: ...working... done\n",
      "\n",
      "Note: you may need to restart the kernel to use updated packages.\n"
     ]
    }
   ],
   "source": [
    "conda install opencv "
   ]
  },
  {
   "cell_type": "code",
   "execution_count": 319,
   "metadata": {},
   "outputs": [
    {
     "data": {
      "image/png": "[encoded data removed]",
      "text/plain": [
       "<Figure size 1440x1440 with 1 Axes>"
      ]
     },
     "metadata": {
      "needs_background": "light"
     },
     "output_type": "display_data"
    }
   ],
   "source": [
    "import cv2\n",
    "binary = cv2.imread('Image1 surfer.jpg')\n",
    "binary.shape\n",
    "plt.figure(figsize=[20,20])\n",
    "plt.imshow(binary[:,:,::-1])\n",
    "plt.title(\"Surfer\")\n",
    "plt.subplot(122)\n",
    "plt.imshow(binary[:,:,::-1])\n",
    "plt.title(\"Document Image\")\n",
    "plt.show()"
   ]
  },
  {
   "cell_type": "code",
   "execution_count": 322,
   "metadata": {},
   "outputs": [
    {
     "data": {
      "text/plain": [
       "25723"
      ]
     },
     "execution_count": 322,
     "metadata": {},
     "output_type": "execute_result"
    }
   ],
   "source": [
    "db = pd.read_csv('attacks.csv', encoding='cp1252')\n",
    "len(db)"
   ]
  },
  {
   "cell_type": "code",
   "execution_count": 323,
   "metadata": {},
   "outputs": [
    {
     "data": {
      "text/html": [
       "<div>\n",
       "<style scoped>\n",
       "    .dataframe tbody tr th:only-of-type {\n",
       "        vertical-align: middle;\n",
       "    }\n",
       "\n",
       "    .dataframe tbody tr th {\n",
       "        vertical-align: top;\n",
       "    }\n",
       "\n",
       "    .dataframe thead th {\n",
       "        text-align: right;\n",
       "    }\n",
       "</style>\n",
       "<table border=\"1\" class=\"dataframe\">\n",
       "  <thead>\n",
       "    <tr style=\"text-align: right;\">\n",
       "      <th></th>\n",
       "      <th>Case Number</th>\n",
       "      <th>Date</th>\n",
       "      <th>Year</th>\n",
       "      <th>Type</th>\n",
       "      <th>Country</th>\n",
       "      <th>Area</th>\n",
       "      <th>Location</th>\n",
       "      <th>Activity</th>\n",
       "      <th>Name</th>\n",
       "      <th>Sex</th>\n",
       "      <th>Age</th>\n",
       "      <th>Injury</th>\n",
       "      <th>Fatal (Y/N)</th>\n",
       "      <th>Time</th>\n",
       "      <th>Species</th>\n",
       "      <th>Investigator or Source</th>\n",
       "      <th>pdf</th>\n",
       "      <th>href formula</th>\n",
       "      <th>href</th>\n",
       "      <th>Case Number.1</th>\n",
       "      <th>Case Number.2</th>\n",
       "      <th>original order</th>\n",
       "      <th>Unnamed: 22</th>\n",
       "      <th>Unnamed: 23</th>\n",
       "    </tr>\n",
       "  </thead>\n",
       "  <tbody>\n",
       "    <tr>\n",
       "      <th>0</th>\n",
       "      <td>2018.06.25</td>\n",
       "      <td>25-Jun-2018</td>\n",
       "      <td>2018.0</td>\n",
       "      <td>Boating</td>\n",
       "      <td>USA</td>\n",
       "      <td>California</td>\n",
       "      <td>Oceanside, San Diego County</td>\n",
       "      <td>Paddling</td>\n",
       "      <td>Julie Wolfe</td>\n",
       "      <td>F</td>\n",
       "      <td>57</td>\n",
       "      <td>No injury to occupant, outrigger canoe and pad...</td>\n",
       "      <td>N</td>\n",
       "      <td>18h00</td>\n",
       "      <td>White shark</td>\n",
       "      <td>R. Collier, GSAF</td>\n",
       "      <td>2018.06.25-Wolfe.pdf</td>\n",
       "      <td>http://sharkattackfile.net/spreadsheets/pdf_di...</td>\n",
       "      <td>http://sharkattackfile.net/spreadsheets/pdf_di...</td>\n",
       "      <td>2018.06.25</td>\n",
       "      <td>2018.06.25</td>\n",
       "      <td>6303.0</td>\n",
       "      <td>NaN</td>\n",
       "      <td>NaN</td>\n",
       "    </tr>\n",
       "  </tbody>\n",
       "</table>\n",
       "</div>"
      ],
      "text/plain": [
       "  Case Number         Date    Year     Type Country        Area  \\\n",
       "0  2018.06.25  25-Jun-2018  2018.0  Boating     USA  California   \n",
       "\n",
       "                      Location  Activity         Name Sex  Age  \\\n",
       "0  Oceanside, San Diego County  Paddling  Julie Wolfe    F  57   \n",
       "\n",
       "                                              Injury Fatal (Y/N)   Time  \\\n",
       "0  No injury to occupant, outrigger canoe and pad...           N  18h00   \n",
       "\n",
       "      Species  Investigator or Source                   pdf  \\\n",
       "0  White shark       R. Collier, GSAF  2018.06.25-Wolfe.pdf   \n",
       "\n",
       "                                        href formula  \\\n",
       "0  http://sharkattackfile.net/spreadsheets/pdf_di...   \n",
       "\n",
       "                                                href Case Number.1  \\\n",
       "0  http://sharkattackfile.net/spreadsheets/pdf_di...    2018.06.25   \n",
       "\n",
       "  Case Number.2  original order Unnamed: 22 Unnamed: 23  \n",
       "0    2018.06.25          6303.0         NaN         NaN  "
      ]
     },
     "execution_count": 323,
     "metadata": {},
     "output_type": "execute_result"
    }
   ],
   "source": [
    "#First visualitations in order to check which columns are usefull\n",
    "db.head(1)"
   ]
  },
  {
   "cell_type": "code",
   "execution_count": 324,
   "metadata": {},
   "outputs": [
    {
     "data": {
      "text/plain": [
       "Case Number       17021\n",
       "Date              19421\n",
       "Year              19423\n",
       "Type              19425\n",
       "Country           19471\n",
       "                  ...  \n",
       "Case Number.1     19421\n",
       "Case Number.2     19421\n",
       "original order    19414\n",
       "Unnamed: 22       25722\n",
       "Unnamed: 23       25721\n",
       "Length: 24, dtype: int64"
      ]
     },
     "execution_count": 324,
     "metadata": {},
     "output_type": "execute_result"
    }
   ],
   "source": [
    "#checking null data, how many empty cells there are in every column.\n",
    "null_cols = db.isnull().sum()\n",
    "null_cols"
   ]
  },
  {
   "cell_type": "code",
   "execution_count": 325,
   "metadata": {},
   "outputs": [
    {
     "data": {
      "text/plain": [
       "Case Number       66.170353\n",
       "Date              75.500525\n",
       "Year              75.508300\n",
       "Type              75.516075\n",
       "Country           75.694903\n",
       "                    ...    \n",
       "Case Number.1     75.500525\n",
       "Case Number.2     75.500525\n",
       "original order    75.473312\n",
       "Unnamed: 22       99.996112\n",
       "Unnamed: 23       99.992225\n",
       "Length: 24, dtype: float64"
      ]
     },
     "execution_count": 325,
     "metadata": {},
     "output_type": "execute_result"
    }
   ],
   "source": [
    "#show columns of db that have NaN values\n",
    "def null_cols(db):\n",
    "    nulls = db.isna().sum()\n",
    "    return nulls[nulls > 0] / len(db) * 100\n",
    "null_cols(db)"
   ]
  },
  {
   "cell_type": "code",
   "execution_count": 326,
   "metadata": {},
   "outputs": [],
   "source": [
    "#Delete blank spaces on the name of the columns\n",
    "db.columns = db.columns.str.rstrip()"
   ]
  },
  {
   "cell_type": "code",
   "execution_count": 327,
   "metadata": {},
   "outputs": [],
   "source": [
    "#We will drop Unmamed:22, only contain 'Teramo' & 'change filename'"
   ]
  },
  {
   "cell_type": "code",
   "execution_count": 328,
   "metadata": {},
   "outputs": [
    {
     "data": {
      "text/plain": [
       "['stopped here']"
      ]
     },
     "execution_count": 328,
     "metadata": {},
     "output_type": "execute_result"
    }
   ],
   "source": [
    "#Unnamed: 22\" and \"Unnamed: 23\" are mostly empty. Let's examine what they contain\n",
    "db['Unnamed: 22'].fillna(0, inplace=True)\n",
    "[x for x in db['Unnamed: 22'] if x!=0]"
   ]
  },
  {
   "cell_type": "code",
   "execution_count": 329,
   "metadata": {},
   "outputs": [],
   "source": [
    "#We will drop Unmamed:22, only contain 'stopped here'"
   ]
  },
  {
   "cell_type": "code",
   "execution_count": 330,
   "metadata": {},
   "outputs": [
    {
     "data": {
      "text/plain": [
       "['Teramo', 'change filename']"
      ]
     },
     "execution_count": 330,
     "metadata": {},
     "output_type": "execute_result"
    }
   ],
   "source": [
    "db['Unnamed: 23'].fillna(0, inplace=True)\n",
    "[y for y in db['Unnamed: 23'] if y!=0]"
   ]
  },
  {
   "cell_type": "code",
   "execution_count": 331,
   "metadata": {},
   "outputs": [
    {
     "data": {
      "text/plain": [
       "True     25704\n",
       "False       19\n",
       "Name: Case Number.1, dtype: int64"
      ]
     },
     "execution_count": 331,
     "metadata": {},
     "output_type": "execute_result"
    }
   ],
   "source": [
    "#Column \"Case Number.2\" could be a duplicate of \"Case Number\" and \"Case Number .1\" \n",
    "db['Case Number.1'].isin(db['Case Number.2']).value_counts()"
   ]
  },
  {
   "cell_type": "code",
   "execution_count": 332,
   "metadata": {},
   "outputs": [
    {
     "data": {
      "text/plain": [
       "True     25700\n",
       "False       23\n",
       "Name: Case Number.1, dtype: int64"
      ]
     },
     "execution_count": 332,
     "metadata": {},
     "output_type": "execute_result"
    }
   ],
   "source": [
    "db['Case Number.1'].isin(db['Case Number']).value_counts()"
   ]
  },
  {
   "cell_type": "markdown",
   "metadata": {},
   "source": [
    "We'll delete this Case Number.1 and Case Number.2"
   ]
  },
  {
   "cell_type": "code",
   "execution_count": 265,
   "metadata": {},
   "outputs": [],
   "source": [
    "db.drop(columns = [\"Unnamed: 22\", \"Unnamed: 23\"], inplace = True)"
   ]
  },
  {
   "cell_type": "code",
   "execution_count": 266,
   "metadata": {},
   "outputs": [
    {
     "data": {
      "text/plain": [
       "8703"
      ]
     },
     "execution_count": 266,
     "metadata": {},
     "output_type": "execute_result"
    }
   ],
   "source": [
    "#‘all’ : If all values are NA, drop that row or column.\n",
    "db = db.dropna(how='all')\n",
    "len(db)"
   ]
  },
  {
   "cell_type": "code",
   "execution_count": 267,
   "metadata": {},
   "outputs": [
    {
     "data": {
      "text/html": [
       "<div>\n",
       "<style scoped>\n",
       "    .dataframe tbody tr th:only-of-type {\n",
       "        vertical-align: middle;\n",
       "    }\n",
       "\n",
       "    .dataframe tbody tr th {\n",
       "        vertical-align: top;\n",
       "    }\n",
       "\n",
       "    .dataframe thead th {\n",
       "        text-align: right;\n",
       "    }\n",
       "</style>\n",
       "<table border=\"1\" class=\"dataframe\">\n",
       "  <thead>\n",
       "    <tr style=\"text-align: right;\">\n",
       "      <th></th>\n",
       "      <th>Case Number</th>\n",
       "      <th>Date</th>\n",
       "      <th>Year</th>\n",
       "      <th>Type</th>\n",
       "      <th>Country</th>\n",
       "      <th>Area</th>\n",
       "      <th>Location</th>\n",
       "      <th>Activity</th>\n",
       "      <th>Name</th>\n",
       "      <th>Sex</th>\n",
       "      <th>Age</th>\n",
       "      <th>Injury</th>\n",
       "      <th>Fatal (Y/N)</th>\n",
       "      <th>Time</th>\n",
       "      <th>Species</th>\n",
       "      <th>Investigator or Source</th>\n",
       "      <th>pdf</th>\n",
       "      <th>href formula</th>\n",
       "      <th>href</th>\n",
       "      <th>Case Number.1</th>\n",
       "      <th>Case Number.2</th>\n",
       "      <th>original order</th>\n",
       "    </tr>\n",
       "  </thead>\n",
       "  <tbody>\n",
       "    <tr>\n",
       "      <th>0</th>\n",
       "      <td>2018.06.25</td>\n",
       "      <td>25-Jun-2018</td>\n",
       "      <td>2018.0</td>\n",
       "      <td>Boating</td>\n",
       "      <td>USA</td>\n",
       "      <td>California</td>\n",
       "      <td>Oceanside, San Diego County</td>\n",
       "      <td>Paddling</td>\n",
       "      <td>Julie Wolfe</td>\n",
       "      <td>F</td>\n",
       "      <td>57</td>\n",
       "      <td>No injury to occupant, outrigger canoe and pad...</td>\n",
       "      <td>N</td>\n",
       "      <td>18h00</td>\n",
       "      <td>White shark</td>\n",
       "      <td>R. Collier, GSAF</td>\n",
       "      <td>2018.06.25-Wolfe.pdf</td>\n",
       "      <td>http://sharkattackfile.net/spreadsheets/pdf_di...</td>\n",
       "      <td>http://sharkattackfile.net/spreadsheets/pdf_di...</td>\n",
       "      <td>2018.06.25</td>\n",
       "      <td>2018.06.25</td>\n",
       "      <td>6303.0</td>\n",
       "    </tr>\n",
       "  </tbody>\n",
       "</table>\n",
       "</div>"
      ],
      "text/plain": [
       "  Case Number         Date    Year     Type Country        Area  \\\n",
       "0  2018.06.25  25-Jun-2018  2018.0  Boating     USA  California   \n",
       "\n",
       "                      Location  Activity         Name Sex Age  \\\n",
       "0  Oceanside, San Diego County  Paddling  Julie Wolfe   F  57   \n",
       "\n",
       "                                              Injury Fatal (Y/N)   Time  \\\n",
       "0  No injury to occupant, outrigger canoe and pad...           N  18h00   \n",
       "\n",
       "       Species Investigator or Source                   pdf  \\\n",
       "0  White shark       R. Collier, GSAF  2018.06.25-Wolfe.pdf   \n",
       "\n",
       "                                        href formula  \\\n",
       "0  http://sharkattackfile.net/spreadsheets/pdf_di...   \n",
       "\n",
       "                                                href Case Number.1  \\\n",
       "0  http://sharkattackfile.net/spreadsheets/pdf_di...    2018.06.25   \n",
       "\n",
       "  Case Number.2  original order  \n",
       "0    2018.06.25          6303.0  "
      ]
     },
     "execution_count": 267,
     "metadata": {},
     "output_type": "execute_result"
    }
   ],
   "source": [
    "db.reset_index(drop=True)\n",
    "db.head(1)"
   ]
  },
  {
   "cell_type": "code",
   "execution_count": 333,
   "metadata": {},
   "outputs": [],
   "source": [
    "#db = db.dropna() dropea todo si algún valor es NaN"
   ]
  },
  {
   "cell_type": "markdown",
   "metadata": {},
   "source": [
    "Let's have a look to Age and Sex columns"
   ]
  },
  {
   "cell_type": "code",
   "execution_count": 269,
   "metadata": {},
   "outputs": [
    {
     "name": "stdout",
     "output_type": "stream",
     "text": [
      "object\n"
     ]
    }
   ],
   "source": [
    "print(db['Age'].dtypes)"
   ]
  },
  {
   "cell_type": "code",
   "execution_count": 270,
   "metadata": {},
   "outputs": [],
   "source": [
    "#Delete blank spaces of the names\n",
    "db['Age']= db['Age'].str.strip()"
   ]
  },
  {
   "cell_type": "code",
   "execution_count": 271,
   "metadata": {},
   "outputs": [
    {
     "name": "stdout",
     "output_type": "stream",
     "text": [
      "NaN rows Age:\n",
      "0\n",
      "0\n"
     ]
    }
   ],
   "source": [
    "NaN_rows_Age=db[\"Age\"].isna().sum()\n",
    "print('NaN rows Age:')\n",
    "print(NaN_rows_Age)\n",
    "null_rows_Age = db['Age'].isnull().sum()\n",
    "print(null_rows_Age)"
   ]
  },
  {
   "cell_type": "code",
   "execution_count": 272,
   "metadata": {},
   "outputs": [
    {
     "name": "stdout",
     "output_type": "stream",
     "text": [
      "False    1403\n",
      "True       19\n",
      "Name: Age, dtype: int64\n"
     ]
    }
   ],
   "source": [
    "print(pd.to_numeric(db['Age'], errors='coerce').isnull().value_counts())"
   ]
  },
  {
   "cell_type": "markdown",
   "metadata": {},
   "source": [
    "Replace first wrong values/Age demographic rages:\n",
    "Under 12 years old\n",
    "12-17 years old\n",
    "18-24 years old\n",
    "25-34 years old\n",
    "35-44 years old\n",
    "45-54 years old\n",
    "55-64 years old\n",
    "65-74 years old\n",
    "75 years or older"
   ]
  },
  {
   "cell_type": "code",
   "execution_count": 273,
   "metadata": {},
   "outputs": [],
   "source": [
    "db['Age']=db['Age'].replace(['9 months', '9 or 10','8 or 10','Both 11','10 or 12',  '9 & 12', '18 months', '7 or 8',  '2½', '2 to 3 months','6½',], '0 - Under 12 years old')\n",
    "db['Age']=db['Age'].replace(['12 or 13','teen','\"young\"','young',  '?    &   14', '12-17 years old','13 or 14', '13 or 18', '16 to 18', '17 & 16', 'Teen', 'Teens'], '1 - 12-17 years old' )\n",
    "db['Age']=db['Age'].replace(['mid-20s','23 & 26', '17 & 35', '18 or 20', '18 to 22', '20?', '20s', '21 & ?'], '2 - 18-24 years old')\n",
    "db['Age']=db['Age'].replace(['23 & 20','21 or 26','30 or 36','mid-30s','28 & 26', '30s', '30 & 32', '31 or 33', '32 & 30', '(adult)', 'adult','25 or 28', '25 to 35', '28 &26', '28, 23 & 30', ], '3 - 25-34 years old')\n",
    "db['Age']=db['Age'].replace(['Ca. 33', '33 & 37', '33 or 37', '33 & 26', '40s'], '4 - 35-44 years old')\n",
    "db['Age']=db['Age'].replace(['>50','\"middle-age\"','50s'], '5 - 45-54 years old')\n",
    "db['Age']=db['Age'].replace(['60s', \"60's\"], '6 - 55-64 years old')\n",
    "db['Age']=db['Age'].replace(['Elderly'], '8 - 75 years or older')\n",
    "db['Age']=db['Age'].replace(['21, 34,24 & 35','36 & 23','36 & 26','? & 19', '7      &    31','34 & 19','37, 67, 35, 27,  ? & 27', '46 & 34','50 & 30'], 'Different ages')"
   ]
  },
  {
   "cell_type": "code",
   "execution_count": 274,
   "metadata": {},
   "outputs": [],
   "source": [
    "db['Age'] = db['Age'].str.replace('X', 'U')\n",
    "db['Age'] = db['Age'].str.replace('\\xa0', 'U')\n",
    "db['Age'] = db['Age'].str.replace('MAKE LINE GREEN', 'U')\n",
    "db['Age'] = db['Age'].str.replace('F', 'U')\n",
    "db['Age'] = db['Age'].str.replace('A.M.', 'U')"
   ]
  },
  {
   "cell_type": "code",
   "execution_count": 275,
   "metadata": {},
   "outputs": [],
   "source": [
    "db['Age']=db['Age'].replace(['1','2','3','4','5','6','7','8','9','10','11'], '0 - Under 12 years old')\n",
    "db['Age']=db['Age'].replace(['12','13','14','15','16','17'], '1 - 12-17 years old')\n",
    "db['Age']=db['Age'].replace(['18','19','20','21','22','23','24'], '2 - 18-24 years old')\n",
    "db['Age']=db['Age'].replace(['25','26','27','28','29','30','31','32','33','34'], '3 - 25-34 years old')\n",
    "db['Age']=db['Age'].replace(['35','36','37','38','39','40','41','42','43','44'], '4 - 35-44 years old')\n",
    "db['Age']=db['Age'].replace(['45','46','47','48','49','50','51','52','53','54'], '5 - 45-54 years old')\n",
    "db['Age']=db['Age'].replace(['55','56','57','58','59','60','61','62','63','64'], '6 - 55-64 years old')\n",
    "db['Age']=db['Age'].replace(['65','66','67','68','69','70','71','72','73','74'], '7 - 65-74 years old')\n",
    "db['Age']=db['Age'].replace(['75','76','77','78','79','80','81','82','83','84','85','86','87','88','89','90','91','92','93','94'], '8 - 75 years or older')"
   ]
  },
  {
   "cell_type": "code",
   "execution_count": 276,
   "metadata": {},
   "outputs": [],
   "source": [
    "#db['Age'] = db['Age'].fillna('U')"
   ]
  },
  {
   "cell_type": "code",
   "execution_count": 277,
   "metadata": {},
   "outputs": [
    {
     "data": {
      "text/plain": [
       "{'',\n",
       " '0 - Under 12 years old',\n",
       " '1 - 12-17 years old',\n",
       " '2 - 18-24 years old',\n",
       " '3 - 25-34 years old',\n",
       " '4 - 35-44 years old',\n",
       " '5 - 45-54 years old',\n",
       " '6 - 55-64 years old',\n",
       " '7 - 65-74 years old',\n",
       " '8 - 75 years or older'}"
      ]
     },
     "execution_count": 277,
     "metadata": {},
     "output_type": "execute_result"
    }
   ],
   "source": [
    "#Print set of different values\n",
    "set(db['Age'])"
   ]
  },
  {
   "cell_type": "code",
   "execution_count": 308,
   "metadata": {},
   "outputs": [
    {
     "data": {
      "image/png": "[encoded data removed]",
      "text/plain": [
       "<Figure size 1080x504 with 1 Axes>"
      ]
     },
     "metadata": {
      "needs_background": "light"
     },
     "output_type": "display_data"
    }
   ],
   "source": [
    "plt.figure(figsize=[15,7])\n",
    "plt.hist(db['Age'])\n",
    "plt.xticks(fontsize=8) \n",
    "plt.yticks(fontsize=8)\n",
    "plt.xlabel('Ages',fontsize=15)\n",
    "plt.ylabel('Sum',fontsize=15)\n",
    "plt.grid(axis='y', alpha=0.75)"
   ]
  },
  {
   "cell_type": "code",
   "execution_count": 279,
   "metadata": {},
   "outputs": [
    {
     "data": {
      "text/plain": [
       "<matplotlib.axes._subplots.AxesSubplot at 0x17efe4bbf10>"
      ]
     },
     "execution_count": 279,
     "metadata": {},
     "output_type": "execute_result"
    },
    {
     "data": {
      "image/png": "[encoded data removed]",
      "text/plain": [
       "<Figure size 432x288 with 1 Axes>"
      ]
     },
     "metadata": {
      "needs_background": "light"
     },
     "output_type": "display_data"
    }
   ],
   "source": [
    "sns.countplot(x=db.Sex,\n",
    "              hue=db.Age,\n",
    "              palette=\"Blues\")"
   ]
  },
  {
   "cell_type": "code",
   "execution_count": 280,
   "metadata": {},
   "outputs": [
    {
     "data": {
      "text/plain": [
       "<matplotlib.axes._subplots.AxesSubplot at 0x17eff5d3af0>"
      ]
     },
     "execution_count": 280,
     "metadata": {},
     "output_type": "execute_result"
    },
    {
     "data": {
      "image/png": "[encoded data removed]",
      "text/plain": [
       "<Figure size 432x288 with 1 Axes>"
      ]
     },
     "metadata": {
      "needs_background": "light"
     },
     "output_type": "display_data"
    }
   ],
   "source": [
    "sns.countplot(x=db.Age)"
   ]
  },
  {
   "cell_type": "code",
   "execution_count": 281,
   "metadata": {},
   "outputs": [
    {
     "name": "stdout",
     "output_type": "stream",
     "text": [
      "0\n"
     ]
    }
   ],
   "source": [
    "null_rows_Sex = db['Sex'].isnull().sum()\n",
    "print(null_rows_Sex)"
   ]
  },
  {
   "cell_type": "code",
   "execution_count": 282,
   "metadata": {},
   "outputs": [
    {
     "data": {
      "text/plain": [
       "{'F', 'M', 'lli'}"
      ]
     },
     "execution_count": 282,
     "metadata": {},
     "output_type": "execute_result"
    }
   ],
   "source": [
    "#Print set of different values\n",
    "set(db['Sex'])"
   ]
  },
  {
   "cell_type": "code",
   "execution_count": 283,
   "metadata": {},
   "outputs": [],
   "source": [
    "db['Sex']= db['Sex'].str.strip()"
   ]
  },
  {
   "cell_type": "code",
   "execution_count": 284,
   "metadata": {},
   "outputs": [
    {
     "data": {
      "text/plain": [
       "{'F', 'M', 'lli'}"
      ]
     },
     "execution_count": 284,
     "metadata": {},
     "output_type": "execute_result"
    }
   ],
   "source": [
    "set(db['Sex'])"
   ]
  },
  {
   "cell_type": "code",
   "execution_count": 285,
   "metadata": {},
   "outputs": [],
   "source": [
    "db['Sex']=db['Sex'].replace(['.', 'lli', 'N'], 'U')\n",
    "db['Sex'] = db['Sex'].fillna('U')"
   ]
  },
  {
   "cell_type": "code",
   "execution_count": 286,
   "metadata": {},
   "outputs": [
    {
     "data": {
      "text/plain": [
       "{'F', 'M', 'U'}"
      ]
     },
     "execution_count": 286,
     "metadata": {},
     "output_type": "execute_result"
    }
   ],
   "source": [
    "set(db['Sex'])"
   ]
  },
  {
   "cell_type": "code",
   "execution_count": 287,
   "metadata": {},
   "outputs": [
    {
     "data": {
      "text/plain": [
       "<matplotlib.axes._subplots.AxesSubplot at 0x17eff6488b0>"
      ]
     },
     "execution_count": 287,
     "metadata": {},
     "output_type": "execute_result"
    },
    {
     "data": {
      "image/png": "[encoded data removed]",
      "text/plain": [
       "<Figure size 432x288 with 1 Axes>"
      ]
     },
     "metadata": {
      "needs_background": "light"
     },
     "output_type": "display_data"
    }
   ],
   "source": [
    "sns.countplot(x=db.Sex)"
   ]
  },
  {
   "cell_type": "code",
   "execution_count": null,
   "metadata": {},
   "outputs": [],
   "source": []
  },
  {
   "cell_type": "code",
   "execution_count": 91,
   "metadata": {},
   "outputs": [],
   "source": []
  },
  {
   "cell_type": "code",
   "execution_count": null,
   "metadata": {},
   "outputs": [],
   "source": []
  },
  {
   "cell_type": "code",
   "execution_count": 73,
   "metadata": {},
   "outputs": [],
   "source": []
  },
  {
   "cell_type": "code",
   "execution_count": null,
   "metadata": {},
   "outputs": [],
   "source": [
    "\n"
   ]
  },
  {
   "cell_type": "code",
   "execution_count": null,
   "metadata": {},
   "outputs": [],
   "source": []
  },
  {
   "cell_type": "markdown",
   "metadata": {},
   "source": []
  },
  {
   "cell_type": "code",
   "execution_count": 70,
   "metadata": {},
   "outputs": [],
   "source": []
  },
  {
   "cell_type": "code",
   "execution_count": null,
   "metadata": {},
   "outputs": [],
   "source": []
  },
  {
   "cell_type": "code",
   "execution_count": 79,
   "metadata": {},
   "outputs": [
    {
     "data": {
      "text/plain": [
       "{'02-Mar-1922',\n",
       " '03-Jan-2012',\n",
       " '08-Apr-2008',\n",
       " '17-Jul-2007',\n",
       " '20-Mar-2007',\n",
       " '22-Mar-1918',\n",
       " '23-May-2014',\n",
       " '27-Jun-2005',\n",
       " '28-Nov-1963',\n",
       " '29-Aug-2003'}"
      ]
     },
     "execution_count": 79,
     "metadata": {},
     "output_type": "execute_result"
    }
   ],
   "source": [
    "#Le's check what Data contains, could be important\n",
    "set(db['Date'].sample(n=10))"
   ]
  },
  {
   "cell_type": "code",
   "execution_count": 80,
   "metadata": {},
   "outputs": [
    {
     "name": "stdout",
     "output_type": "stream",
     "text": [
      "False    1674\n",
      "True       25\n",
      "Name: Date, dtype: int64\n"
     ]
    }
   ],
   "source": [
    "#The to_datetime method tries to convert values to a datetime type\n",
    "print(pd.to_datetime(db['Date'], errors='coerce').isnull().value_counts())"
   ]
  },
  {
   "cell_type": "code",
   "execution_count": 81,
   "metadata": {},
   "outputs": [
    {
     "data": {
      "text/plain": [
       "1567"
      ]
     },
     "execution_count": 81,
     "metadata": {},
     "output_type": "execute_result"
    }
   ],
   "source": [
    "#It seems that this column contain a lot of unique or empty values, we'll drop it\n",
    "len(set(db['Date']))"
   ]
  },
  {
   "cell_type": "code",
   "execution_count": 82,
   "metadata": {},
   "outputs": [],
   "source": [
    "#Injury and Fatal are related.\n",
    "#We can use both to fill the missing information of the other\n",
    "db2=db[(db[\"Injury\"].isna()== False) & (db[\"Fatal (Y/N)\"].isna())][[\"Injury\", \"Fatal (Y/N)\"]]"
   ]
  },
  {
   "cell_type": "code",
   "execution_count": 83,
   "metadata": {},
   "outputs": [],
   "source": [
    "empty_rows_index = list(db[(db[\"Injury\"].isna()== False) & (db[\"Fatal (Y/N)\"].isna())].index)\n"
   ]
  },
  {
   "cell_type": "code",
   "execution_count": 84,
   "metadata": {},
   "outputs": [],
   "source": [
    "db.to_csv(\"Injury_Fatal.csv\")"
   ]
  },
  {
   "cell_type": "code",
   "execution_count": 85,
   "metadata": {},
   "outputs": [
    {
     "data": {
      "text/plain": [
       "0"
      ]
     },
     "execution_count": 85,
     "metadata": {},
     "output_type": "execute_result"
    }
   ],
   "source": [
    "#Name and Sex are correlated.\n",
    "#We can use both to fill the missing information of the other\n",
    "db3=db[(db[\"Name\"].isna()== False) & (db[\"Sex\"].isna())][[\"Name\", \"Sex\"]]\n",
    "len(db3)"
   ]
  },
  {
   "cell_type": "code",
   "execution_count": 86,
   "metadata": {},
   "outputs": [
    {
     "name": "stdout",
     "output_type": "stream",
     "text": [
      "Empty DataFrame\n",
      "Columns: [Name, Sex]\n",
      "Index: []\n"
     ]
    }
   ],
   "source": [
    "print(db3)"
   ]
  },
  {
   "cell_type": "code",
   "execution_count": null,
   "metadata": {},
   "outputs": [],
   "source": []
  },
  {
   "cell_type": "code",
   "execution_count": 89,
   "metadata": {},
   "outputs": [
    {
     "data": {
      "text/html": [
       "<div>\n",
       "<style scoped>\n",
       "    .dataframe tbody tr th:only-of-type {\n",
       "        vertical-align: middle;\n",
       "    }\n",
       "\n",
       "    .dataframe tbody tr th {\n",
       "        vertical-align: top;\n",
       "    }\n",
       "\n",
       "    .dataframe thead th {\n",
       "        text-align: right;\n",
       "    }\n",
       "</style>\n",
       "<table border=\"1\" class=\"dataframe\">\n",
       "  <thead>\n",
       "    <tr style=\"text-align: right;\">\n",
       "      <th></th>\n",
       "      <th>Year</th>\n",
       "      <th>Type</th>\n",
       "      <th>Species</th>\n",
       "      <th>Country</th>\n",
       "      <th>Activity</th>\n",
       "      <th>Injury</th>\n",
       "      <th>Fatal (Y/N)</th>\n",
       "      <th>Sex</th>\n",
       "      <th>Age</th>\n",
       "    </tr>\n",
       "  </thead>\n",
       "  <tbody>\n",
       "    <tr>\n",
       "      <th>0</th>\n",
       "      <td>2018.0</td>\n",
       "      <td>Boating</td>\n",
       "      <td>White shark</td>\n",
       "      <td>USA</td>\n",
       "      <td>Paddling</td>\n",
       "      <td>No injury to occupant, outrigger canoe and pad...</td>\n",
       "      <td>N</td>\n",
       "      <td>F</td>\n",
       "      <td>55-64 years old</td>\n",
       "    </tr>\n",
       "    <tr>\n",
       "      <th>6</th>\n",
       "      <td>2018.0</td>\n",
       "      <td>Unprovoked</td>\n",
       "      <td>Tiger shark</td>\n",
       "      <td>BRAZIL</td>\n",
       "      <td>Swimming</td>\n",
       "      <td>FATAL</td>\n",
       "      <td>Y</td>\n",
       "      <td>M</td>\n",
       "      <td>18-24 years old</td>\n",
       "    </tr>\n",
       "    <tr>\n",
       "      <th>8</th>\n",
       "      <td>2018.0</td>\n",
       "      <td>Unprovoked</td>\n",
       "      <td>Bull shark, 6'</td>\n",
       "      <td>USA</td>\n",
       "      <td>Walking</td>\n",
       "      <td>Lower left leg bitten</td>\n",
       "      <td>N</td>\n",
       "      <td>M</td>\n",
       "      <td>12-17 years old</td>\n",
       "    </tr>\n",
       "    <tr>\n",
       "      <th>10</th>\n",
       "      <td>2018.0</td>\n",
       "      <td>Provoked</td>\n",
       "      <td>Grey reef shark</td>\n",
       "      <td>AUSTRALIA</td>\n",
       "      <td>Feeding sharks</td>\n",
       "      <td>Minor bite to hand by captive shark. PROVOKED ...</td>\n",
       "      <td>N</td>\n",
       "      <td>M</td>\n",
       "      <td>25-34 years old</td>\n",
       "    </tr>\n",
       "    <tr>\n",
       "      <th>13</th>\n",
       "      <td>2018.0</td>\n",
       "      <td>Invalid</td>\n",
       "      <td>Invalid incident</td>\n",
       "      <td>ENGLAND</td>\n",
       "      <td>Fishing</td>\n",
       "      <td>Injured by teeth of a dead porbeagle shark he ...</td>\n",
       "      <td>N</td>\n",
       "      <td>M</td>\n",
       "      <td>18-24 years old</td>\n",
       "    </tr>\n",
       "  </tbody>\n",
       "</table>\n",
       "</div>"
      ],
      "text/plain": [
       "      Year        Type           Species    Country        Activity  \\\n",
       "0   2018.0     Boating       White shark        USA        Paddling   \n",
       "6   2018.0  Unprovoked       Tiger shark     BRAZIL        Swimming   \n",
       "8   2018.0  Unprovoked    Bull shark, 6'        USA         Walking   \n",
       "10  2018.0    Provoked   Grey reef shark  AUSTRALIA  Feeding sharks   \n",
       "13  2018.0     Invalid  Invalid incident    ENGLAND         Fishing   \n",
       "\n",
       "                                               Injury Fatal (Y/N) Sex  \\\n",
       "0   No injury to occupant, outrigger canoe and pad...           N   F   \n",
       "6                                               FATAL           Y   M   \n",
       "8                               Lower left leg bitten           N   M   \n",
       "10  Minor bite to hand by captive shark. PROVOKED ...           N   M   \n",
       "13  Injured by teeth of a dead porbeagle shark he ...           N   M   \n",
       "\n",
       "                Age  \n",
       "0   55-64 years old  \n",
       "6   18-24 years old  \n",
       "8   12-17 years old  \n",
       "10  25-34 years old  \n",
       "13  18-24 years old  "
      ]
     },
     "execution_count": 89,
     "metadata": {},
     "output_type": "execute_result"
    }
   ],
   "source": [
    "#We create a new datebase only with the columns are necessary. \n",
    "df = db[['Year','Type','Species', 'Country','Activity', 'Injury', 'Fatal (Y/N)','Sex', 'Age']]\n",
    "df.head()"
   ]
  },
  {
   "cell_type": "code",
   "execution_count": 90,
   "metadata": {},
   "outputs": [
    {
     "data": {
      "text/plain": [
       "1"
      ]
     },
     "execution_count": 90,
     "metadata": {},
     "output_type": "execute_result"
    }
   ],
   "source": [
    "#Check dupplicated values on the dataframe\n",
    "df.duplicated().sum()"
   ]
  },
  {
   "cell_type": "code",
   "execution_count": 105,
   "metadata": {},
   "outputs": [
    {
     "data": {
      "text/html": [
       "<div>\n",
       "<style scoped>\n",
       "    .dataframe tbody tr th:only-of-type {\n",
       "        vertical-align: middle;\n",
       "    }\n",
       "\n",
       "    .dataframe tbody tr th {\n",
       "        vertical-align: top;\n",
       "    }\n",
       "\n",
       "    .dataframe thead th {\n",
       "        text-align: right;\n",
       "    }\n",
       "</style>\n",
       "<table border=\"1\" class=\"dataframe\">\n",
       "  <thead>\n",
       "    <tr style=\"text-align: right;\">\n",
       "      <th></th>\n",
       "      <th>Date</th>\n",
       "      <th>Year</th>\n",
       "      <th>Type</th>\n",
       "      <th>Country</th>\n",
       "      <th>Area</th>\n",
       "      <th>Location</th>\n",
       "      <th>Activity</th>\n",
       "      <th>Name</th>\n",
       "      <th>Sex</th>\n",
       "      <th>Age</th>\n",
       "      <th>Injury</th>\n",
       "      <th>Fatal (Y/N)</th>\n",
       "      <th>Time</th>\n",
       "      <th>Species</th>\n",
       "      <th>Investigator or Source</th>\n",
       "      <th>pdf</th>\n",
       "      <th>href formula</th>\n",
       "      <th>href</th>\n",
       "      <th>Case Number.1</th>\n",
       "      <th>Case Number.2</th>\n",
       "      <th>original order</th>\n",
       "    </tr>\n",
       "  </thead>\n",
       "  <tbody>\n",
       "    <tr>\n",
       "      <th>0</th>\n",
       "      <td>25-Jun-2018</td>\n",
       "      <td>2018.0</td>\n",
       "      <td>Boating</td>\n",
       "      <td>USA</td>\n",
       "      <td>California</td>\n",
       "      <td>Oceanside, San Diego County</td>\n",
       "      <td>Paddling</td>\n",
       "      <td>Julie Wolfe</td>\n",
       "      <td>F</td>\n",
       "      <td>55-64 years old</td>\n",
       "      <td>No injury to occupant, outrigger canoe and pad...</td>\n",
       "      <td>N</td>\n",
       "      <td>18h00</td>\n",
       "      <td>White shark</td>\n",
       "      <td>R. Collier, GSAF</td>\n",
       "      <td>2018.06.25-Wolfe.pdf</td>\n",
       "      <td>http://sharkattackfile.net/spreadsheets/pdf_di...</td>\n",
       "      <td>http://sharkattackfile.net/spreadsheets/pdf_di...</td>\n",
       "      <td>2018.06.25</td>\n",
       "      <td>2018.06.25</td>\n",
       "      <td>6303.0</td>\n",
       "    </tr>\n",
       "    <tr>\n",
       "      <th>6</th>\n",
       "      <td>03-Jun-2018</td>\n",
       "      <td>2018.0</td>\n",
       "      <td>Unprovoked</td>\n",
       "      <td>BRAZIL</td>\n",
       "      <td>Pernambuco</td>\n",
       "      <td>Piedade Beach, Recife</td>\n",
       "      <td>Swimming</td>\n",
       "      <td>Jose Ernesto da Silva</td>\n",
       "      <td>M</td>\n",
       "      <td>18-24 years old</td>\n",
       "      <td>FATAL</td>\n",
       "      <td>Y</td>\n",
       "      <td>Late afternoon</td>\n",
       "      <td>Tiger shark</td>\n",
       "      <td>Diario de Pernambuco, 6/4/2018</td>\n",
       "      <td>2018.06.03.a-daSilva.pdf</td>\n",
       "      <td>http://sharkattackfile.net/spreadsheets/pdf_di...</td>\n",
       "      <td>http://sharkattackfile.net/spreadsheets/pdf_di...</td>\n",
       "      <td>2018.06.03.a</td>\n",
       "      <td>2018.06.03.a</td>\n",
       "      <td>6297.0</td>\n",
       "    </tr>\n",
       "    <tr>\n",
       "      <th>8</th>\n",
       "      <td>26-May-2018</td>\n",
       "      <td>2018.0</td>\n",
       "      <td>Unprovoked</td>\n",
       "      <td>USA</td>\n",
       "      <td>Florida</td>\n",
       "      <td>Cocoa Beach, Brevard  County</td>\n",
       "      <td>Walking</td>\n",
       "      <td>Cody High</td>\n",
       "      <td>M</td>\n",
       "      <td>12-17 years old</td>\n",
       "      <td>Lower left leg bitten</td>\n",
       "      <td>N</td>\n",
       "      <td>17h00</td>\n",
       "      <td>Bull shark, 6'</td>\n",
       "      <td>K.McMurray, TrackingSharks.com</td>\n",
       "      <td>2018.05.26.b-High.pdf</td>\n",
       "      <td>http://sharkattackfile.net/spreadsheets/pdf_di...</td>\n",
       "      <td>http://sharkattackfile.net/spreadsheets/pdf_di...</td>\n",
       "      <td>2018.05.26.b</td>\n",
       "      <td>2018.05.26.b</td>\n",
       "      <td>6295.0</td>\n",
       "    </tr>\n",
       "    <tr>\n",
       "      <th>10</th>\n",
       "      <td>24-May-2018</td>\n",
       "      <td>2018.0</td>\n",
       "      <td>Provoked</td>\n",
       "      <td>AUSTRALIA</td>\n",
       "      <td>Queensland</td>\n",
       "      <td>Cairns Aquarium</td>\n",
       "      <td>Feeding sharks</td>\n",
       "      <td>male</td>\n",
       "      <td>M</td>\n",
       "      <td>25-34 years old</td>\n",
       "      <td>Minor bite to hand by captive shark. PROVOKED ...</td>\n",
       "      <td>N</td>\n",
       "      <td>Morning</td>\n",
       "      <td>Grey reef shark</td>\n",
       "      <td>ABC.net.au ,05/24/2018</td>\n",
       "      <td>2018.05.24-CairnsAquarium.pdf</td>\n",
       "      <td>http://sharkattackfile.net/spreadsheets/pdf_di...</td>\n",
       "      <td>http://sharkattackfile.net/spreadsheets/pdf_di...</td>\n",
       "      <td>2018.05.24</td>\n",
       "      <td>2018.05.24</td>\n",
       "      <td>6293.0</td>\n",
       "    </tr>\n",
       "    <tr>\n",
       "      <th>13</th>\n",
       "      <td>13-May-2018</td>\n",
       "      <td>2018.0</td>\n",
       "      <td>Invalid</td>\n",
       "      <td>ENGLAND</td>\n",
       "      <td>Cornwall</td>\n",
       "      <td>Off Land's End</td>\n",
       "      <td>Fishing</td>\n",
       "      <td>Max Berryman</td>\n",
       "      <td>M</td>\n",
       "      <td>18-24 years old</td>\n",
       "      <td>Injured by teeth of a dead porbeagle shark he ...</td>\n",
       "      <td>N</td>\n",
       "      <td>08h15</td>\n",
       "      <td>Invalid incident</td>\n",
       "      <td>K. McMurray, TrackingSharks.com</td>\n",
       "      <td>2018.05.13.a-Berryman.pdf</td>\n",
       "      <td>http://sharkattackfile.net/spreadsheets/pdf_di...</td>\n",
       "      <td>http://sharkattackfile.net/spreadsheets/pdf_di...</td>\n",
       "      <td>2018.05.13.a</td>\n",
       "      <td>2018.05.13.a</td>\n",
       "      <td>6290.0</td>\n",
       "    </tr>\n",
       "    <tr>\n",
       "      <th>...</th>\n",
       "      <td>...</td>\n",
       "      <td>...</td>\n",
       "      <td>...</td>\n",
       "      <td>...</td>\n",
       "      <td>...</td>\n",
       "      <td>...</td>\n",
       "      <td>...</td>\n",
       "      <td>...</td>\n",
       "      <td>...</td>\n",
       "      <td>...</td>\n",
       "      <td>...</td>\n",
       "      <td>...</td>\n",
       "      <td>...</td>\n",
       "      <td>...</td>\n",
       "      <td>...</td>\n",
       "      <td>...</td>\n",
       "      <td>...</td>\n",
       "      <td>...</td>\n",
       "      <td>...</td>\n",
       "      <td>...</td>\n",
       "      <td>...</td>\n",
       "    </tr>\n",
       "    <tr>\n",
       "      <th>5814</th>\n",
       "      <td>25-Nov-1880</td>\n",
       "      <td>1880.0</td>\n",
       "      <td>Unprovoked</td>\n",
       "      <td>AUSTRALIA</td>\n",
       "      <td>Queensland</td>\n",
       "      <td>Petrie Bight, Brisbane River</td>\n",
       "      <td>Swimming</td>\n",
       "      <td>Alexey Drury</td>\n",
       "      <td>M</td>\n",
       "      <td>12-17 years old</td>\n",
       "      <td>Feet bitten, surgically amputated FATAL</td>\n",
       "      <td>Y</td>\n",
       "      <td>Afternoon</td>\n",
       "      <td>Bull shark</td>\n",
       "      <td>Bucks County Gazette, 2/10/1881, Sunday Mail (...</td>\n",
       "      <td>1880.11.25-AlexeyDrury.pdf</td>\n",
       "      <td>http://sharkattackfile.net/spreadsheets/pdf_di...</td>\n",
       "      <td>http://sharkattackfile.net/spreadsheets/pdf_di...</td>\n",
       "      <td>1880.11.25</td>\n",
       "      <td>1880.11.25</td>\n",
       "      <td>489.0</td>\n",
       "    </tr>\n",
       "    <tr>\n",
       "      <th>5922</th>\n",
       "      <td>13-May-1868</td>\n",
       "      <td>1868.0</td>\n",
       "      <td>Unprovoked</td>\n",
       "      <td>INDIA</td>\n",
       "      <td>Hoogly River</td>\n",
       "      <td>Ghat</td>\n",
       "      <td>Standing</td>\n",
       "      <td>male</td>\n",
       "      <td>M</td>\n",
       "      <td>35-44 years old</td>\n",
       "      <td>FATAL, upper left thigh, groin &amp; buttocks seve...</td>\n",
       "      <td>Y</td>\n",
       "      <td>Before 10h30</td>\n",
       "      <td>Identified as C. gangeticus by Dr. J. Fayrer</td>\n",
       "      <td>J. Fayrer, M.D.</td>\n",
       "      <td>1868.05.13-Hindoo.pdf</td>\n",
       "      <td>http://sharkattackfile.net/spreadsheets/pdf_di...</td>\n",
       "      <td>http://sharkattackfile.net/spreadsheets/pdf_di...</td>\n",
       "      <td>1868.05.13</td>\n",
       "      <td>1868.05.13</td>\n",
       "      <td>381.0</td>\n",
       "    </tr>\n",
       "    <tr>\n",
       "      <th>6242</th>\n",
       "      <td>1960s</td>\n",
       "      <td>0.0</td>\n",
       "      <td>Unprovoked</td>\n",
       "      <td>IRAQ</td>\n",
       "      <td>Basrah</td>\n",
       "      <td>Shatt-al-Arab River</td>\n",
       "      <td>Swimming naked near a date palm where many dat...</td>\n",
       "      <td>male</td>\n",
       "      <td>M</td>\n",
       "      <td>Under 12 years old</td>\n",
       "      <td>Arm severed</td>\n",
       "      <td>N</td>\n",
       "      <td>Afternoon</td>\n",
       "      <td>Bull shark</td>\n",
       "      <td>B.W. Coad &amp; L.A.J. Al-Hassan</td>\n",
       "      <td>ND-0064-Shatt-al-Arab.pdf</td>\n",
       "      <td>http://sharkattackfile.net/spreadsheets/pdf_di...</td>\n",
       "      <td>http://sharkattackfile.net/spreadsheets/pdf_di...</td>\n",
       "      <td>ND.0064</td>\n",
       "      <td>ND.0064</td>\n",
       "      <td>61.0</td>\n",
       "    </tr>\n",
       "    <tr>\n",
       "      <th>6243</th>\n",
       "      <td>1960s</td>\n",
       "      <td>0.0</td>\n",
       "      <td>Unprovoked</td>\n",
       "      <td>IRAQ</td>\n",
       "      <td>Basrah</td>\n",
       "      <td>Shatt-al-Arab River near Abu al Khasib</td>\n",
       "      <td>Swimming in section of river used for washing ...</td>\n",
       "      <td>male</td>\n",
       "      <td>M</td>\n",
       "      <td>12-17 years old</td>\n",
       "      <td>Right leg lacerated &amp; surgically amputated</td>\n",
       "      <td>N</td>\n",
       "      <td>Afternoon</td>\n",
       "      <td>Bull shark</td>\n",
       "      <td>B.W. Coad &amp; L.A.J. Al-Hassan</td>\n",
       "      <td>ND-0063-Shatt-al-Arab.pdf</td>\n",
       "      <td>http://sharkattackfile.net/spreadsheets/pdf_di...</td>\n",
       "      <td>http://sharkattackfile.net/spreadsheets/pdf_di...</td>\n",
       "      <td>ND.0063</td>\n",
       "      <td>ND.0063</td>\n",
       "      <td>60.0</td>\n",
       "    </tr>\n",
       "    <tr>\n",
       "      <th>6265</th>\n",
       "      <td>1941-1942</td>\n",
       "      <td>0.0</td>\n",
       "      <td>Unprovoked</td>\n",
       "      <td>IRAQ</td>\n",
       "      <td>Basrah</td>\n",
       "      <td>Shatt-el Arab River near a small boat stand</td>\n",
       "      <td>Swimming</td>\n",
       "      <td>male</td>\n",
       "      <td>M</td>\n",
       "      <td>12-17 years old</td>\n",
       "      <td>FATAL, left leg bitten with severe blood loss</td>\n",
       "      <td>Y</td>\n",
       "      <td>Afternoon</td>\n",
       "      <td>Bull shark</td>\n",
       "      <td>B.W. Coad &amp; L.A.J. Al-Hassan</td>\n",
       "      <td>ND-0038-Shatt-al-Arab.pdf</td>\n",
       "      <td>http://sharkattackfile.net/spreadsheets/pdf_di...</td>\n",
       "      <td>http://sharkattackfile.net/spreadsheets/pdf_di...</td>\n",
       "      <td>ND.0038</td>\n",
       "      <td>ND.0038</td>\n",
       "      <td>38.0</td>\n",
       "    </tr>\n",
       "  </tbody>\n",
       "</table>\n",
       "<p>1430 rows × 21 columns</p>\n",
       "</div>"
      ],
      "text/plain": [
       "             Date    Year        Type    Country          Area  \\\n",
       "0     25-Jun-2018  2018.0     Boating        USA    California   \n",
       "6     03-Jun-2018  2018.0  Unprovoked     BRAZIL    Pernambuco   \n",
       "8     26-May-2018  2018.0  Unprovoked        USA       Florida   \n",
       "10    24-May-2018  2018.0    Provoked  AUSTRALIA    Queensland   \n",
       "13    13-May-2018  2018.0     Invalid    ENGLAND      Cornwall   \n",
       "...           ...     ...         ...        ...           ...   \n",
       "5814  25-Nov-1880  1880.0  Unprovoked  AUSTRALIA    Queensland   \n",
       "5922  13-May-1868  1868.0  Unprovoked      INDIA  Hoogly River   \n",
       "6242        1960s     0.0  Unprovoked       IRAQ        Basrah   \n",
       "6243        1960s     0.0  Unprovoked       IRAQ        Basrah   \n",
       "6265    1941-1942     0.0  Unprovoked       IRAQ        Basrah   \n",
       "\n",
       "                                         Location  \\\n",
       "0                     Oceanside, San Diego County   \n",
       "6                           Piedade Beach, Recife   \n",
       "8                    Cocoa Beach, Brevard  County   \n",
       "10                                Cairns Aquarium   \n",
       "13                                 Off Land's End   \n",
       "...                                           ...   \n",
       "5814                 Petrie Bight, Brisbane River   \n",
       "5922                                         Ghat   \n",
       "6242                         Shatt-al-Arab River    \n",
       "6243       Shatt-al-Arab River near Abu al Khasib   \n",
       "6265  Shatt-el Arab River near a small boat stand   \n",
       "\n",
       "                                               Activity  \\\n",
       "0                                              Paddling   \n",
       "6                                              Swimming   \n",
       "8                                               Walking   \n",
       "10                                       Feeding sharks   \n",
       "13                                              Fishing   \n",
       "...                                                 ...   \n",
       "5814                                           Swimming   \n",
       "5922                                           Standing   \n",
       "6242  Swimming naked near a date palm where many dat...   \n",
       "6243  Swimming in section of river used for washing ...   \n",
       "6265                                           Swimming   \n",
       "\n",
       "                        Name Sex                 Age  \\\n",
       "0                Julie Wolfe   F     55-64 years old   \n",
       "6     Jose Ernesto da Silva    M     18-24 years old   \n",
       "8                  Cody High   M     12-17 years old   \n",
       "10                      male   M     25-34 years old   \n",
       "13              Max Berryman   M     18-24 years old   \n",
       "...                      ...  ..                 ...   \n",
       "5814            Alexey Drury   M     12-17 years old   \n",
       "5922                    male   M     35-44 years old   \n",
       "6242                    male   M  Under 12 years old   \n",
       "6243                    male   M     12-17 years old   \n",
       "6265                    male   M     12-17 years old   \n",
       "\n",
       "                                                 Injury Fatal (Y/N)  \\\n",
       "0     No injury to occupant, outrigger canoe and pad...           N   \n",
       "6                                                 FATAL           Y   \n",
       "8                                 Lower left leg bitten           N   \n",
       "10    Minor bite to hand by captive shark. PROVOKED ...           N   \n",
       "13    Injured by teeth of a dead porbeagle shark he ...           N   \n",
       "...                                                 ...         ...   \n",
       "5814            Feet bitten, surgically amputated FATAL           Y   \n",
       "5922  FATAL, upper left thigh, groin & buttocks seve...           Y   \n",
       "6242                                        Arm severed           N   \n",
       "6243         Right leg lacerated & surgically amputated           N   \n",
       "6265      FATAL, left leg bitten with severe blood loss           Y   \n",
       "\n",
       "                Time                                       Species  \\\n",
       "0              18h00                                   White shark   \n",
       "6     Late afternoon                                   Tiger shark   \n",
       "8              17h00                                Bull shark, 6'   \n",
       "10           Morning                               Grey reef shark   \n",
       "13             08h15                              Invalid incident   \n",
       "...              ...                                           ...   \n",
       "5814       Afternoon                                    Bull shark   \n",
       "5922    Before 10h30  Identified as C. gangeticus by Dr. J. Fayrer   \n",
       "6242       Afternoon                                    Bull shark   \n",
       "6243       Afternoon                                    Bull shark   \n",
       "6265       Afternoon                                    Bull shark   \n",
       "\n",
       "                                 Investigator or Source  \\\n",
       "0                                      R. Collier, GSAF   \n",
       "6                        Diario de Pernambuco, 6/4/2018   \n",
       "8                        K.McMurray, TrackingSharks.com   \n",
       "10                               ABC.net.au ,05/24/2018   \n",
       "13                      K. McMurray, TrackingSharks.com   \n",
       "...                                                 ...   \n",
       "5814  Bucks County Gazette, 2/10/1881, Sunday Mail (...   \n",
       "5922                                    J. Fayrer, M.D.   \n",
       "6242                       B.W. Coad & L.A.J. Al-Hassan   \n",
       "6243                       B.W. Coad & L.A.J. Al-Hassan   \n",
       "6265                       B.W. Coad & L.A.J. Al-Hassan   \n",
       "\n",
       "                                pdf  \\\n",
       "0              2018.06.25-Wolfe.pdf   \n",
       "6          2018.06.03.a-daSilva.pdf   \n",
       "8             2018.05.26.b-High.pdf   \n",
       "10    2018.05.24-CairnsAquarium.pdf   \n",
       "13        2018.05.13.a-Berryman.pdf   \n",
       "...                             ...   \n",
       "5814     1880.11.25-AlexeyDrury.pdf   \n",
       "5922          1868.05.13-Hindoo.pdf   \n",
       "6242      ND-0064-Shatt-al-Arab.pdf   \n",
       "6243      ND-0063-Shatt-al-Arab.pdf   \n",
       "6265      ND-0038-Shatt-al-Arab.pdf   \n",
       "\n",
       "                                           href formula  \\\n",
       "0     http://sharkattackfile.net/spreadsheets/pdf_di...   \n",
       "6     http://sharkattackfile.net/spreadsheets/pdf_di...   \n",
       "8     http://sharkattackfile.net/spreadsheets/pdf_di...   \n",
       "10    http://sharkattackfile.net/spreadsheets/pdf_di...   \n",
       "13    http://sharkattackfile.net/spreadsheets/pdf_di...   \n",
       "...                                                 ...   \n",
       "5814  http://sharkattackfile.net/spreadsheets/pdf_di...   \n",
       "5922  http://sharkattackfile.net/spreadsheets/pdf_di...   \n",
       "6242  http://sharkattackfile.net/spreadsheets/pdf_di...   \n",
       "6243  http://sharkattackfile.net/spreadsheets/pdf_di...   \n",
       "6265  http://sharkattackfile.net/spreadsheets/pdf_di...   \n",
       "\n",
       "                                                   href Case Number.1  \\\n",
       "0     http://sharkattackfile.net/spreadsheets/pdf_di...    2018.06.25   \n",
       "6     http://sharkattackfile.net/spreadsheets/pdf_di...  2018.06.03.a   \n",
       "8     http://sharkattackfile.net/spreadsheets/pdf_di...  2018.05.26.b   \n",
       "10    http://sharkattackfile.net/spreadsheets/pdf_di...    2018.05.24   \n",
       "13    http://sharkattackfile.net/spreadsheets/pdf_di...  2018.05.13.a   \n",
       "...                                                 ...           ...   \n",
       "5814  http://sharkattackfile.net/spreadsheets/pdf_di...    1880.11.25   \n",
       "5922  http://sharkattackfile.net/spreadsheets/pdf_di...    1868.05.13   \n",
       "6242  http://sharkattackfile.net/spreadsheets/pdf_di...       ND.0064   \n",
       "6243  http://sharkattackfile.net/spreadsheets/pdf_di...       ND.0063   \n",
       "6265  http://sharkattackfile.net/spreadsheets/pdf_di...       ND.0038   \n",
       "\n",
       "     Case Number.2  original order  \n",
       "0       2018.06.25          6303.0  \n",
       "6     2018.06.03.a          6297.0  \n",
       "8     2018.05.26.b          6295.0  \n",
       "10      2018.05.24          6293.0  \n",
       "13    2018.05.13.a          6290.0  \n",
       "...            ...             ...  \n",
       "5814    1880.11.25           489.0  \n",
       "5922    1868.05.13           381.0  \n",
       "6242       ND.0064            61.0  \n",
       "6243       ND.0063            60.0  \n",
       "6265       ND.0038            38.0  \n",
       "\n",
       "[1430 rows x 21 columns]"
      ]
     },
     "execution_count": 105,
     "metadata": {},
     "output_type": "execute_result"
    }
   ],
   "source": [
    "db.drop_duplicates()"
   ]
  },
  {
   "cell_type": "code",
   "execution_count": 91,
   "metadata": {},
   "outputs": [
    {
     "data": {
      "text/plain": [
       "{' N', '2017', 'M', 'N', 'UNKNOWN', 'Y'}"
      ]
     },
     "execution_count": 91,
     "metadata": {},
     "output_type": "execute_result"
    }
   ],
   "source": [
    "set(df['Fatal (Y/N)'])"
   ]
  },
  {
   "cell_type": "code",
   "execution_count": 92,
   "metadata": {},
   "outputs": [
    {
     "name": "stderr",
     "output_type": "stream",
     "text": [
      "<ipython-input-92-9c170482cda7>:3: SettingWithCopyWarning: \n",
      "A value is trying to be set on a copy of a slice from a DataFrame.\n",
      "Try using .loc[row_indexer,col_indexer] = value instead\n",
      "\n",
      "See the caveats in the documentation: https://pandas.pydata.org/pandas-docs/stable/user_guide/indexing.html#returning-a-view-versus-a-copy\n",
      "  df['Fatal (Y/N)'] = df['Fatal (Y/N)'].str.strip()\n"
     ]
    }
   ],
   "source": [
    "#Let's clean this column\n",
    "#str.strip() delete blank spaces at start at at the end\n",
    "df['Fatal (Y/N)'] = df['Fatal (Y/N)'].str.strip()"
   ]
  },
  {
   "cell_type": "code",
   "execution_count": 104,
   "metadata": {},
   "outputs": [
    {
     "name": "stderr",
     "output_type": "stream",
     "text": [
      "<ipython-input-104-9b7de5ff373c>:2: SettingWithCopyWarning: \n",
      "A value is trying to be set on a copy of a slice from a DataFrame.\n",
      "Try using .loc[row_indexer,col_indexer] = value instead\n",
      "\n",
      "See the caveats in the documentation: https://pandas.pydata.org/pandas-docs/stable/user_guide/indexing.html#returning-a-view-versus-a-copy\n",
      "  df['Fatal (Y/N)'] = df['Fatal (Y/N)'].fillna('U')\n",
      "<ipython-input-104-9b7de5ff373c>:3: SettingWithCopyWarning: \n",
      "A value is trying to be set on a copy of a slice from a DataFrame.\n",
      "Try using .loc[row_indexer,col_indexer] = value instead\n",
      "\n",
      "See the caveats in the documentation: https://pandas.pydata.org/pandas-docs/stable/user_guide/indexing.html#returning-a-view-versus-a-copy\n",
      "  df['Fatal (Y/N)'] = df['Fatal (Y/N)'].str.replace('n', 'N')\n",
      "<ipython-input-104-9b7de5ff373c>:4: SettingWithCopyWarning: \n",
      "A value is trying to be set on a copy of a slice from a DataFrame.\n",
      "Try using .loc[row_indexer,col_indexer] = value instead\n",
      "\n",
      "See the caveats in the documentation: https://pandas.pydata.org/pandas-docs/stable/user_guide/indexing.html#returning-a-view-versus-a-copy\n",
      "  df['Fatal (Y/N)'] = df['Fatal (Y/N)'].str.replace('N ', 'N')\n",
      "<ipython-input-104-9b7de5ff373c>:5: SettingWithCopyWarning: \n",
      "A value is trying to be set on a copy of a slice from a DataFrame.\n",
      "Try using .loc[row_indexer,col_indexer] = value instead\n",
      "\n",
      "See the caveats in the documentation: https://pandas.pydata.org/pandas-docs/stable/user_guide/indexing.html#returning-a-view-versus-a-copy\n",
      "  df['Fatal (Y/N)'] = df['Fatal (Y/N)'].str.replace(' N', 'N')\n",
      "<ipython-input-104-9b7de5ff373c>:6: SettingWithCopyWarning: \n",
      "A value is trying to be set on a copy of a slice from a DataFrame.\n",
      "Try using .loc[row_indexer,col_indexer] = value instead\n",
      "\n",
      "See the caveats in the documentation: https://pandas.pydata.org/pandas-docs/stable/user_guide/indexing.html#returning-a-view-versus-a-copy\n",
      "  df['Fatal (Y/N)'] = df['Fatal (Y/N)'].str.replace('#VALUE!', 'U')\n",
      "<ipython-input-104-9b7de5ff373c>:7: SettingWithCopyWarning: \n",
      "A value is trying to be set on a copy of a slice from a DataFrame.\n",
      "Try using .loc[row_indexer,col_indexer] = value instead\n",
      "\n",
      "See the caveats in the documentation: https://pandas.pydata.org/pandas-docs/stable/user_guide/indexing.html#returning-a-view-versus-a-copy\n",
      "  df['Fatal (Y/N)'] = df['Fatal (Y/N)'].str.replace('y', 'Y')\n",
      "<ipython-input-104-9b7de5ff373c>:8: SettingWithCopyWarning: \n",
      "A value is trying to be set on a copy of a slice from a DataFrame.\n",
      "Try using .loc[row_indexer,col_indexer] = value instead\n",
      "\n",
      "See the caveats in the documentation: https://pandas.pydata.org/pandas-docs/stable/user_guide/indexing.html#returning-a-view-versus-a-copy\n",
      "  df['Fatal (Y/N)'] = df['Fatal (Y/N)'].str.replace('UNKNOWN', 'U')\n",
      "<ipython-input-104-9b7de5ff373c>:9: SettingWithCopyWarning: \n",
      "A value is trying to be set on a copy of a slice from a DataFrame.\n",
      "Try using .loc[row_indexer,col_indexer] = value instead\n",
      "\n",
      "See the caveats in the documentation: https://pandas.pydata.org/pandas-docs/stable/user_guide/indexing.html#returning-a-view-versus-a-copy\n",
      "  df['Fatal (Y/N)'] = df['Fatal (Y/N)'].str.replace('2017', 'U')\n",
      "<ipython-input-104-9b7de5ff373c>:10: SettingWithCopyWarning: \n",
      "A value is trying to be set on a copy of a slice from a DataFrame.\n",
      "Try using .loc[row_indexer,col_indexer] = value instead\n",
      "\n",
      "See the caveats in the documentation: https://pandas.pydata.org/pandas-docs/stable/user_guide/indexing.html#returning-a-view-versus-a-copy\n",
      "  df['Fatal (Y/N)'] = df['Fatal (Y/N)'].str.replace('M', 'U')\n",
      "C:\\Users\\pinil\\anaconda3\\lib\\site-packages\\pandas\\core\\frame.py:4125: SettingWithCopyWarning: \n",
      "A value is trying to be set on a copy of a slice from a DataFrame\n",
      "\n",
      "See the caveats in the documentation: https://pandas.pydata.org/pandas-docs/stable/user_guide/indexing.html#returning-a-view-versus-a-copy\n",
      "  return super().rename(\n"
     ]
    }
   ],
   "source": [
    "#UNKNOWN must be important, we'll keep it and rename the column ('Fatal (Y/N/U)')\n",
    "df['Fatal (Y/N)'] = df['Fatal (Y/N)'].fillna('U')\n",
    "df['Fatal (Y/N)'] = df['Fatal (Y/N)'].str.replace('n', 'N')\n",
    "df['Fatal (Y/N)'] = df['Fatal (Y/N)'].str.replace('N ', 'N')\n",
    "df['Fatal (Y/N)'] = df['Fatal (Y/N)'].str.replace(' N', 'N')\n",
    "df['Fatal (Y/N)'] = df['Fatal (Y/N)'].str.replace('#VALUE!', 'U')\n",
    "df['Fatal (Y/N)'] = df['Fatal (Y/N)'].str.replace('y', 'Y')\n",
    "df['Fatal (Y/N)'] = df['Fatal (Y/N)'].str.replace('UNKNOWN', 'U')\n",
    "df['Fatal (Y/N)'] = df['Fatal (Y/N)'].str.replace('2017', 'U')\n",
    "df['Fatal (Y/N)'] = df['Fatal (Y/N)'].str.replace('M', 'U')\n",
    "df.rename(columns={'Fatal (Y/N)': 'Fatal (Y/N/U)'}, inplace=True)\n"
   ]
  },
  {
   "cell_type": "code",
   "execution_count": 93,
   "metadata": {},
   "outputs": [
    {
     "ename": "KeyError",
     "evalue": "'Fatal (Y/N/U)'",
     "output_type": "error",
     "traceback": [
      "\u001b[1;31m---------------------------------------------------------------------------\u001b[0m",
      "\u001b[1;31mKeyError\u001b[0m                                  Traceback (most recent call last)",
      "\u001b[1;32m~\\anaconda3\\lib\\site-packages\\pandas\\core\\indexes\\base.py\u001b[0m in \u001b[0;36mget_loc\u001b[1;34m(self, key, method, tolerance)\u001b[0m\n\u001b[0;32m   2645\u001b[0m             \u001b[1;32mtry\u001b[0m\u001b[1;33m:\u001b[0m\u001b[1;33m\u001b[0m\u001b[1;33m\u001b[0m\u001b[0m\n\u001b[1;32m-> 2646\u001b[1;33m                 \u001b[1;32mreturn\u001b[0m \u001b[0mself\u001b[0m\u001b[1;33m.\u001b[0m\u001b[0m_engine\u001b[0m\u001b[1;33m.\u001b[0m\u001b[0mget_loc\u001b[0m\u001b[1;33m(\u001b[0m\u001b[0mkey\u001b[0m\u001b[1;33m)\u001b[0m\u001b[1;33m\u001b[0m\u001b[1;33m\u001b[0m\u001b[0m\n\u001b[0m\u001b[0;32m   2647\u001b[0m             \u001b[1;32mexcept\u001b[0m \u001b[0mKeyError\u001b[0m\u001b[1;33m:\u001b[0m\u001b[1;33m\u001b[0m\u001b[1;33m\u001b[0m\u001b[0m\n",
      "\u001b[1;32mpandas\\_libs\\index.pyx\u001b[0m in \u001b[0;36mpandas._libs.index.IndexEngine.get_loc\u001b[1;34m()\u001b[0m\n",
      "\u001b[1;32mpandas\\_libs\\index.pyx\u001b[0m in \u001b[0;36mpandas._libs.index.IndexEngine.get_loc\u001b[1;34m()\u001b[0m\n",
      "\u001b[1;32mpandas\\_libs\\hashtable_class_helper.pxi\u001b[0m in \u001b[0;36mpandas._libs.hashtable.PyObjectHashTable.get_item\u001b[1;34m()\u001b[0m\n",
      "\u001b[1;32mpandas\\_libs\\hashtable_class_helper.pxi\u001b[0m in \u001b[0;36mpandas._libs.hashtable.PyObjectHashTable.get_item\u001b[1;34m()\u001b[0m\n",
      "\u001b[1;31mKeyError\u001b[0m: 'Fatal (Y/N/U)'",
      "\nDuring handling of the above exception, another exception occurred:\n",
      "\u001b[1;31mKeyError\u001b[0m                                  Traceback (most recent call last)",
      "\u001b[1;32m<ipython-input-93-13dde5e654c1>\u001b[0m in \u001b[0;36m<module>\u001b[1;34m\u001b[0m\n\u001b[1;32m----> 1\u001b[1;33m \u001b[0mset\u001b[0m\u001b[1;33m(\u001b[0m\u001b[0mdf\u001b[0m\u001b[1;33m[\u001b[0m\u001b[1;34m'Fatal (Y/N/U)'\u001b[0m\u001b[1;33m]\u001b[0m\u001b[1;33m)\u001b[0m\u001b[1;33m\u001b[0m\u001b[1;33m\u001b[0m\u001b[0m\n\u001b[0m",
      "\u001b[1;32m~\\anaconda3\\lib\\site-packages\\pandas\\core\\frame.py\u001b[0m in \u001b[0;36m__getitem__\u001b[1;34m(self, key)\u001b[0m\n\u001b[0;32m   2798\u001b[0m             \u001b[1;32mif\u001b[0m \u001b[0mself\u001b[0m\u001b[1;33m.\u001b[0m\u001b[0mcolumns\u001b[0m\u001b[1;33m.\u001b[0m\u001b[0mnlevels\u001b[0m \u001b[1;33m>\u001b[0m \u001b[1;36m1\u001b[0m\u001b[1;33m:\u001b[0m\u001b[1;33m\u001b[0m\u001b[1;33m\u001b[0m\u001b[0m\n\u001b[0;32m   2799\u001b[0m                 \u001b[1;32mreturn\u001b[0m \u001b[0mself\u001b[0m\u001b[1;33m.\u001b[0m\u001b[0m_getitem_multilevel\u001b[0m\u001b[1;33m(\u001b[0m\u001b[0mkey\u001b[0m\u001b[1;33m)\u001b[0m\u001b[1;33m\u001b[0m\u001b[1;33m\u001b[0m\u001b[0m\n\u001b[1;32m-> 2800\u001b[1;33m             \u001b[0mindexer\u001b[0m \u001b[1;33m=\u001b[0m \u001b[0mself\u001b[0m\u001b[1;33m.\u001b[0m\u001b[0mcolumns\u001b[0m\u001b[1;33m.\u001b[0m\u001b[0mget_loc\u001b[0m\u001b[1;33m(\u001b[0m\u001b[0mkey\u001b[0m\u001b[1;33m)\u001b[0m\u001b[1;33m\u001b[0m\u001b[1;33m\u001b[0m\u001b[0m\n\u001b[0m\u001b[0;32m   2801\u001b[0m             \u001b[1;32mif\u001b[0m \u001b[0mis_integer\u001b[0m\u001b[1;33m(\u001b[0m\u001b[0mindexer\u001b[0m\u001b[1;33m)\u001b[0m\u001b[1;33m:\u001b[0m\u001b[1;33m\u001b[0m\u001b[1;33m\u001b[0m\u001b[0m\n\u001b[0;32m   2802\u001b[0m                 \u001b[0mindexer\u001b[0m \u001b[1;33m=\u001b[0m \u001b[1;33m[\u001b[0m\u001b[0mindexer\u001b[0m\u001b[1;33m]\u001b[0m\u001b[1;33m\u001b[0m\u001b[1;33m\u001b[0m\u001b[0m\n",
      "\u001b[1;32m~\\anaconda3\\lib\\site-packages\\pandas\\core\\indexes\\base.py\u001b[0m in \u001b[0;36mget_loc\u001b[1;34m(self, key, method, tolerance)\u001b[0m\n\u001b[0;32m   2646\u001b[0m                 \u001b[1;32mreturn\u001b[0m \u001b[0mself\u001b[0m\u001b[1;33m.\u001b[0m\u001b[0m_engine\u001b[0m\u001b[1;33m.\u001b[0m\u001b[0mget_loc\u001b[0m\u001b[1;33m(\u001b[0m\u001b[0mkey\u001b[0m\u001b[1;33m)\u001b[0m\u001b[1;33m\u001b[0m\u001b[1;33m\u001b[0m\u001b[0m\n\u001b[0;32m   2647\u001b[0m             \u001b[1;32mexcept\u001b[0m \u001b[0mKeyError\u001b[0m\u001b[1;33m:\u001b[0m\u001b[1;33m\u001b[0m\u001b[1;33m\u001b[0m\u001b[0m\n\u001b[1;32m-> 2648\u001b[1;33m                 \u001b[1;32mreturn\u001b[0m \u001b[0mself\u001b[0m\u001b[1;33m.\u001b[0m\u001b[0m_engine\u001b[0m\u001b[1;33m.\u001b[0m\u001b[0mget_loc\u001b[0m\u001b[1;33m(\u001b[0m\u001b[0mself\u001b[0m\u001b[1;33m.\u001b[0m\u001b[0m_maybe_cast_indexer\u001b[0m\u001b[1;33m(\u001b[0m\u001b[0mkey\u001b[0m\u001b[1;33m)\u001b[0m\u001b[1;33m)\u001b[0m\u001b[1;33m\u001b[0m\u001b[1;33m\u001b[0m\u001b[0m\n\u001b[0m\u001b[0;32m   2649\u001b[0m         \u001b[0mindexer\u001b[0m \u001b[1;33m=\u001b[0m \u001b[0mself\u001b[0m\u001b[1;33m.\u001b[0m\u001b[0mget_indexer\u001b[0m\u001b[1;33m(\u001b[0m\u001b[1;33m[\u001b[0m\u001b[0mkey\u001b[0m\u001b[1;33m]\u001b[0m\u001b[1;33m,\u001b[0m \u001b[0mmethod\u001b[0m\u001b[1;33m=\u001b[0m\u001b[0mmethod\u001b[0m\u001b[1;33m,\u001b[0m \u001b[0mtolerance\u001b[0m\u001b[1;33m=\u001b[0m\u001b[0mtolerance\u001b[0m\u001b[1;33m)\u001b[0m\u001b[1;33m\u001b[0m\u001b[1;33m\u001b[0m\u001b[0m\n\u001b[0;32m   2650\u001b[0m         \u001b[1;32mif\u001b[0m \u001b[0mindexer\u001b[0m\u001b[1;33m.\u001b[0m\u001b[0mndim\u001b[0m \u001b[1;33m>\u001b[0m \u001b[1;36m1\u001b[0m \u001b[1;32mor\u001b[0m \u001b[0mindexer\u001b[0m\u001b[1;33m.\u001b[0m\u001b[0msize\u001b[0m \u001b[1;33m>\u001b[0m \u001b[1;36m1\u001b[0m\u001b[1;33m:\u001b[0m\u001b[1;33m\u001b[0m\u001b[1;33m\u001b[0m\u001b[0m\n",
      "\u001b[1;32mpandas\\_libs\\index.pyx\u001b[0m in \u001b[0;36mpandas._libs.index.IndexEngine.get_loc\u001b[1;34m()\u001b[0m\n",
      "\u001b[1;32mpandas\\_libs\\index.pyx\u001b[0m in \u001b[0;36mpandas._libs.index.IndexEngine.get_loc\u001b[1;34m()\u001b[0m\n",
      "\u001b[1;32mpandas\\_libs\\hashtable_class_helper.pxi\u001b[0m in \u001b[0;36mpandas._libs.hashtable.PyObjectHashTable.get_item\u001b[1;34m()\u001b[0m\n",
      "\u001b[1;32mpandas\\_libs\\hashtable_class_helper.pxi\u001b[0m in \u001b[0;36mpandas._libs.hashtable.PyObjectHashTable.get_item\u001b[1;34m()\u001b[0m\n",
      "\u001b[1;31mKeyError\u001b[0m: 'Fatal (Y/N/U)'"
     ]
    }
   ],
   "source": [
    "set(df['Fatal (Y/N/U)'])"
   ]
  },
  {
   "cell_type": "code",
   "execution_count": 106,
   "metadata": {},
   "outputs": [
    {
     "data": {
      "text/plain": [
       "Year             19423\n",
       "Type             19425\n",
       "Species          22259\n",
       "Country          19471\n",
       "Activity         19965\n",
       "Injury           19449\n",
       "Fatal (Y/N/U)        0\n",
       "dtype: int64"
      ]
     },
     "execution_count": 106,
     "metadata": {},
     "output_type": "execute_result"
    }
   ],
   "source": [
    "df.isnull().sum()"
   ]
  },
  {
   "cell_type": "code",
   "execution_count": 94,
   "metadata": {},
   "outputs": [
    {
     "data": {
      "text/plain": [
       "{'Boat',\n",
       " 'Boating',\n",
       " 'Invalid',\n",
       " 'Provoked',\n",
       " 'Questionable',\n",
       " 'Sea Disaster',\n",
       " 'Unprovoked'}"
      ]
     },
     "execution_count": 94,
     "metadata": {},
     "output_type": "execute_result"
    }
   ],
   "source": [
    "set(df['Type'])"
   ]
  },
  {
   "cell_type": "code",
   "execution_count": 95,
   "metadata": {},
   "outputs": [
    {
     "name": "stderr",
     "output_type": "stream",
     "text": [
      "<ipython-input-95-5ac45249bc11>:1: SettingWithCopyWarning: \n",
      "A value is trying to be set on a copy of a slice from a DataFrame.\n",
      "Try using .loc[row_indexer,col_indexer] = value instead\n",
      "\n",
      "See the caveats in the documentation: https://pandas.pydata.org/pandas-docs/stable/user_guide/indexing.html#returning-a-view-versus-a-copy\n",
      "  df['Type'] = df['Type'].fillna('Not confirmed')\n",
      "<ipython-input-95-5ac45249bc11>:2: SettingWithCopyWarning: \n",
      "A value is trying to be set on a copy of a slice from a DataFrame.\n",
      "Try using .loc[row_indexer,col_indexer] = value instead\n",
      "\n",
      "See the caveats in the documentation: https://pandas.pydata.org/pandas-docs/stable/user_guide/indexing.html#returning-a-view-versus-a-copy\n",
      "  df['Type'] = df['Type'].str.replace('Boating', 'Boat')\n",
      "<ipython-input-95-5ac45249bc11>:3: SettingWithCopyWarning: \n",
      "A value is trying to be set on a copy of a slice from a DataFrame.\n",
      "Try using .loc[row_indexer,col_indexer] = value instead\n",
      "\n",
      "See the caveats in the documentation: https://pandas.pydata.org/pandas-docs/stable/user_guide/indexing.html#returning-a-view-versus-a-copy\n",
      "  df['Type'] = df['Type'].str.replace('Boatomg', 'Boat')\n",
      "<ipython-input-95-5ac45249bc11>:4: SettingWithCopyWarning: \n",
      "A value is trying to be set on a copy of a slice from a DataFrame.\n",
      "Try using .loc[row_indexer,col_indexer] = value instead\n",
      "\n",
      "See the caveats in the documentation: https://pandas.pydata.org/pandas-docs/stable/user_guide/indexing.html#returning-a-view-versus-a-copy\n",
      "  df['Type'] = df['Type'].str.replace('Invalid', 'Not confirmed')\n",
      "<ipython-input-95-5ac45249bc11>:5: SettingWithCopyWarning: \n",
      "A value is trying to be set on a copy of a slice from a DataFrame.\n",
      "Try using .loc[row_indexer,col_indexer] = value instead\n",
      "\n",
      "See the caveats in the documentation: https://pandas.pydata.org/pandas-docs/stable/user_guide/indexing.html#returning-a-view-versus-a-copy\n",
      "  df['Type'] = df['Type'].str.replace('Questionable', 'Not confirmed')\n"
     ]
    }
   ],
   "source": [
    "df['Type'] = df['Type'].fillna('Not confirmed')\n",
    "df['Type'] = df['Type'].str.replace('Boating', 'Boat')\n",
    "df['Type'] = df['Type'].str.replace('Boatomg', 'Boat')\n",
    "df['Type'] = df['Type'].str.replace('Invalid', 'Not confirmed')\n",
    "df['Type'] = df['Type'].str.replace('Questionable', 'Not confirmed')\n"
   ]
  },
  {
   "cell_type": "code",
   "execution_count": 96,
   "metadata": {},
   "outputs": [
    {
     "data": {
      "text/plain": [
       "{'Boat', 'Not confirmed', 'Provoked', 'Sea Disaster', 'Unprovoked'}"
      ]
     },
     "execution_count": 96,
     "metadata": {},
     "output_type": "execute_result"
    }
   ],
   "source": [
    "set(df['Type'])"
   ]
  },
  {
   "cell_type": "code",
   "execution_count": 97,
   "metadata": {},
   "outputs": [
    {
     "data": {
      "text/plain": [
       "Year           0\n",
       "Type           0\n",
       "Species        0\n",
       "Country        0\n",
       "Activity       0\n",
       "Injury         0\n",
       "Fatal (Y/N)    0\n",
       "Sex            0\n",
       "Age            0\n",
       "dtype: int64"
      ]
     },
     "execution_count": 97,
     "metadata": {},
     "output_type": "execute_result"
    }
   ],
   "source": [
    "df.isnull().sum()"
   ]
  },
  {
   "cell_type": "code",
   "execution_count": 98,
   "metadata": {},
   "outputs": [
    {
     "name": "stderr",
     "output_type": "stream",
     "text": [
      "C:\\Users\\pinil\\anaconda3\\lib\\site-packages\\pandas\\core\\frame.py:4125: SettingWithCopyWarning: \n",
      "A value is trying to be set on a copy of a slice from a DataFrame\n",
      "\n",
      "See the caveats in the documentation: https://pandas.pydata.org/pandas-docs/stable/user_guide/indexing.html#returning-a-view-versus-a-copy\n",
      "  return super().rename(\n"
     ]
    }
   ],
   "source": [
    "#Rename columna Species, because it has a blank space a the end\n",
    "df.rename({'Species ':'Species'}, axis=1, inplace=True)"
   ]
  },
  {
   "cell_type": "code",
   "execution_count": 99,
   "metadata": {},
   "outputs": [
    {
     "data": {
      "text/plain": [
       "{' ',\n",
       " ' \"gummy\" shark (Rhizoprionodon or Loxodon) 1.2 m [4\\']',\n",
       " \" 1.5 m [5'] dusky shark\",\n",
       " \" 6' to 8' shark\",\n",
       " \" Blacktip shark, C. maculipinnis. 1.9 m to 2.1 m [6.5' to 7'] \",\n",
       " ' Bull shark, 2.5 m',\n",
       " \" Bull shark, 5'\",\n",
       " \" Bull shark, 8'\",\n",
       " ' Raggedtooth shark, 2m',\n",
       " \" Sandbar shark, 3' to 4'\",\n",
       " \" Sevengill  shark, 1.2 m [4'] \",\n",
       " ' Tiger shark, 2.8m',\n",
       " \" White shark, 7' \",\n",
       " ' Wobbegong shark, 1.6 to 1.8m ',\n",
       " \" white shark, 15' \",\n",
       " '\"A long thin brown-colored shark\"',\n",
       " '\"Shark had a very large girth\"',\n",
       " '\"a small shark\"',\n",
       " '\"a young shark\"',\n",
       " '\"juvenile shark\"',\n",
       " '\"reef shark\"',\n",
       " '\"sand shark\"',\n",
       " '\"sand\" shark',\n",
       " '\"small shark\"',\n",
       " \"+3' shark\",\n",
       " \"0.9 m  [3'] shark\",\n",
       " \"0.9 m  to 1.2 m [3' to 4'] shark\",\n",
       " \"0.9 m [3'] shark\",\n",
       " \"0.9 m [3'] shark,  probably a blacktip or spinner shark\",\n",
       " \"0.9 m to 1.2 m [3' to 4'] shark\",\n",
       " \"0.9 m to 1.2 m [3' to 4'] shark; Tooth fragment recovered from hand\",\n",
       " \"0.9 m to 1.2 m [3' to 4'] white shark\",\n",
       " \"0.9 m to 1.5 m [3' to 5'] shark\",\n",
       " '1 m  shark',\n",
       " '1 m \"grey-colored\" shark',\n",
       " '1 m shark',\n",
       " '1 m shark, possibly whitetip reef shark',\n",
       " \"1' to 2' hammerhead or bonnethed shark\",\n",
       " \"1' to 2' shark\",\n",
       " '1,100-lb shark',\n",
       " \"1,5 m [5'] Caribbean reef shark (Carcharhinus  perezi)\",\n",
       " \"1.2 m  [4'] shark\",\n",
       " '1.2 m [4\\'] \"grey-colored shark\"',\n",
       " \"1.2 m [4'] blacktip or sandbar shark\",\n",
       " \"1.2 m [4'] blacktip shark\",\n",
       " \"1.2 m [4'] bull shark\",\n",
       " \"1.2 m [4'] dusky shark\",\n",
       " \"1.2 m [4'] hammerhead shark\",\n",
       " \"1.2 m [4'] shark\",\n",
       " \"1.2 m [4'] shark (spinner shark?)\",\n",
       " \"1.2 m [4'] spinner shark\",\n",
       " \"1.2 m [4'], possibly  larger shark\",\n",
       " \"1.2 m to 1.5 m [4' to 5']   shark\",\n",
       " \"1.2 m to 1.5 m [4' to 5'] bull, sandbar or dusky shark\",\n",
       " \"1.2 m to 1.5 m [4' to 5'] hammerhead shark\",\n",
       " \"1.2 m to 1.5 m [4' to 5'] shark\",\n",
       " \"1.2 m to 1.5 m [4' to 5'] shark, possibly a bull shark\",\n",
       " \"1.2 m to 1.8 m [4' to 6'] shark\",\n",
       " '1.3 m [4\\'3\"] shark',\n",
       " '1.3 to 1.6 m shark',\n",
       " '1.5 m [5\\'] \"whaler shark\"',\n",
       " \"1.5 m [5'] blacktip shark\",\n",
       " \"1.5 m [5'] dusky shark\",\n",
       " \"1.5 m [5'] shark\",\n",
       " \"1.5 m [5'] shark, either a bronze whaler or a grey nurse shark\",\n",
       " \"1.5 m [5'] white shark or sevengill shark\",\n",
       " '1.5 m copper shark',\n",
       " '1.5 m shark',\n",
       " \"1.5 m to 1.8 m  [5' to 6'] shark\",\n",
       " \"1.5 m to 1.8 m [5' to 6'] Zambesi shark\",\n",
       " \"1.5 m to 1.8 m [5' to 6'] sandbar shark\",\n",
       " \"1.5 m to 1.8 m [5' to 6'] shark\",\n",
       " \"1.5 m to 1.8 m [5' to 6'] “spear-eye” shark \",\n",
       " \"1.5 m to 1.8m [5' to 6'] shark\",\n",
       " \"1.5 m to 2 m [5' to 6.75'] shark\",\n",
       " '1.5 m to 2 m shark',\n",
       " '1.5 m, 45-kg shark',\n",
       " \"1.5 to 1.8 m [5' to 6'] shark\",\n",
       " '1.5 to 2 m shark',\n",
       " \"1.5 to 2.5 m [5' to 8.25'] copper shark\",\n",
       " \"1.5' to 2' shark\",\n",
       " '1.6 m shark',\n",
       " \"1.7 m [5.5'] shark\",\n",
       " \"1.8 m [6']  shark\",\n",
       " \"1.8 m [6'] Zambezi shark\",\n",
       " \"1.8 m [6'] blacktip shark\",\n",
       " \"1.8 m [6'] blacktip shark or Caribbean reef shark\",\n",
       " \"1.8 m [6'] bull shark\",\n",
       " \"1.8 m [6'] reef shark - or a 2.1 m to 2.4 m [7' to 8'] grey-colored shark\",\n",
       " \"1.8 m [6'] shark\",\n",
       " \"1.8 m [6'] shark \",\n",
       " \"1.8 m [6'] shark, possibly a blacktip\",\n",
       " \"1.8 m [6'] white shark\",\n",
       " \"1.8 m [6'], 136-kg [300-lb] shark \",\n",
       " '1.8 m grey shark',\n",
       " '1.8 m shark',\n",
       " '1.8 m silky shark',\n",
       " '1.8 m to 2 m [6\\' to 6\\'9\"] shark',\n",
       " \"1.8 m to 2.1 m [6' to 7'] hammerhead shark\",\n",
       " \"1.8 m to 2.1 m [6' to 7'] shark\",\n",
       " \"1.8 m to 2.1 m [6' to 7'] spinner or blacktip shark\",\n",
       " \"1.8 m to 2.1 m [6' to 7']\\xa0 Caribbean Reef Shark \",\n",
       " \"1.8 m to 2.4 m [6' to 8'] hammerhead shark\",\n",
       " \"1.8 m to 2.4 m [6' to 8'] shark\",\n",
       " \"1.8 m to 2.4 m [6' to 8'] shark, tooth fragments recovered \",\n",
       " \"1.8 m to 2.4 m [6' to 8'] sharks, most were oceanic whitetip sharks\",\n",
       " \"1.8 m to 2.4 m [6' to 8'] white shark\",\n",
       " \"1.8 m to 2.7 m [6' to 9'] shark\",\n",
       " '1.8 to 2 m C. albimarginatus',\n",
       " \"1.8 to 2.1 m [6' to 7'] shark\",\n",
       " \"1.8 to 2.4 m [6' to 8'] shark\",\n",
       " \"1.9 m [6.5'] bull shark\",\n",
       " \"10' shark\",\n",
       " \"10' to 12' shark\",\n",
       " \"106 cm [3.5']  shark\",\n",
       " \"12' shark\",\n",
       " \"12' to 14' shark\",\n",
       " \"12' to 14' white shark\",\n",
       " \"12' to 18' shark\",\n",
       " \"13' shark\",\n",
       " '13\\'10\" shark',\n",
       " '136-kg [300-lb] shark',\n",
       " \"14' shark\",\n",
       " \"14' to 16' white shark\",\n",
       " \"14' to 18'shark\",\n",
       " \"14' white shark\",\n",
       " '15 cm to 20 cm [6\" to 8\"] bite diameter just below left knee',\n",
       " \"15' shark\",\n",
       " '150-lb shark',\n",
       " \"16' shark\",\n",
       " '170-kg, 2.8 m shark',\n",
       " '18\" to 24\" shark',\n",
       " '18\" to 36\" shark',\n",
       " \"18' shark\",\n",
       " \"18' white shark\",\n",
       " '1m shark',\n",
       " '1m to 1.2 m shark',\n",
       " '2 days later a 600-lb shark was caught 100 yards from the site',\n",
       " '2 m [6\\'9\"] Zambesi shark',\n",
       " '2 m [6\\'9\"] shark',\n",
       " \"2 m [6.75'] sevengill  shark\",\n",
       " \"2 m [6.75'] shark\",\n",
       " \"2 m [6.75'] white shark\",\n",
       " '2 m cow shark',\n",
       " '2 m shark',\n",
       " '2 m shark, possibly a dusky or blacktip shark',\n",
       " '2 m to  3 m shark',\n",
       " \"2 m to 2.5 m [6.75'  to 8.25'] shark\",\n",
       " \"2 m to 2.5 m [6.75'  to 8.25'] sixgill or sevengill shark\",\n",
       " '2 m to 3 m shark',\n",
       " '2 sharks, 4.5 m & 3 m ',\n",
       " '2 small bull sharks',\n",
       " '2 to 2.5 m shark',\n",
       " '2 to 3 m shark',\n",
       " '2 white shark: 13\\' & 9\"8\"',\n",
       " '2\\' \"banjo shark\"',\n",
       " \"2' shark\",\n",
       " \"2' to 3' reef shark\",\n",
       " \"2' to 3' shark\",\n",
       " \"2' to 3.5' shark\",\n",
       " \"2.1 m  [7'] bull shark\",\n",
       " \"2.1 m [7'] lemon shark or bull shark\",\n",
       " \"2.1 m [7'] shark\",\n",
       " \"2.1 m [7'], 90-kg shark\",\n",
       " \"2.1 m to 2.4 m  [7' to 8'] shark\",\n",
       " \"2.1 to 2.4 m [7' to 8'] shark\",\n",
       " \"2.3 m [7.5'] white shark, identified by M. Smale\",\n",
       " \"2.4 m  [8'] shark\",\n",
       " \"2.4 m [8']  shark\",\n",
       " \"2.4 m [8'] shark\",\n",
       " \"2.4 m [8'] tiger shark caught 40 hours later with shorts of the boy in its gut\",\n",
       " \"2.4 m [8'] white shark\",\n",
       " \"2.4 m [8'] white shark, species identity confirmed by tooth fragment\",\n",
       " \"2.4 m [8'] white shark, species identity confirmed by witnesses & tooth pattern in surfboard\",\n",
       " '2.4 m shark',\n",
       " \"2.4 m to 3 m [8' to 10'] grey colored shark\",\n",
       " \"2.4 m to 3 m [8' to 10'] white shark\",\n",
       " \"2.4 m to 3.7 m [8' to 12'] shark\",\n",
       " \"2.5 m [8.25'] bull shark\",\n",
       " \"2.5 m [8.25'] white shark\",\n",
       " \"2.5 m [8.25'] white shark \",\n",
       " '2.5 m shark',\n",
       " \"2.5 m to 3 m [8.25' to 10']  white shark\",\n",
       " '2.5 to 3 m shark',\n",
       " \"2.5' shark\",\n",
       " \"2.6 m [8.5'] shark landed 2 hours later\",\n",
       " '2.6 m shark',\n",
       " \"2.7 m [9']  bull shark or Caribbean reef shark\",\n",
       " '2.7 m [9\\'] \"blue\" shark',\n",
       " \"2.7 m [9'] bull or lemon shark\",\n",
       " \"2.7 m [9'] shark\",\n",
       " \"2.7 m [9'] shark with black-tipped pectoral fins\",\n",
       " \"2.7 m [9'] white shark\",\n",
       " \"2.7 m to 3 m [9' to 10'] sharks\",\n",
       " '2.8 m [9\\'3\"] whaler shark captured 3 days later with his remains in its gut',\n",
       " '2.8 m [9\\'3\"] white shark',\n",
       " '20 to 30kg shark',\n",
       " \"20' shark\",\n",
       " '200 to 300 kg shark',\n",
       " '200-lb shark',\n",
       " '270 kg shark',\n",
       " '2m shark',\n",
       " '3 bull sharks',\n",
       " \"3 m [10'] bull shark\",\n",
       " \"3 m [10'] shark\",\n",
       " \"3 m [10'] shark seen in vicinity\",\n",
       " \"3 m [10'] white shark\",\n",
       " \"3 m [10'], 270- kg [595-lb] shark\",\n",
       " '3 m shark',\n",
       " '3 m to 3.6 m  [10\\' to 11\\'9\"] white shark',\n",
       " \"3 m to 3.7 m [10' to 12'] shark\",\n",
       " \"3 m to 4 m [10' to 13']  white shark\",\n",
       " \"3 m to 4 m [10' to 13'] white shark\",\n",
       " '3 m to 4 m shark',\n",
       " '3 m to 4 m white shark',\n",
       " \"3 m to 4.3 m [10' to 14'] shark\",\n",
       " \"3 m to 4.5 m [10' to 15'] white shark\",\n",
       " \"3 m to 5 m [10' to 16.5'] white shark\",\n",
       " \"3 to 3.5 m [10' to 11.5'] bull shark\",\n",
       " \"3'  shark\",\n",
       " \"3' blacktip shark\",\n",
       " \"3' shark\",\n",
       " \"3' shark, possibly  a blacktip or spinner shark\",\n",
       " \"3' to 3.5' shark\",\n",
       " \"3' to 4' shark\",\n",
       " \"3' to 5' shark\",\n",
       " '3+ m shark',\n",
       " '3- to 4-foot shark',\n",
       " '3.3 m [10\\'9\"] shark',\n",
       " \"3.4 m [11']  tiger shark & a 5' shark\",\n",
       " \"3.5 m [11.5']  white shark\",\n",
       " '3.5 m [11.5\\'] female white shark named \"Notchfin\"',\n",
       " \"3.5 m [11.5'] shark\",\n",
       " \"3.5 m [11.5'] white shark\",\n",
       " '3.5 m shark',\n",
       " '3.5 m white shark',\n",
       " '3.5 m white shark, tooth fragments recovered',\n",
       " '3.5 to 4 m shark',\n",
       " \"3.5' hammerhead shark\",\n",
       " \"3.5' to 4' shark\",\n",
       " \"3.5' to 4.5' shark\",\n",
       " '3.6 m  white shark  (or bronze whaler)',\n",
       " \"3.7 m [12'] shark\",\n",
       " \"3.7 m [12'] shark & may have been another shark nearby\",\n",
       " \"3.7 m [12'] tiger shark\",\n",
       " \"3.7 m to 4.3 m [12' to 14']  shark\",\n",
       " \"3.7 m to 4.3 m [12' to 14'] shark\",\n",
       " \"3.7 m to 4.3 m [12' to 14'] white shark\",\n",
       " \"3.7 m to 4.6 m [12' to 15'] shark\",\n",
       " \"3.7 m to 4.6 m [12' to 15'] shark seen in the vicinity\",\n",
       " \"3.7 to 4.5 m [12' to 15'] shark seen in vicinity\",\n",
       " '300- to 400-lb Zambesi shark',\n",
       " '36\"  shark',\n",
       " '3m shark',\n",
       " \"4 m [13'] shark\",\n",
       " \"4 m [13'] shark seen in vicinity\",\n",
       " \"4 m [13'] white shark\",\n",
       " \"4 m [13'], 590-kg white shark\",\n",
       " '4 m shark',\n",
       " \"4 m to 5 m [13' to 16.5']  white shark\",\n",
       " \"4 m to 5 m [13' to 16.5']  white shark \",\n",
       " \"4 m to 5 m [13' to 16.5'] white shark\",\n",
       " '4 m white shark',\n",
       " '4 to 5m white shark',\n",
       " \"4' shark\",\n",
       " \"4' spinner shark\",\n",
       " \"4' to 5' shark\",\n",
       " \"4' to 6' shark\",\n",
       " \"4' to 8' shark\",\n",
       " \"4' tp 5' shark\",\n",
       " '4.2 m white shark',\n",
       " \"4.3 m [14'] shark\",\n",
       " \"4.3 m [14'] shark seen in area previous week\",\n",
       " \"4.3 m [14'] shark seen in vicinity\",\n",
       " \"4.3 m [14'], 1000-lb shark\",\n",
       " '4.3 m shark',\n",
       " '4.5 m & 5 m white shark ',\n",
       " '4.5 m [14\\'9\"] white shark',\n",
       " '4.5 m shark',\n",
       " '4.5 m to 5 m white shark',\n",
       " \"4.5 m to 5.5 m [14.7' to 18'] white shark\",\n",
       " \"4.5 m to 5.5 m [15' to 18'] white shark\",\n",
       " '4.5 m to 5.5m white shark',\n",
       " '4.5 m white shark',\n",
       " \"4.5 to 5' shark\",\n",
       " \"4.5' shark\",\n",
       " \"4.6 m [15'] shark\",\n",
       " \"4.9 m [16'] shark\",\n",
       " \"4.9 m to 5.5 m [16' to 18'] white shark\",\n",
       " '43\" shark',\n",
       " \"4m [13'] shark\",\n",
       " \"5 m  [16.5'] white shark\",\n",
       " \"5 m [16.5'] shark\",\n",
       " \"5 m [16.5'] white shark\",\n",
       " \"5 m [16.5'] white shark, identification by K. Nakaya\",\n",
       " '5 m shark',\n",
       " \"5 m to 5.5 m [16.5' to 18'] white shark\",\n",
       " \"5 m to 6 m [16.5' to 20'] white shark\",\n",
       " '5 m to 6 m white shark',\n",
       " '5 m white shark',\n",
       " \"5' blue shark\",\n",
       " \"5' shark\",\n",
       " \"5' spinner shark\",\n",
       " \"5' to 6' shark\",\n",
       " \"5' to 6' spinner or bull shark\",\n",
       " \"5' to 7' shark\",\n",
       " \"5' to 8' shark\",\n",
       " \"5.5 m [18'] shark\",\n",
       " \"5.5 m [18'] white shark\",\n",
       " \"5.5 m [18'] white shark, identified by witnesses & tooth marks\",\n",
       " \"5.5 m to 6 m [18' to 20']  white shark\",\n",
       " \"5.5 m to 6 m [18' to 20'] white shark\",\n",
       " \"5.5' to 6' shark\",\n",
       " '5.7 m white shark',\n",
       " '500-lb shark',\n",
       " '6 m  white shark',\n",
       " \"6 m [20'] shark\",\n",
       " \"6 m [20'] white shark\",\n",
       " \"6' shark\",\n",
       " \"6' shark, possibly a blactip or spinner shark\",\n",
       " \"6' to 7' blacktip shark\",\n",
       " \"6' to 7' shark\",\n",
       " \"6' to 8' bull shark\",\n",
       " \"6' to 8' shark\",\n",
       " \"6' to 8' shark, possibly a tiger shark\",\n",
       " '60 cm  shark ',\n",
       " \"60 cm to 90 cm [2' to 3'] blacktip or spinner shark\",\n",
       " \"60 cm to 90 cm [2' to 3'] shark\",\n",
       " '68\" shark',\n",
       " \"7 m [23'] white shark\",\n",
       " \"7' female shark\",\n",
       " \"7' shark\",\n",
       " \"7' to 8' bull shark\",\n",
       " '7-gill shark',\n",
       " '7-gill shark?',\n",
       " \"8' bull shark or Caribbean reef shark\",\n",
       " \"8' shark\",\n",
       " \"8' to 10' shark\",\n",
       " \"8' white shark or 7-gill shark\",\n",
       " '80 kg shark',\n",
       " \"9' shark\",\n",
       " '9\\'2\" white shark',\n",
       " \"9.5' shark?\",\n",
       " '>1 m shark',\n",
       " \">1.2 m [4'] tiger shark\",\n",
       " '>1.6 m shark',\n",
       " \">1.8 m [6'] shark\",\n",
       " '>2 m shark',\n",
       " \">2.4 m [8'] white shark\",\n",
       " \">2.5 m [8.25'] white shark\",\n",
       " \">3 m [10'] shark\",\n",
       " \">3.4 m [11'] white shark\",\n",
       " \">6 m [20'] white shark\",\n",
       " '>6 m white shark, according to witnesses',\n",
       " 'A \"small shark\"',\n",
       " 'A 10-year-old 94-pound pregnant blacktip reef shark',\n",
       " \"A 2' shark was seen in the area by witnesses\",\n",
       " 'A 6.5\\' \"blue-nosed shark\"',\n",
       " 'A bull shark, according to some of the divers on the boat',\n",
       " 'A hammerhead shark, then 8 to 10 other sharks were said to be  involved',\n",
       " 'A large white shark was filmed by divers on a local wreck 2 days prior to the incident.',\n",
       " 'A pack of 6 sharks',\n",
       " 'A small shark',\n",
       " 'A “small” shark',\n",
       " \"According to Carlsmith, the shark's mouth was 3' wide\",\n",
       " 'Allegedly a 4 m tiger shark',\n",
       " 'Angel shark',\n",
       " 'Angel shark, 1.2m ',\n",
       " 'Believed to involve a 2.8 m [9\\'3\"] white shark',\n",
       " 'Blacktip or spinner shark',\n",
       " \"Blacktip or spinner shark, 4'\",\n",
       " 'Blacktip reef shark ',\n",
       " \"Blacktip reef shark, 1.5 m [5'] \",\n",
       " 'Blacktip reef shark, 1m',\n",
       " 'Blacktip shark',\n",
       " 'Blacktip shark ',\n",
       " \"Blacktip shark, 1.2 m to 1.8 m [4' to 6'] \",\n",
       " \"Blacktip shark, 1.8 m [6'] \",\n",
       " \"Blacktip shark, 2 m [6.75'] \",\n",
       " \"Blacktip shark, 2' \",\n",
       " \"Blacktip shark, 2.4 m to 3 m [8' to 10'] \",\n",
       " \"Blacktip shark, 4'\",\n",
       " \"Blacktip shark, 4' to 5'\",\n",
       " \"Blacktip shark, 5'\",\n",
       " \"Blacktip shark, 5' to 6'\",\n",
       " \"Blacktip shark, 5' to 6' \",\n",
       " 'Blue shark',\n",
       " \"Blue shark 6'\",\n",
       " \"Blue shark, 1.5 m [5'] \",\n",
       " 'Blue shark, 1m',\n",
       " 'Blue shark, 2.5m',\n",
       " \"Blue shark, 3 m [10']\",\n",
       " \"Blue shark, 7'\",\n",
       " \"Blue shark, 8' [2.4 m], 500-lb \",\n",
       " 'Broadnose sevengill shark',\n",
       " 'Broadnose sevengill shark, 1.5 m',\n",
       " 'Bronze whaler',\n",
       " 'Bronze whaler or tiger shark',\n",
       " 'Bronze whaler shark',\n",
       " 'Bronze whaler shark, 1.5 m ',\n",
       " 'Bronze whaler shark, 1.5m',\n",
       " 'Bronze whaler shark, 2 m',\n",
       " 'Bronze whaler shark, 2 m ',\n",
       " \"Bronze whaler shark, 2 m to 3 m [6.75' to 10']  \",\n",
       " \"Bronze whaler shark, 2.1 m [7'] shark\",\n",
       " \"Bronze whaler shark, 2.1 m [7'], a tooth was embedded in the speargun \",\n",
       " \"Bronze whaler shark, 2.3 m [7.5'] \",\n",
       " \"Bronze whaler shark, 2.4 m [8'] \",\n",
       " \"Bronze whaler shark, 2.5 m [8.25'] \",\n",
       " \"Bronze whaler shark, 2.5 m [8.25']  k\",\n",
       " 'Bronze whaler shark, 2.5m',\n",
       " \"Bronze whaler shark, 3 m [10'] \",\n",
       " 'Bronze whaler shark, 3.5 m ',\n",
       " \"Bronze whaler shark, 3.7 m [12'] identified by G.P. Whitley based on description\",\n",
       " \"Bronze whaler shark, 4.3 m [14'] \",\n",
       " 'Bronze whaler shark, 4m',\n",
       " \"Bronze whaler shark, 6'\",\n",
       " 'Bronze whaler shark, a  juvenile ',\n",
       " \"Bronze whaler shark,3.7 m [12'] \",\n",
       " 'Bronze whaler shark?',\n",
       " 'Bull or tiger shark',\n",
       " 'Bull shark',\n",
       " 'Bull shark or lemon shark',\n",
       " 'Bull shark, 1 m',\n",
       " 'Bull shark, 1.3 m',\n",
       " 'Bull shark, 1.4m ',\n",
       " 'Bull shark, 1.5',\n",
       " 'Bull shark, 1.5m ',\n",
       " 'Bull shark, 1.65 m [5\\'5\"] was speared & killed',\n",
       " \"Bull shark, 1.8 m to 2.1 m [6' to 7'] \",\n",
       " 'Bull shark, 1.8m',\n",
       " 'Bull shark, 132-kg [291-lb] ',\n",
       " 'Bull shark, 2 m',\n",
       " \"Bull shark, 2.1 m [7']\",\n",
       " \"Bull shark, 2.3 m [7.5'] \",\n",
       " \"Bull shark, 2.4 m [8']\",\n",
       " 'Bull shark, 2.5 m',\n",
       " 'Bull shark, 2.5m',\n",
       " 'Bull shark, 2.7 m ',\n",
       " 'Bull shark, 2.8 to 3.1 m',\n",
       " 'Bull shark, 2m',\n",
       " 'Bull shark, 2m ',\n",
       " 'Bull shark, 3m',\n",
       " 'Bull shark, 3m female',\n",
       " 'Bull shark, 4 m',\n",
       " \"Bull shark, 4 m [13'] \",\n",
       " \"Bull shark, 4' to 5'\",\n",
       " \"Bull shark, 4' to bull shark\",\n",
       " 'Bull shark, 400-lb ',\n",
       " \"Bull shark, 5'\",\n",
       " \"Bull shark, 5' \",\n",
       " \"Bull shark, 5' to 7'\",\n",
       " \"Bull shark, 6'\",\n",
       " \"Bull shark, 6' to 8'\",\n",
       " 'Bull shark, 8',\n",
       " \"Bull shark, 8'\",\n",
       " 'Bull shark?',\n",
       " 'Bull sharks x 2',\n",
       " 'C. leucas tooth fragment recovered from kayak',\n",
       " 'C. maculpinnis or C. limbatus',\n",
       " 'Caribbean reef shark',\n",
       " \"Caribbean reef shark, 1.2 m to 1.5 m [4' to 5'] \",\n",
       " 'Caribbean reef sharks',\n",
       " \"Comrades saw shark's tail appear about 5' away\",\n",
       " 'Copper shark',\n",
       " 'Dooley believed his Injury was caused by stingray (Dasyatidae family)',\n",
       " 'Dusky shark, 1 m ',\n",
       " \"Dusky shark, 2.7 m [9'] dusky shark C. obscurus identified by S. Springer on tooth recovered\",\n",
       " 'Dusky shark, 2m',\n",
       " 'Galapagos shark',\n",
       " 'Gray reef shark',\n",
       " 'Grey nurse shark',\n",
       " \"Grey nurse shark, 1.8 m [6']\",\n",
       " \"Grey nurse shark, 1.8 m [6'] \",\n",
       " \"Grey nurse shark, 10' \",\n",
       " \"Grey nurse shark, 11'\",\n",
       " 'Grey nurse shark, 1m ',\n",
       " \"Grey nurse shark, 2.4 m [8'] \",\n",
       " 'Grey nurse shark, 3m',\n",
       " \"Grey nurse shark, 4'\",\n",
       " \"Grey nurse shark, 4' \",\n",
       " 'Grey nurse shark?',\n",
       " 'Grey reef shark',\n",
       " 'Grey reef shark ',\n",
       " \"Grey reef shark, 1.8 m [6'] grey reef shark, identified by Dr. L.P. L. Schultz based on photographs; identified as C. melanopterus by Stewart\",\n",
       " 'Grey reef shark, 2 m',\n",
       " \"Grey reef shark, 5' to 8' \",\n",
       " 'Grey reef shark. 2 m',\n",
       " 'Hammerhead shark',\n",
       " \"Hammerhead shark, 1.8 m [6'] S. zygena identified by C. Limbaugh on description\",\n",
       " \"Hammerhead shark, 5.2 m [17'] \",\n",
       " 'Hammerhead shark, 500-llb ',\n",
       " 'Hammerhead shark.',\n",
       " \"Hammerhead shark. 6' to 7'\",\n",
       " 'Hammerhead shark?+O2356',\n",
       " 'Hammerhead sp.',\n",
       " 'Hand found in gut of 2.9 m to 3.3 m [9\\'7\" to 10\\'11\"] Galapagos shark, C. galapagensis',\n",
       " \"Horn shar,k Heterodontus francisci, 1.2 m [4'] \",\n",
       " 'Identified as C. gangeticus by Dr. J. Fayrer',\n",
       " 'Invalid incident',\n",
       " 'Juvenile dusky or blacktip shark',\n",
       " 'Juvenile dusky shark',\n",
       " 'Juvenile white shark,  2.7 to 3.2 m',\n",
       " 'Lemon shark',\n",
       " 'Lemon shark pup',\n",
       " \"Lemon shark, 1.5 m [5'], identified  by the surfer\",\n",
       " \"Lemon shark, 1.8 m to 2.4 m [6' to 8'], tooth fragment recovered\",\n",
       " 'Lemon shark, 1164 mm, immature male, identified by  V.G. Springer',\n",
       " \"Lemon shark, 2.7 m [9'] \",\n",
       " \"Lemon shark, 4'\",\n",
       " \"Lemon shark, 4' to 5' \",\n",
       " \"Lemon shark, 6'\",\n",
       " 'Lesser spotted dogfish, Scyliorhinus canicula, less than 80 cm in length',\n",
       " \"Local authorities speculated that the water was too cold for sharks, but a 2.1 m [7'], 200-lb pregnant sandbar shark was caught next day\",\n",
       " 'Mako shark',\n",
       " 'Mako shark ',\n",
       " \"Mako shark (aka bonito shark) 1.2 m [4'] \",\n",
       " 'Mako shark (tooth fragments recovered)',\n",
       " \"Mako shark, 1.5 m [5'] \",\n",
       " \"Mako shark, 1.8 m [6']\",\n",
       " \"Mako shark, 1.8 m [6']  \",\n",
       " \"Mako shark, 1.8 m to 2.1 m [6' to 7']  with hook & wire leader caught in mouth\",\n",
       " \"Mako shark, 1.9 m [6.5'] \",\n",
       " 'Mako shark, 100-kg [221-lb] ',\n",
       " \"Mako shark, 3 m [10']\",\n",
       " \"Mako shark, 4.3 m [14']\",\n",
       " 'Mako shark, 400-lb ',\n",
       " 'Mako shark, 90kg',\n",
       " \"Moreno’s leg  & part of his swim suit found in 9' shark caught two hours after the attack. Identified as carcharhinid shark by L. Schultz & C. Limbaugh on photograph\",\n",
       " \"Next morning a 3 m [10'] shark was caught that had Andrews' leg in its gut\",\n",
       " 'Nurse shark',\n",
       " 'Nurse shark, 1 m ',\n",
       " \"Nurse shark, 1.2 m [4'] \",\n",
       " \"Nurse shark, 1.5 m [5'] \",\n",
       " \"Nurse shark, 1.5 m [5']  identified by Dr. E. Clark on description of shark\",\n",
       " 'Nurse shark, 106 cm, 28-lb, male ',\n",
       " 'Nurse shark, 1m ',\n",
       " \"Nurse shark, 2'\",\n",
       " \"Nurse shark, 2' to 3' \",\n",
       " \"Nurse shark, 2.1 m [7']\",\n",
       " \"Nurse shark, 2.1 m [7']  identified by Dr. E. Clark on color & tooth impressions\",\n",
       " \"Nurse shark, 6'\",\n",
       " 'Nurse shark?',\n",
       " 'Oceanic whitetip shark',\n",
       " 'Oceanic whitetip shark, 2.5 to 3m',\n",
       " 'Oceanic whitetip shark, 2.5m ',\n",
       " 'Oceanic whitetip shark, 2.5m, female',\n",
       " \"Oceanic whitetip shark, 6'\",\n",
       " 'Oceanic whitetip sharks were in the vicinity',\n",
       " 'On 8/13/2005 anglers from New Zealand caught a 2.8 m [9\\'3\"], 140-kg [309-lb] shark at the same spot. It was believed this was the same shark that killed Alysha',\n",
       " \"Porbeagle shark, 8' \",\n",
       " 'Port Jackson shark, 1m',\n",
       " 'Possibly  a blacktip or spinner shark',\n",
       " 'Possibly C. leucas',\n",
       " \"Possibly a  1.8 m [6'] Zambezi shark\",\n",
       " \"Possibly a 1' to 3' blacktip or spinner shark\",\n",
       " \"Possibly a 1.5 m [5'] blacktip or spinner shark\",\n",
       " \"Possibly a 1.5 m [5'] blacktip shark\",\n",
       " \"Possibly a 10' bull shark\",\n",
       " \"Possibly a 5' to 6' bull shark\",\n",
       " \"Possibly a 5' to 6' sandtiger shark\",\n",
       " \"Possibly a 6' bull shark\",\n",
       " \"Possibly a 6' lemon shark\",\n",
       " 'Possibly a blacktip reef shark',\n",
       " 'Possibly a blacktip shark',\n",
       " 'Possibly a blue shark',\n",
       " 'Possibly a broadnose 7-gill shark',\n",
       " 'Possibly a bronze whaler shark',\n",
       " 'Possibly a bull shark',\n",
       " 'Possibly a bull shark or tiger shark',\n",
       " 'Possibly a juvenile blacktip or spinner shark',\n",
       " 'Possibly a juvenile blacktip shark',\n",
       " 'Possibly a sand shark',\n",
       " 'Possibly a sandbar shark or small blacktip shark',\n",
       " 'Possibly a small blacktip shark',\n",
       " 'Possibly a small hammerhead shark',\n",
       " 'Possibly a spinner shark',\n",
       " 'Possibly a tiger shark',\n",
       " 'Possibly a white shark',\n",
       " 'Possibly a wobbegong',\n",
       " 'Questionable',\n",
       " 'Questionable incident - shark bite may have precipitated drowning',\n",
       " 'Raggedtooth shark',\n",
       " 'Raggedtooth shark ',\n",
       " 'Raggedtooth shark, 1 m ',\n",
       " \"Raggedtooth shark, 1.2 m to 1.5 m [4' to 5'] \",\n",
       " 'Raggedtooth shark, 1.3 m',\n",
       " 'Raggedtooth shark, 1.5 m',\n",
       " \"Raggedtooth shark, 1.5 m [5'] \",\n",
       " \"Raggedtooth shark, 1.5 m [5'] (tooth fragment recovered)\",\n",
       " \"Raggedtooth shark, 1.5 to 2 m [5' to 6.75']\",\n",
       " 'Raggedtooth shark, 150-kg',\n",
       " 'Raggedtooth shark, 2 m [6\\'9\"] ',\n",
       " 'Raggedtooth shark, 2 m [6\\'9\"], 5-year-old, captive female ',\n",
       " \"Raggedtooth shark, 2 m [6.75'] \",\n",
       " \"Raggedtooth shark, 2.5 m [8.25'] \",\n",
       " 'Raggedtooth shark, 2.5 m to 3 m ',\n",
       " 'Raggedtooth shark, 2.5m ',\n",
       " 'Raggedtooth shark, 2m',\n",
       " \"Raggedtooth shark, 3.5 m [11.5'] \",\n",
       " 'Raggedtooth shark, 56-kg [123-lb] ',\n",
       " 'Raggedtooth shark, >1 m ',\n",
       " \"Reef shark, 5'\",\n",
       " \"Remains recovered from 5.5 m [18'] white shark\",\n",
       " 'Reported to involve a 4 m white shark',\n",
       " \"Reported to involve a White shark, 6 m to 7m [20' to 23'] \",\n",
       " 'Reported to involve a bull shark',\n",
       " 'Reported to involve a white shark',\n",
       " \"Said to be 6.4 m [21'] shark\",\n",
       " 'Said to be a “small shark”',\n",
       " \"Said to involve 2 sharks: 5.2 m & 6 m [17' & 20'] \",\n",
       " \"Said to involve 6 to 7 m [20' to 23'] white shark\",\n",
       " \"Said to involve a 6 m to 7 m [20' to 23'] white shark\",\n",
       " \"Said to involve a >4 m [13'] shark\",\n",
       " 'Said to involve a tiger shark or a hammerhead shark',\n",
       " 'Salmon shark',\n",
       " 'Sand shark',\n",
       " 'Sand shark?',\n",
       " 'Sandtiger shark',\n",
       " \"Sandtiger shark, 2.1 m [7'] \",\n",
       " \"Sandtiger shark, 4' to 5'\",\n",
       " \"Sandtiger shark, 8'\",\n",
       " 'Seven-gill shark',\n",
       " 'Shark involvement not confirmed',\n",
       " 'Shark involvement prior to death not confirmed',\n",
       " 'Shark involvement prior to death unconfirmed',\n",
       " 'Shark involvement prior to death was not confirmed',\n",
       " 'Shark seen feeding on turtle scraps thrown overboard prior to incident.',\n",
       " \"Sharks averaged 1.8 m [6'] in length\",\n",
       " \"Shortfin mako shark, 2.3 m [7.5'] \",\n",
       " \"Shortfin mako shark, 3 m to 3.4 m [10' to 11'] \",\n",
       " \"Silky shark, 1.9 m [6.5']\",\n",
       " \"Six Zambesi sharks seen to 1.5 m [5'] in length\",\n",
       " 'Small bull shark',\n",
       " 'Small dusky shark or blackfin shark',\n",
       " 'Small shark',\n",
       " 'Species unidentified',\n",
       " 'Spinner or blacktip sharks',\n",
       " 'Spinner shark',\n",
       " \"Spinner shark, 3' to 4' \",\n",
       " 'Spinner shark, 4 to 5 feet',\n",
       " \"Spinner shark, 5'\",\n",
       " \"Spinner shark, 6'\",\n",
       " 'Spurdog',\n",
       " 'Tawny nurse shark',\n",
       " 'Tawny nurse shark, 40cm',\n",
       " 'Though to involve a white shark',\n",
       " \"Thought to involve a 2 m [6.75'] grey nurse shark\",\n",
       " 'Thought to involve a 2.5 m bull or tiger shark',\n",
       " \"Thought to involve a 2.6 m [8.5'] white shark\",\n",
       " \"Thought to involve a 2.7 m [9'], 400-lb bull shark\",\n",
       " 'Thought to involve a 5.5 m white shark named Kong',\n",
       " \"Thought to involve a >2 m [6.75'] bull shark\",\n",
       " 'Thought to involve a Bronze whale shark, 2m',\n",
       " 'Thought to involve a Zambesi shark',\n",
       " 'Thought to involve a blacktip shark',\n",
       " 'Thought to involve a bull shark',\n",
       " 'Thought to involve a cookie cutter shark',\n",
       " 'Thought to involve a mako or grey nurse shark',\n",
       " 'Thought to involve a mako shark, but possibly a sea lion',\n",
       " 'Thought to involve a small sand shark',\n",
       " 'Thought to involve a tiger shark',\n",
       " 'Thought to involve a white shark',\n",
       " 'Thresher shark',\n",
       " 'Tiger shark',\n",
       " 'Tiger shark caught 6 days later with diver’s remains in its gut',\n",
       " 'Tiger shark,  3.6 m [11\\'9\"], 850-kg [1874-lb] female, contained Girvan\\'s remains ',\n",
       " \"Tiger shark, 0.9 m to 1.5 m [3' to 5'] ?\",\n",
       " 'Tiger shark, 1.5 m ',\n",
       " \"Tiger shark, 1.5 m [5'] \",\n",
       " \"Tiger shark, 1.5 m [5']k\",\n",
       " \"Tiger shark, 1.5 m to 1.8 m [5' to 6'] \",\n",
       " \"Tiger shark, 1.8 m [6']\",\n",
       " \"Tiger shark, 1.8 m [6'] \",\n",
       " \"Tiger shark, 1.8 m to 2.4 m [6' to 8'] \",\n",
       " \"Tiger shark, 10'\",\n",
       " \"Tiger shark, 10' \",\n",
       " \"Tiger shark, 10'  \",\n",
       " \"Tiger shark, 10' to 12'\",\n",
       " \"Tiger shark, 10' to 12' \",\n",
       " 'Tiger shark, 12',\n",
       " \"Tiger shark, 12'\",\n",
       " \"Tiger shark, 13'\",\n",
       " \"Tiger shark, 13' \",\n",
       " \"Tiger shark, 14'\",\n",
       " \"Tiger shark, 14' \",\n",
       " \"Tiger shark, 15'\",\n",
       " \"Tiger shark, 15' female\",\n",
       " \"Tiger shark, 2.1 m [7']\",\n",
       " \"Tiger shark, 2.4 m 3.4 m [8' to 11']  \",\n",
       " \"Tiger shark, 2.4 m [8']\",\n",
       " \"Tiger shark, 2.4 m [8'] \",\n",
       " \"Tiger shark, 2.4 m to 2.7 m [8' to 9']  \",\n",
       " \"Tiger shark, 2.4 m to 3 m [8' to 10'] \",\n",
       " \"Tiger shark, 2.4 m to 3.7 m [8' to 12'] \",\n",
       " 'Tiger shark, 2.5 m',\n",
       " 'Tiger shark, 2.5 m ',\n",
       " \"Tiger shark, 2.5 m [8.25']\",\n",
       " \"Tiger shark, 2.7m  [9']\",\n",
       " 'Tiger shark, 2m',\n",
       " 'Tiger shark, 2m to 3m ',\n",
       " 'Tiger shark, 3 m ',\n",
       " \"Tiger shark, 3 m [10']\",\n",
       " \"Tiger shark, 3 m [10'] \",\n",
       " \"Tiger shark, 3 m to 3.7 m [10' to 12'] \",\n",
       " \"Tiger shark, 3 m to 4 m [10' to 13'] \",\n",
       " \"Tiger shark, 3 m to 4.9 m [10' to 16'] \",\n",
       " \"Tiger shark, 3 to 4 m [10' to 13'] \",\n",
       " 'Tiger shark, 3.5 m',\n",
       " \"Tiger shark, 3.7 m [12']\",\n",
       " \"Tiger shark, 3.7 m [12'] \",\n",
       " \"Tiger shark, 3.7 m [12'], (tooth fragment recovered from wound)\",\n",
       " \"Tiger shark, 3.7 m to 4.3 m  [12' to 14']\",\n",
       " 'Tiger shark, 3.7 m to 4.5 m [12\\' to 14\\'9\"]  ',\n",
       " 'Tiger shark, 300-kg [662-lb] ',\n",
       " 'Tiger shark, 3m',\n",
       " 'Tiger shark, 3m ',\n",
       " 'Tiger shark, 4 m ',\n",
       " \"Tiger shark, 4 m [13'] \",\n",
       " \"Tiger shark, 4 m [13']  ?\",\n",
       " \"Tiger shark, 4 m [13'] ?\",\n",
       " \"Tiger shark, 4 m [13'] female\",\n",
       " \"Tiger shark, 4 m to 4.3 m [13' to 14'] \",\n",
       " \"Tiger shark, 4.3 m [14'] \",\n",
       " 'Tiger shark, 4.5 m [14\\'9\"]',\n",
       " \"Tiger shark, 4.6 m [15'] \",\n",
       " \"Tiger shark, 4.6 m to 7.6 m [15' to 25'] \",\n",
       " 'Tiger shark, 4.8 m',\n",
       " \"Tiger shark, 5 m [16.5']\",\n",
       " \"Tiger shark, 5' \",\n",
       " \"Tiger shark, 6'\",\n",
       " \"Tiger shark, 6' \",\n",
       " \"Tiger shark, 7'\",\n",
       " 'Tiger shark, 8 to 10 feet',\n",
       " 'Tiger shark, 8 to 12 feet',\n",
       " \"Tiger shark, 8'\",\n",
       " \"Tiger shark, 8' to 10' \",\n",
       " \"Tiger shark, 8' to 12'\",\n",
       " \"Tiger shark, 8' to 9' \",\n",
       " \"Tiger shark, 9' to 10' \",\n",
       " 'Tiger shark, <2 m TL',\n",
       " \"Tiger shark, >3 m [10']\",\n",
       " \"Tiger shark, less than 10'\",\n",
       " 'Tiger shark, tooth fragment recovered',\n",
       " 'Tiger shark?',\n",
       " 'Tooth fragments of “whaler” shark were recovered, a bull shark, according to Edwards',\n",
       " \"Two 2.1 m [7'] sharks\",\n",
       " \"Two sharks seen in vicinity: 2.4 m & 4.25 m  [8' & 14'] TL\",\n",
       " 'Unidentified',\n",
       " 'Unidentified shark',\n",
       " 'Unidentified species',\n",
       " 'Unknown',\n",
       " 'Unknown, but it was reported that a shark tooth was recovered from the wound',\n",
       " 'Unknown, but the shark was caught and put on exhibition',\n",
       " 'White shark',\n",
       " 'White shark (identified by Dr. Hugh Smith) ',\n",
       " 'White shark (tooth fragment recovered)',\n",
       " \"White shark 4.9 m [16'] \",\n",
       " 'White shark according to tooth pattern and witnesses',\n",
       " 'White shark or bronze whaler',\n",
       " 'White shark or oceanic whitetip shark',\n",
       " 'White shark tooth fragment recovered from ankle & identified by Dr. W. I. Follett',\n",
       " 'White shark x 2',\n",
       " \"White shark, 1.5 m [5'] k\",\n",
       " \"White shark, 1.7 m [5.5']\",\n",
       " \"White shark, 1.8 m [6'] \",\n",
       " \"White shark, 1.8 m to 2.1 m [6' to 7']  according to Shreuder and a witness\",\n",
       " \"White shark, 10 '\",\n",
       " \"White shark, 10'\",\n",
       " \"White shark, 10' to 12'\",\n",
       " \"White shark, 10' to 12' \",\n",
       " \"White shark, 11' to 12'\",\n",
       " \"White shark, 11' to 13'\",\n",
       " \"White shark, 12'\",\n",
       " \"White shark, 12' \",\n",
       " \"White shark, 12' to 14'\",\n",
       " \"White shark, 12' to 15'\",\n",
       " \"White shark, 12' to 15' \",\n",
       " \"White shark, 12' to 15' female\",\n",
       " \"White shark, 12', identity confirmed by tooth fragment, witness and photograph of captured shark \",\n",
       " \"White shark, 13'\",\n",
       " \"White shark, 14' to 16' \",\n",
       " \"White shark, 14' to 18' \",\n",
       " \"White shark, 15'\",\n",
       " \"White shark, 15' to 16' \",\n",
       " 'White shark, 15\\'3\", 2,333-lb ',\n",
       " \"White shark, 16' \",\n",
       " 'White shark, 160-kg [353-lb], identity confirmed by tooth pattern',\n",
       " \"White shark, 18' to 20'\",\n",
       " \"White shark, 19'\",\n",
       " 'White shark, 2 m',\n",
       " 'White shark, 2 m [6\\'9\"]  (Tooth fragment recovered from victim\\'s shoulder & identified by J.T. Nicholls)',\n",
       " 'White shark, 2 m to 4 m [6\\'9\" to 13\\'] ',\n",
       " \"White shark, 2.1 m [7'] \",\n",
       " \"White shark, 2.1 m [7']  based on tooth pattern\",\n",
       " \"White shark, 2.3 m [7.5'], tooth fragment recovered\",\n",
       " \"White shark, 2.4 m [8']\",\n",
       " \"White shark, 2.4 m [8'] \",\n",
       " \"White shark, 2.4 m to 3 m [8' to 10'] \",\n",
       " 'White shark, 2.5 m',\n",
       " 'White shark, 2.5 m ',\n",
       " \"White shark, 2.5 m [8.25'] \",\n",
       " \"White shark, 2.5 m [8.25']  \",\n",
       " \"White shark, 2.5 m [8.25'], an immature female, previously injured\",\n",
       " 'White shark, 2.5m',\n",
       " 'White shark, 2.5m ',\n",
       " 'White shark, 2.7 m',\n",
       " \"White shark, 2.7 m [9'] \",\n",
       " 'White shark, 2m',\n",
       " 'White shark, 2m to 3 m',\n",
       " 'White shark, 3 m',\n",
       " 'White shark, 3 m ',\n",
       " \"White shark, 3 m [10'] \",\n",
       " \"White shark, 3 m [10'] k\",\n",
       " \"White shark, 3 m [10'], species identity confirmed by witnesses & tooth pattern in leg & board \",\n",
       " \"White shark, 3 m [10'], tooth fragment from wounds identified as that of a white shark\",\n",
       " \"White shark, 3 m [10']; identifed by Dr. W.I. Follett on tooth marks\",\n",
       " \"White shark, 3 m [10']rk\",\n",
       " \"White shark, 3 m to 3.7 m [10' to 12'] \",\n",
       " \"White shark, 3 m to 4 m [10' to 13'] \",\n",
       " \"White shark, 3 m to 5 m [10' to 15'] \",\n",
       " \"White shark, 3 m to 5 m [10' to 16.5'] \",\n",
       " 'White shark, 3 to 3.5m ',\n",
       " 'White shark, 3.5 m',\n",
       " \"White shark, 3.5 m [11.5']  male \",\n",
       " \"White shark, 3.5 m [11.5'], identified by W. I.  Follett on tooth fragments\",\n",
       " \"White shark, 3.5 m [11.5'], species identity confirmed by tooth fragment\",\n",
       " \"White shark, 3.5 m to 4 m [11.5' to 13'] \",\n",
       " 'White shark, 3.5m',\n",
       " 'White shark, 3.6 m [11\\'9\"] ',\n",
       " \"White shark, 3.7 m [12'] \",\n",
       " \"White shark, 3.7 m [12']  \",\n",
       " \"White shark, 3.7 m [12']  according to witnesses\",\n",
       " 'White shark, 3.9 to 4.2 m',\n",
       " 'White shark, 3m',\n",
       " 'White shark, 3m ',\n",
       " 'White shark, 3m to 4m',\n",
       " 'White shark, 3m, seen in area and hooked 3 days later',\n",
       " 'White shark, 4 m',\n",
       " \"White shark, 4 m [13'] \",\n",
       " 'White shark, 4 m to 5 m ',\n",
       " \"White shark, 4 m to 5 m [13' to 16.5'] \",\n",
       " 'White shark, 4 m to 5m ',\n",
       " 'White shark, 4 m white shark',\n",
       " 'White shark, 4 to 5 m',\n",
       " 'White shark, 4.2 m [13\\'9\"] ',\n",
       " \"White shark, 4.3 m 4.9 m [14' to 16'] \",\n",
       " \"White shark, 4.3 m [14']\",\n",
       " \"White shark, 4.3 m [14'] (or bronze whaler)\",\n",
       " \"White shark, 4.3 m [14'], (tooth fragment recovered)\",\n",
       " \"White shark, 4.3 m to 4.9m [14' to 16']\",\n",
       " \"White shark, 4.4 m [14.5'] . \",\n",
       " \"White shark, 4.4 m to 5 m [14.5' to 16.5'] \",\n",
       " 'White shark, 4.5 m',\n",
       " 'White shark, 4.5 m ',\n",
       " 'White shark, 4.5 m  to 6 m [14\\'9\" to 20\\'] according to witnesses',\n",
       " 'White shark, 4.5 m [14\\'9\"], identity confirmed by witness & tooth pattern',\n",
       " 'White shark, 4.5 to 5 m ',\n",
       " 'White shark, 4.6 m',\n",
       " \"White shark, 4.6 m [15'] \",\n",
       " \"White shark, 4.9 m [16']\",\n",
       " \"White shark, 4.9 m [16'] \",\n",
       " 'White shark, 4m',\n",
       " 'White shark, 4m ',\n",
       " 'White shark, 4m to 5m ',\n",
       " \"White shark, 5 m [16.5']\",\n",
       " \"White shark, 5 m [16.5'] \",\n",
       " \"White shark, 5 m [16.5'], identified by Dr. W. I. Follett on tooth marks\",\n",
       " \"White shark, 5 m to 6 m [16.5 to 20'] \",\n",
       " \"White shark, 5 m to 6 m [16.5' to 20'] \",\n",
       " \"White shark, 5 m to 6 m [16.5' to 20']  \",\n",
       " \"White shark, 5 m to 6 m [16.5' to 20] \",\n",
       " \"White shark, 5' k\",\n",
       " \"White shark, 5' to 6' juvenile \",\n",
       " \"White shark, 5' to 7'\",\n",
       " 'White shark, 5.5 m ',\n",
       " \"White shark, 5.5 m [18'] \",\n",
       " \"White shark, 5.5 m to 6 m [18' to 20'] \",\n",
       " \"White shark, 5.5 m to 6 m [18' to 20']  \",\n",
       " \"White shark, 5.8 m [19'] \",\n",
       " 'White shark, 5m',\n",
       " 'White shark, 5m ',\n",
       " 'White shark, 5m to 6m',\n",
       " 'White shark, 6 m',\n",
       " \"White shark, 6 m [20'] \",\n",
       " 'White shark, 600-kg [1323-lb]',\n",
       " \"White shark, 6m [20']\",\n",
       " \"White shark, 7'\",\n",
       " \"White shark, 8' to 10'\",\n",
       " \"White shark, 9'\",\n",
       " \"White shark, > 3 m [10']\",\n",
       " \"White shark, >6'\",\n",
       " 'White shark, according to witnesses',\n",
       " 'White shark, based on bite pattern',\n",
       " 'White shark, identification by K. Nakaya',\n",
       " 'White shark, identified by tooth fragments in surfboard',\n",
       " 'White shark, identified by tooth pattern',\n",
       " 'White shark, species identity confirmed by tooth pattern',\n",
       " \"White shark,4.6 m [15'] \",\n",
       " 'White shark?',\n",
       " 'Whitetip reef shark',\n",
       " \"Whitetip reef shark, 4' to 6'\",\n",
       " 'Wobbegong shark',\n",
       " 'Wobbegong shark, 1 m',\n",
       " \"Wobbegong shark, 1.2 m [4'] \",\n",
       " \"Wobbegong shark, 1.2 m [4'] k\",\n",
       " 'Wobbegong shark, 1.4 m [4\\'6\"] ',\n",
       " \"Wobbegong shark, 1.5 m [5'] \",\n",
       " 'Wobbegong shark, 1.6m',\n",
       " 'Wobbegong shark, 2 m ',\n",
       " 'Wobbegong shark, 2m',\n",
       " \"Wobbegong shark, 4'\",\n",
       " 'Wobbegong shark?',\n",
       " 'Wobbegongs',\n",
       " 'Zambesi shark',\n",
       " \"Zambesi shark, 1.2 m [4'] \",\n",
       " \"Zambesi shark, 1.7 m [5.5'] \",\n",
       " \"Zambesi shark, 1.8 m [6'] \",\n",
       " 'Zambesi shark, 2 m [6\\'9\"] ',\n",
       " 'Zambesi shark, 2m ',\n",
       " 'Zambesi shark?',\n",
       " 'Zambezi shark (tooth fragments recovered)',\n",
       " \"[4' to 5']\",\n",
       " \"[4.5' to 5'] shark\",\n",
       " 'a \"small slim brown shark\"',\n",
       " 'a small hammerhead shark',\n",
       " 'a small reef shark',\n",
       " 'a small shark',\n",
       " 'blacktip or spinner shark',\n",
       " 'bull shark',\n",
       " 'dogfish shark',\n",
       " 'juvenile shark',\n",
       " 'juvenile white shark',\n",
       " 'possibly a bronze whaler shark',\n",
       " 'possibly a bull shark',\n",
       " 'reef shark, 1.5m',\n",
       " 'reef shark, 1m',\n",
       " 'reef shark?',\n",
       " 'said to involve an oceanic whitetip shark',\n",
       " 'sand shark',\n",
       " 'small blacktip shark',\n",
       " 'small blacktip shark?',\n",
       " 'small blue shark',\n",
       " 'small shark',\n",
       " '\\xa0 ',\n",
       " '“small brown shark”'}"
      ]
     },
     "execution_count": 99,
     "metadata": {},
     "output_type": "execute_result"
    }
   ],
   "source": [
    "set(df['Species'])"
   ]
  },
  {
   "cell_type": "code",
   "execution_count": 100,
   "metadata": {},
   "outputs": [
    {
     "data": {
      "text/plain": [
       "Index(['Year', 'Type', 'Species', 'Country', 'Activity', 'Injury',\n",
       "       'Fatal (Y/N)', 'Sex', 'Age'],\n",
       "      dtype='object')"
      ]
     },
     "execution_count": 100,
     "metadata": {},
     "output_type": "execute_result"
    }
   ],
   "source": [
    "df.columns"
   ]
  },
  {
   "cell_type": "code",
   "execution_count": 101,
   "metadata": {},
   "outputs": [],
   "source": [
    "#Columna not clean, let's create an additionally column to filter\n",
    "df.insert(3,\"Species_clean\", \"\")"
   ]
  },
  {
   "cell_type": "code",
   "execution_count": 102,
   "metadata": {},
   "outputs": [
    {
     "data": {
      "text/plain": [
       "Index(['Year', 'Type', 'Species', 'Species_clean', 'Country', 'Activity',\n",
       "       'Injury', 'Fatal (Y/N)', 'Sex', 'Age'],\n",
       "      dtype='object')"
      ]
     },
     "execution_count": 102,
     "metadata": {},
     "output_type": "execute_result"
    }
   ],
   "source": [
    "df.columns"
   ]
  },
  {
   "cell_type": "code",
   "execution_count": 103,
   "metadata": {},
   "outputs": [],
   "source": [
    "# como mostrar los unknow de type vara ver si se le puede asignar algo de activity\n",
    "\n"
   ]
  },
  {
   "cell_type": "code",
   "execution_count": 104,
   "metadata": {},
   "outputs": [
    {
     "data": {
      "text/plain": [
       "0        True\n",
       "6       False\n",
       "8       False\n",
       "10      False\n",
       "13      False\n",
       "        ...  \n",
       "5922    False\n",
       "5970    False\n",
       "6242    False\n",
       "6243    False\n",
       "6265    False\n",
       "Name: Species, Length: 1699, dtype: bool"
      ]
     },
     "execution_count": 104,
     "metadata": {},
     "output_type": "execute_result"
    }
   ],
   "source": [
    "boolean_findings = df['Species'].str.contains('White')\n",
    "boolean_findings"
   ]
  },
  {
   "cell_type": "code",
   "execution_count": 105,
   "metadata": {},
   "outputs": [
    {
     "ename": "SyntaxError",
     "evalue": "invalid syntax (<ipython-input-105-88a78e9d06dd>, line 2)",
     "output_type": "error",
     "traceback": [
      "\u001b[1;36m  File \u001b[1;32m\"<ipython-input-105-88a78e9d06dd>\"\u001b[1;36m, line \u001b[1;32m2\u001b[0m\n\u001b[1;33m    print(df2)\u001b[0m\n\u001b[1;37m    ^\u001b[0m\n\u001b[1;31mSyntaxError\u001b[0m\u001b[1;31m:\u001b[0m invalid syntax\n"
     ]
    }
   ],
   "source": [
    "df2 = [lambda x: x\n",
    "print(df2)\n",
    "len(df2)"
   ]
  },
  {
   "cell_type": "code",
   "execution_count": 106,
   "metadata": {},
   "outputs": [
    {
     "data": {
      "text/plain": [
       "{0.0,\n",
       " 1862.0,\n",
       " 1868.0,\n",
       " 1871.0,\n",
       " 1874.0,\n",
       " 1877.0,\n",
       " 1878.0,\n",
       " 1880.0,\n",
       " 1888.0,\n",
       " 1889.0,\n",
       " 1892.0,\n",
       " 1894.0,\n",
       " 1896.0,\n",
       " 1897.0,\n",
       " 1899.0,\n",
       " 1901.0,\n",
       " 1905.0,\n",
       " 1906.0,\n",
       " 1910.0,\n",
       " 1912.0,\n",
       " 1914.0,\n",
       " 1916.0,\n",
       " 1918.0,\n",
       " 1919.0,\n",
       " 1921.0,\n",
       " 1922.0,\n",
       " 1924.0,\n",
       " 1925.0,\n",
       " 1926.0,\n",
       " 1927.0,\n",
       " 1928.0,\n",
       " 1929.0,\n",
       " 1930.0,\n",
       " 1931.0,\n",
       " 1932.0,\n",
       " 1934.0,\n",
       " 1935.0,\n",
       " 1936.0,\n",
       " 1937.0,\n",
       " 1938.0,\n",
       " 1939.0,\n",
       " 1940.0,\n",
       " 1941.0,\n",
       " 1942.0,\n",
       " 1943.0,\n",
       " 1944.0,\n",
       " 1945.0,\n",
       " 1946.0,\n",
       " 1947.0,\n",
       " 1948.0,\n",
       " 1949.0,\n",
       " 1950.0,\n",
       " 1951.0,\n",
       " 1952.0,\n",
       " 1953.0,\n",
       " 1954.0,\n",
       " 1955.0,\n",
       " 1956.0,\n",
       " 1957.0,\n",
       " 1958.0,\n",
       " 1959.0,\n",
       " 1960.0,\n",
       " 1961.0,\n",
       " 1962.0,\n",
       " 1963.0,\n",
       " 1964.0,\n",
       " 1965.0,\n",
       " 1966.0,\n",
       " 1967.0,\n",
       " 1968.0,\n",
       " 1969.0,\n",
       " 1970.0,\n",
       " 1971.0,\n",
       " 1972.0,\n",
       " 1973.0,\n",
       " 1974.0,\n",
       " 1975.0,\n",
       " 1976.0,\n",
       " 1977.0,\n",
       " 1978.0,\n",
       " 1979.0,\n",
       " 1980.0,\n",
       " 1981.0,\n",
       " 1982.0,\n",
       " 1983.0,\n",
       " 1984.0,\n",
       " 1985.0,\n",
       " 1986.0,\n",
       " 1987.0,\n",
       " 1988.0,\n",
       " 1989.0,\n",
       " 1990.0,\n",
       " 1991.0,\n",
       " 1992.0,\n",
       " 1993.0,\n",
       " 1994.0,\n",
       " 1995.0,\n",
       " 1996.0,\n",
       " 1997.0,\n",
       " 1998.0,\n",
       " 1999.0,\n",
       " 2000.0,\n",
       " 2001.0,\n",
       " 2002.0,\n",
       " 2003.0,\n",
       " 2004.0,\n",
       " 2005.0,\n",
       " 2006.0,\n",
       " 2007.0,\n",
       " 2008.0,\n",
       " 2009.0,\n",
       " 2010.0,\n",
       " 2011.0,\n",
       " 2012.0,\n",
       " 2013.0,\n",
       " 2014.0,\n",
       " 2015.0,\n",
       " 2016.0,\n",
       " 2017.0,\n",
       " 2018.0}"
      ]
     },
     "execution_count": 106,
     "metadata": {},
     "output_type": "execute_result"
    }
   ],
   "source": [
    "set(df['Year'])\n",
    "#como mostrar las filas que tienen un determinado valor )"
   ]
  },
  {
   "cell_type": "code",
   "execution_count": null,
   "metadata": {},
   "outputs": [],
   "source": []
  },
  {
   "cell_type": "code",
   "execution_count": null,
   "metadata": {},
   "outputs": [],
   "source": []
  },
  {
   "cell_type": "code",
   "execution_count": null,
   "metadata": {},
   "outputs": [],
   "source": []
  },
  {
   "cell_type": "code",
   "execution_count": null,
   "metadata": {},
   "outputs": [],
   "source": []
  },
  {
   "cell_type": "code",
   "execution_count": null,
   "metadata": {},
   "outputs": [],
   "source": []
  },
  {
   "cell_type": "code",
   "execution_count": null,
   "metadata": {},
   "outputs": [],
   "source": []
  },
  {
   "cell_type": "code",
   "execution_count": null,
   "metadata": {},
   "outputs": [],
   "source": []
  },
  {
   "cell_type": "code",
   "execution_count": null,
   "metadata": {},
   "outputs": [],
   "source": []
  },
  {
   "cell_type": "code",
   "execution_count": null,
   "metadata": {},
   "outputs": [],
   "source": []
  },
  {
   "cell_type": "code",
   "execution_count": null,
   "metadata": {},
   "outputs": [],
   "source": []
  },
  {
   "cell_type": "code",
   "execution_count": null,
   "metadata": {},
   "outputs": [],
   "source": []
  },
  {
   "cell_type": "code",
   "execution_count": null,
   "metadata": {},
   "outputs": [],
   "source": []
  },
  {
   "cell_type": "code",
   "execution_count": null,
   "metadata": {},
   "outputs": [],
   "source": []
  },
  {
   "cell_type": "code",
   "execution_count": null,
   "metadata": {},
   "outputs": [],
   "source": []
  },
  {
   "cell_type": "code",
   "execution_count": null,
   "metadata": {},
   "outputs": [],
   "source": []
  },
  {
   "cell_type": "code",
   "execution_count": null,
   "metadata": {},
   "outputs": [],
   "source": []
  },
  {
   "cell_type": "code",
   "execution_count": null,
   "metadata": {},
   "outputs": [],
   "source": []
  },
  {
   "cell_type": "code",
   "execution_count": null,
   "metadata": {},
   "outputs": [],
   "source": []
  },
  {
   "cell_type": "code",
   "execution_count": null,
   "metadata": {},
   "outputs": [],
   "source": []
  },
  {
   "cell_type": "code",
   "execution_count": 26,
   "metadata": {},
   "outputs": [
    {
     "data": {
      "text/html": [
       "<div>\n",
       "<style scoped>\n",
       "    .dataframe tbody tr th:only-of-type {\n",
       "        vertical-align: middle;\n",
       "    }\n",
       "\n",
       "    .dataframe tbody tr th {\n",
       "        vertical-align: top;\n",
       "    }\n",
       "\n",
       "    .dataframe thead th {\n",
       "        text-align: right;\n",
       "    }\n",
       "</style>\n",
       "<table border=\"1\" class=\"dataframe\">\n",
       "  <thead>\n",
       "    <tr style=\"text-align: right;\">\n",
       "      <th></th>\n",
       "      <th>count</th>\n",
       "      <th>unique</th>\n",
       "      <th>top</th>\n",
       "      <th>freq</th>\n",
       "    </tr>\n",
       "  </thead>\n",
       "  <tbody>\n",
       "    <tr>\n",
       "      <th>Type</th>\n",
       "      <td>25723</td>\n",
       "      <td>5</td>\n",
       "      <td>Not confirmed</td>\n",
       "      <td>19974</td>\n",
       "    </tr>\n",
       "    <tr>\n",
       "      <th>Species</th>\n",
       "      <td>3464</td>\n",
       "      <td>1549</td>\n",
       "      <td>White shark</td>\n",
       "      <td>163</td>\n",
       "    </tr>\n",
       "    <tr>\n",
       "      <th>Country</th>\n",
       "      <td>6252</td>\n",
       "      <td>212</td>\n",
       "      <td>USA</td>\n",
       "      <td>2229</td>\n",
       "    </tr>\n",
       "    <tr>\n",
       "      <th>Activity</th>\n",
       "      <td>5758</td>\n",
       "      <td>1532</td>\n",
       "      <td>Surfing</td>\n",
       "      <td>971</td>\n",
       "    </tr>\n",
       "    <tr>\n",
       "      <th>Injury</th>\n",
       "      <td>6274</td>\n",
       "      <td>3737</td>\n",
       "      <td>FATAL</td>\n",
       "      <td>802</td>\n",
       "    </tr>\n",
       "    <tr>\n",
       "      <th>Fatal (Y/N/U)</th>\n",
       "      <td>25723</td>\n",
       "      <td>5</td>\n",
       "      <td>U</td>\n",
       "      <td>20033</td>\n",
       "    </tr>\n",
       "  </tbody>\n",
       "</table>\n",
       "</div>"
      ],
      "text/plain": [
       "               count unique            top   freq\n",
       "Type           25723      5  Not confirmed  19974\n",
       "Species         3464   1549    White shark    163\n",
       "Country         6252    212            USA   2229\n",
       "Activity        5758   1532        Surfing    971\n",
       "Injury          6274   3737          FATAL    802\n",
       "Fatal (Y/N/U)  25723      5              U  20033"
      ]
     },
     "execution_count": 26,
     "metadata": {},
     "output_type": "execute_result"
    }
   ],
   "source": [
    "df.describe(include = 'O').transpose()"
   ]
  },
  {
   "cell_type": "code",
   "execution_count": null,
   "metadata": {},
   "outputs": [],
   "source": []
  },
  {
   "cell_type": "code",
   "execution_count": null,
   "metadata": {},
   "outputs": [],
   "source": []
  },
  {
   "cell_type": "code",
   "execution_count": null,
   "metadata": {},
   "outputs": [],
   "source": []
  },
  {
   "cell_type": "code",
   "execution_count": null,
   "metadata": {},
   "outputs": [],
   "source": []
  },
  {
   "cell_type": "code",
   "execution_count": 136,
   "metadata": {},
   "outputs": [],
   "source": []
  },
  {
   "cell_type": "code",
   "execution_count": null,
   "metadata": {},
   "outputs": [],
   "source": []
  },
  {
   "cell_type": "code",
   "execution_count": 28,
   "metadata": {},
   "outputs": [
    {
     "data": {
      "text/plain": [
       "array(['USA', 'AUSTRALIA', 'MEXICO', 'BRAZIL', 'ENGLAND', 'SOUTH AFRICA',\n",
       "       'THAILAND', 'COSTA RICA', 'MALDIVES', 'BAHAMAS', 'NEW CALEDONIA',\n",
       "       'ECUADOR', 'MALAYSIA', 'LIBYA', nan, 'CUBA', 'MAURITIUS',\n",
       "       'NEW ZEALAND', 'SPAIN', 'SAMOA', 'SOLOMON ISLANDS', 'JAPAN',\n",
       "       'EGYPT', 'ST HELENA, British overseas territory', 'COMOROS',\n",
       "       'REUNION', 'FRENCH POLYNESIA', 'UNITED KINGDOM',\n",
       "       'UNITED ARAB EMIRATES', 'PHILIPPINES', 'INDONESIA', 'CHINA',\n",
       "       'COLUMBIA', 'CAPE VERDE', 'Fiji', 'DOMINICAN REPUBLIC',\n",
       "       'CAYMAN ISLANDS', 'ARUBA', 'MOZAMBIQUE', 'FIJI', 'PUERTO RICO',\n",
       "       'ITALY', 'ATLANTIC OCEAN', 'GREECE', 'ST. MARTIN', 'FRANCE',\n",
       "       'PAPUA NEW GUINEA', 'TRINIDAD & TOBAGO', 'KIRIBATI', 'ISRAEL',\n",
       "       'DIEGO GARCIA', 'TAIWAN', 'JAMAICA', 'PALESTINIAN TERRITORIES',\n",
       "       'GUAM', 'SEYCHELLES', 'BELIZE', 'NIGERIA', 'TONGA', 'SCOTLAND',\n",
       "       'CANADA', 'CROATIA', 'SAUDI ARABIA', 'CHILE', 'ANTIGUA', 'KENYA',\n",
       "       'RUSSIA', 'TURKS & CAICOS', 'UNITED ARAB EMIRATES (UAE)', 'AZORES',\n",
       "       'SOUTH KOREA', 'MALTA', 'VIETNAM', 'MADAGASCAR', 'PANAMA',\n",
       "       'SOMALIA', 'NEVIS', 'BRITISH VIRGIN ISLANDS', 'NORWAY', 'SENEGAL',\n",
       "       'YEMEN', 'GULF OF ADEN', 'Sierra Leone', 'ST. MAARTIN',\n",
       "       'GRAND CAYMAN', 'Seychelles', 'LIBERIA', 'VANUATU', 'MEXICO ',\n",
       "       'HONDURAS', 'VENEZUELA', 'SRI LANKA', ' TONGA', 'URUGUAY', 'INDIA',\n",
       "       'MICRONESIA', 'CARIBBEAN SEA', 'OKINAWA', 'TANZANIA',\n",
       "       'MARSHALL ISLANDS', 'EGYPT / ISRAEL', 'NORTHERN ARABIAN SEA',\n",
       "       'HONG KONG', 'EL SALVADOR', 'ANGOLA', 'BERMUDA', 'MONTENEGRO',\n",
       "       'IRAN', 'TUNISIA', 'NAMIBIA', 'NORTH ATLANTIC OCEAN', 'PORTUGAL',\n",
       "       'SOUTH CHINA SEA', 'BANGLADESH', 'PALAU', 'WESTERN SAMOA',\n",
       "       'PACIFIC OCEAN ', 'BRITISH ISLES', 'GRENADA', 'IRAQ', 'TURKEY',\n",
       "       'SINGAPORE', 'NEW BRITAIN', 'SUDAN', 'JOHNSTON ISLAND',\n",
       "       'SOUTH PACIFIC OCEAN', 'NEW GUINEA', 'RED SEA',\n",
       "       'NORTH PACIFIC OCEAN', 'FEDERATED STATES OF MICRONESIA',\n",
       "       'MID ATLANTIC OCEAN', 'ADMIRALTY ISLANDS', 'BRITISH WEST INDIES',\n",
       "       'SOUTH ATLANTIC OCEAN', 'PERSIAN GULF', 'RED SEA / INDIAN OCEAN',\n",
       "       'PACIFIC OCEAN', 'NORTH SEA', 'NICARAGUA ', 'MALDIVE ISLANDS',\n",
       "       'AMERICAN SAMOA', 'ANDAMAN / NICOBAR ISLANDAS', 'GABON', 'MAYOTTE',\n",
       "       'NORTH ATLANTIC OCEAN ', 'THE BALKANS', 'SUDAN?', 'ARGENTINA',\n",
       "       'MARTINIQUE', 'INDIAN OCEAN', 'GUATEMALA', 'NETHERLANDS ANTILLES',\n",
       "       'NORTHERN MARIANA ISLANDS', 'IRAN / IRAQ', 'JAVA', 'SIERRA LEONE',\n",
       "       ' PHILIPPINES', 'NICARAGUA', 'CENTRAL PACIFIC',\n",
       "       'SOLOMON ISLANDS / VANUATU', 'SOUTHWEST PACIFIC OCEAN',\n",
       "       'BAY OF BENGAL', 'MID-PACIFC OCEAN', 'SLOVENIA', 'CURACAO',\n",
       "       'ICELAND', 'ITALY / CROATIA', 'BARBADOS', 'MONACO', 'GUYANA',\n",
       "       'HAITI', 'SAN DOMINGO', 'IRELAND', 'KUWAIT', 'YEMEN ',\n",
       "       'REUNION ISLAND', 'FALKLAND ISLANDS', 'CRETE', 'CYPRUS', 'EGYPT ',\n",
       "       'WEST INDIES', 'BURMA', 'LEBANON', 'PARAGUAY',\n",
       "       'BRITISH NEW GUINEA', 'CEYLON', 'OCEAN', 'GEORGIA', 'SYRIA',\n",
       "       'TUVALU', 'INDIAN OCEAN?', 'GUINEA', 'ANDAMAN ISLANDS',\n",
       "       'EQUATORIAL GUINEA / CAMEROON', 'COOK ISLANDS', 'TOBAGO', 'PERU',\n",
       "       'AFRICA', 'ALGERIA', 'Coast of AFRICA', 'TASMAN SEA', 'GHANA',\n",
       "       'GREENLAND', 'MEDITERRANEAN SEA', 'SWEDEN', 'ROATAN',\n",
       "       'Between PORTUGAL & INDIA', 'DJIBOUTI', 'BAHREIN', 'KOREA',\n",
       "       'RED SEA?', 'ASIA?', 'CEYLON (SRI LANKA)'], dtype=object)"
      ]
     },
     "execution_count": 28,
     "metadata": {},
     "output_type": "execute_result"
    }
   ],
   "source": [
    "#Clean names\n",
    "for row in df['Country']:\n",
    "    if isinstance(row, str):\n",
    "        new_row = re.sub('\\/.+|\\(.+\\)|\\.|\\?', '', row)\n",
    "        new_row = re.sub('\\&', 'and', new_row.strip().lower())\n",
    "df['Country'].unique()"
   ]
  },
  {
   "cell_type": "markdown",
   "metadata": {},
   "source": []
  },
  {
   "cell_type": "code",
   "execution_count": 84,
   "metadata": {},
   "outputs": [
    {
     "ename": "SyntaxError",
     "evalue": "closing parenthesis ']' does not match opening parenthesis '(' (<ipython-input-84-e9c18aea5579>, line 1)",
     "output_type": "error",
     "traceback": [
      "\u001b[1;36m  File \u001b[1;32m\"<ipython-input-84-e9c18aea5579>\"\u001b[1;36m, line \u001b[1;32m1\u001b[0m\n\u001b[1;33m    empty_rows_Age = list(db[(db[\"Age\"]].isna())\u001b[0m\n\u001b[1;37m                                       ^\u001b[0m\n\u001b[1;31mSyntaxError\u001b[0m\u001b[1;31m:\u001b[0m closing parenthesis ']' does not match opening parenthesis '('\n"
     ]
    }
   ],
   "source": [
    "empty_rows_Age = list(db[(db[\"Age\"]].isna())"
   ]
  },
  {
   "cell_type": "code",
   "execution_count": 50,
   "metadata": {},
   "outputs": [
    {
     "name": "stdout",
     "output_type": "stream",
     "text": [
      "        Year   Type  Species   Country  Activity  Injury  Fatal (Y/N/U)\n",
      "0      False  False     False    False     False   False          False\n",
      "1      False  False      True    False     False   False          False\n",
      "2      False  False      True    False     False   False          False\n",
      "3      False  False     False    False     False   False          False\n",
      "4      False  False     False    False     False   False          False\n",
      "...      ...    ...       ...      ...       ...     ...            ...\n",
      "25718   True   True      True     True      True    True          False\n",
      "25719   True   True      True     True      True    True          False\n",
      "25720   True   True      True     True      True    True          False\n",
      "25721   True   True      True     True      True    True          False\n",
      "25722   True   True      True     True      True    True          False\n",
      "\n",
      "[25723 rows x 7 columns]\n"
     ]
    }
   ],
   "source": [
    "print(df.isnull())# Many null values"
   ]
  },
  {
   "cell_type": "code",
   "execution_count": 53,
   "metadata": {},
   "outputs": [
    {
     "data": {
      "text/plain": [
       "<matplotlib.axes._subplots.AxesSubplot at 0x1d2c0b876a0>"
      ]
     },
     "execution_count": 53,
     "metadata": {},
     "output_type": "execute_result"
    },
    {
     "data": {
      "image/png": "[encoded data removed]",
      "text/plain": [
       "<Figure size 432x288 with 1 Axes>"
      ]
     },
     "metadata": {
      "needs_background": "light"
     },
     "output_type": "display_data"
    }
   ],
   "source": []
  },
  {
   "cell_type": "code",
   "execution_count": 54,
   "metadata": {},
   "outputs": [
    {
     "data": {
      "text/plain": [
       "<matplotlib.axes._subplots.AxesSubplot at 0x1d2c0f97ac0>"
      ]
     },
     "execution_count": 54,
     "metadata": {},
     "output_type": "execute_result"
    },
    {
     "data": {
      "image/png": "[encoded data removed]",
      "text/plain": [
       "<Figure size 432x288 with 1 Axes>"
      ]
     },
     "metadata": {
      "needs_background": "light"
     },
     "output_type": "display_data"
    }
   ],
   "source": []
  },
  {
   "cell_type": "code",
   "execution_count": null,
   "metadata": {},
   "outputs": [],
   "source": []
  },
  {
   "cell_type": "code",
   "execution_count": 55,
   "metadata": {},
   "outputs": [],
   "source": [
    "db.to_csv(\"attacks_fin.csv\")"
   ]
  },
  {
   "cell_type": "code",
   "execution_count": null,
   "metadata": {},
   "outputs": [],
   "source": []
  }
 ],
 "metadata": {
  "kernelspec": {
   "display_name": "Python 3",
   "language": "python",
   "name": "python3"
  },
  "language_info": {
   "codemirror_mode": {
    "name": "ipython",
    "version": 3
   },
   "file_extension": ".py",
   "mimetype": "text/x-python",
   "name": "python",
   "nbconvert_exporter": "python",
   "pygments_lexer": "ipython3",
   "version": "3.8.3"
  }
 },
 "nbformat": 4,
 "nbformat_minor": 4
}

{
 "cells": [
  {
   "cell_type": "code",
   "execution_count": 1,
   "metadata": {},
   "outputs": [],
   "source": [
    "import pandas as pd\n",
    "import numpy as np\n",
    "import re"
   ]
  },
  {
   "cell_type": "code",
   "execution_count": 2,
   "metadata": {},
   "outputs": [
    {
     "data": {
      "text/html": [
       "<div>\n",
       "<style scoped>\n",
       "    .dataframe tbody tr th:only-of-type {\n",
       "        vertical-align: middle;\n",
       "    }\n",
       "\n",
       "    .dataframe tbody tr th {\n",
       "        vertical-align: top;\n",
       "    }\n",
       "\n",
       "    .dataframe thead th {\n",
       "        text-align: right;\n",
       "    }\n",
       "</style>\n",
       "<table border=\"1\" class=\"dataframe\">\n",
       "  <thead>\n",
       "    <tr style=\"text-align: right;\">\n",
       "      <th></th>\n",
       "      <th>Case Number</th>\n",
       "      <th>Date</th>\n",
       "      <th>Year</th>\n",
       "      <th>Type</th>\n",
       "      <th>Country</th>\n",
       "      <th>Area</th>\n",
       "      <th>Location</th>\n",
       "      <th>Activity</th>\n",
       "      <th>Name</th>\n",
       "      <th>Sex</th>\n",
       "      <th>...</th>\n",
       "      <th>Species</th>\n",
       "      <th>Investigator or Source</th>\n",
       "      <th>pdf</th>\n",
       "      <th>href formula</th>\n",
       "      <th>href</th>\n",
       "      <th>Case Number.1</th>\n",
       "      <th>Case Number.2</th>\n",
       "      <th>original order</th>\n",
       "      <th>Unnamed: 22</th>\n",
       "      <th>Unnamed: 23</th>\n",
       "    </tr>\n",
       "  </thead>\n",
       "  <tbody>\n",
       "    <tr>\n",
       "      <th>0</th>\n",
       "      <td>2018.06.25</td>\n",
       "      <td>25-Jun-2018</td>\n",
       "      <td>2018.0</td>\n",
       "      <td>Boating</td>\n",
       "      <td>USA</td>\n",
       "      <td>California</td>\n",
       "      <td>Oceanside, San Diego County</td>\n",
       "      <td>Paddling</td>\n",
       "      <td>Julie Wolfe</td>\n",
       "      <td>F</td>\n",
       "      <td>...</td>\n",
       "      <td>White shark</td>\n",
       "      <td>R. Collier, GSAF</td>\n",
       "      <td>2018.06.25-Wolfe.pdf</td>\n",
       "      <td>http://sharkattackfile.net/spreadsheets/pdf_di...</td>\n",
       "      <td>http://sharkattackfile.net/spreadsheets/pdf_di...</td>\n",
       "      <td>2018.06.25</td>\n",
       "      <td>2018.06.25</td>\n",
       "      <td>6303.0</td>\n",
       "      <td>NaN</td>\n",
       "      <td>NaN</td>\n",
       "    </tr>\n",
       "    <tr>\n",
       "      <th>1</th>\n",
       "      <td>2018.06.18</td>\n",
       "      <td>18-Jun-2018</td>\n",
       "      <td>2018.0</td>\n",
       "      <td>Unprovoked</td>\n",
       "      <td>USA</td>\n",
       "      <td>Georgia</td>\n",
       "      <td>St. Simon Island, Glynn County</td>\n",
       "      <td>Standing</td>\n",
       "      <td>Adyson McNeely</td>\n",
       "      <td>F</td>\n",
       "      <td>...</td>\n",
       "      <td>NaN</td>\n",
       "      <td>K.McMurray, TrackingSharks.com</td>\n",
       "      <td>2018.06.18-McNeely.pdf</td>\n",
       "      <td>http://sharkattackfile.net/spreadsheets/pdf_di...</td>\n",
       "      <td>http://sharkattackfile.net/spreadsheets/pdf_di...</td>\n",
       "      <td>2018.06.18</td>\n",
       "      <td>2018.06.18</td>\n",
       "      <td>6302.0</td>\n",
       "      <td>NaN</td>\n",
       "      <td>NaN</td>\n",
       "    </tr>\n",
       "    <tr>\n",
       "      <th>2</th>\n",
       "      <td>2018.06.09</td>\n",
       "      <td>09-Jun-2018</td>\n",
       "      <td>2018.0</td>\n",
       "      <td>Invalid</td>\n",
       "      <td>USA</td>\n",
       "      <td>Hawaii</td>\n",
       "      <td>Habush, Oahu</td>\n",
       "      <td>Surfing</td>\n",
       "      <td>John Denges</td>\n",
       "      <td>M</td>\n",
       "      <td>...</td>\n",
       "      <td>NaN</td>\n",
       "      <td>K.McMurray, TrackingSharks.com</td>\n",
       "      <td>2018.06.09-Denges.pdf</td>\n",
       "      <td>http://sharkattackfile.net/spreadsheets/pdf_di...</td>\n",
       "      <td>http://sharkattackfile.net/spreadsheets/pdf_di...</td>\n",
       "      <td>2018.06.09</td>\n",
       "      <td>2018.06.09</td>\n",
       "      <td>6301.0</td>\n",
       "      <td>NaN</td>\n",
       "      <td>NaN</td>\n",
       "    </tr>\n",
       "    <tr>\n",
       "      <th>3</th>\n",
       "      <td>2018.06.08</td>\n",
       "      <td>08-Jun-2018</td>\n",
       "      <td>2018.0</td>\n",
       "      <td>Unprovoked</td>\n",
       "      <td>AUSTRALIA</td>\n",
       "      <td>New South Wales</td>\n",
       "      <td>Arrawarra Headland</td>\n",
       "      <td>Surfing</td>\n",
       "      <td>male</td>\n",
       "      <td>M</td>\n",
       "      <td>...</td>\n",
       "      <td>2 m shark</td>\n",
       "      <td>B. Myatt, GSAF</td>\n",
       "      <td>2018.06.08-Arrawarra.pdf</td>\n",
       "      <td>http://sharkattackfile.net/spreadsheets/pdf_di...</td>\n",
       "      <td>http://sharkattackfile.net/spreadsheets/pdf_di...</td>\n",
       "      <td>2018.06.08</td>\n",
       "      <td>2018.06.08</td>\n",
       "      <td>6300.0</td>\n",
       "      <td>NaN</td>\n",
       "      <td>NaN</td>\n",
       "    </tr>\n",
       "    <tr>\n",
       "      <th>4</th>\n",
       "      <td>2018.06.04</td>\n",
       "      <td>04-Jun-2018</td>\n",
       "      <td>2018.0</td>\n",
       "      <td>Provoked</td>\n",
       "      <td>MEXICO</td>\n",
       "      <td>Colima</td>\n",
       "      <td>La Ticla</td>\n",
       "      <td>Free diving</td>\n",
       "      <td>Gustavo Ramos</td>\n",
       "      <td>M</td>\n",
       "      <td>...</td>\n",
       "      <td>Tiger shark, 3m</td>\n",
       "      <td>A .Kipper</td>\n",
       "      <td>2018.06.04-Ramos.pdf</td>\n",
       "      <td>http://sharkattackfile.net/spreadsheets/pdf_di...</td>\n",
       "      <td>http://sharkattackfile.net/spreadsheets/pdf_di...</td>\n",
       "      <td>2018.06.04</td>\n",
       "      <td>2018.06.04</td>\n",
       "      <td>6299.0</td>\n",
       "      <td>NaN</td>\n",
       "      <td>NaN</td>\n",
       "    </tr>\n",
       "  </tbody>\n",
       "</table>\n",
       "<p>5 rows × 24 columns</p>\n",
       "</div>"
      ],
      "text/plain": [
       "  Case Number         Date    Year        Type    Country             Area  \\\n",
       "0  2018.06.25  25-Jun-2018  2018.0     Boating        USA       California   \n",
       "1  2018.06.18  18-Jun-2018  2018.0  Unprovoked        USA          Georgia   \n",
       "2  2018.06.09  09-Jun-2018  2018.0     Invalid        USA           Hawaii   \n",
       "3  2018.06.08  08-Jun-2018  2018.0  Unprovoked  AUSTRALIA  New South Wales   \n",
       "4  2018.06.04  04-Jun-2018  2018.0    Provoked     MEXICO           Colima   \n",
       "\n",
       "                         Location     Activity             Name Sex   ...  \\\n",
       "0     Oceanside, San Diego County     Paddling      Julie Wolfe    F  ...   \n",
       "1  St. Simon Island, Glynn County     Standing  Adyson McNeely     F  ...   \n",
       "2                    Habush, Oahu      Surfing      John Denges    M  ...   \n",
       "3              Arrawarra Headland      Surfing             male    M  ...   \n",
       "4                        La Ticla  Free diving   Gustavo Ramos     M  ...   \n",
       "\n",
       "          Species           Investigator or Source                       pdf  \\\n",
       "0      White shark                R. Collier, GSAF      2018.06.25-Wolfe.pdf   \n",
       "1              NaN  K.McMurray, TrackingSharks.com    2018.06.18-McNeely.pdf   \n",
       "2              NaN  K.McMurray, TrackingSharks.com     2018.06.09-Denges.pdf   \n",
       "3        2 m shark                  B. Myatt, GSAF  2018.06.08-Arrawarra.pdf   \n",
       "4  Tiger shark, 3m                       A .Kipper      2018.06.04-Ramos.pdf   \n",
       "\n",
       "                                        href formula  \\\n",
       "0  http://sharkattackfile.net/spreadsheets/pdf_di...   \n",
       "1  http://sharkattackfile.net/spreadsheets/pdf_di...   \n",
       "2  http://sharkattackfile.net/spreadsheets/pdf_di...   \n",
       "3  http://sharkattackfile.net/spreadsheets/pdf_di...   \n",
       "4  http://sharkattackfile.net/spreadsheets/pdf_di...   \n",
       "\n",
       "                                                href Case Number.1  \\\n",
       "0  http://sharkattackfile.net/spreadsheets/pdf_di...    2018.06.25   \n",
       "1  http://sharkattackfile.net/spreadsheets/pdf_di...    2018.06.18   \n",
       "2  http://sharkattackfile.net/spreadsheets/pdf_di...    2018.06.09   \n",
       "3  http://sharkattackfile.net/spreadsheets/pdf_di...    2018.06.08   \n",
       "4  http://sharkattackfile.net/spreadsheets/pdf_di...    2018.06.04   \n",
       "\n",
       "  Case Number.2 original order Unnamed: 22 Unnamed: 23  \n",
       "0    2018.06.25         6303.0         NaN         NaN  \n",
       "1    2018.06.18         6302.0         NaN         NaN  \n",
       "2    2018.06.09         6301.0         NaN         NaN  \n",
       "3    2018.06.08         6300.0         NaN         NaN  \n",
       "4    2018.06.04         6299.0         NaN         NaN  \n",
       "\n",
       "[5 rows x 24 columns]"
      ]
     },
     "execution_count": 2,
     "metadata": {},
     "output_type": "execute_result"
    }
   ],
   "source": [
    "df = pd.read_csv('data/attacks.csv', encoding='cp1252')\n",
    "df.head()"
   ]
  },
  {
   "cell_type": "markdown",
   "metadata": {},
   "source": [
    "<h1> DIRTY DIRTY DATA </h1>"
   ]
  },
  {
   "cell_type": "code",
   "execution_count": 3,
   "metadata": {},
   "outputs": [
    {
     "data": {
      "text/plain": [
       "(25723, 24)"
      ]
     },
     "execution_count": 3,
     "metadata": {},
     "output_type": "execute_result"
    }
   ],
   "source": [
    "df.shape"
   ]
  },
  {
   "cell_type": "code",
   "execution_count": 4,
   "metadata": {},
   "outputs": [
    {
     "data": {
      "text/plain": [
       "Index(['Case Number', 'Date', 'Year', 'Type', 'Country', 'Area', 'Location',\n",
       "       'Activity', 'Name', 'Sex ', 'Age', 'Injury', 'Fatal (Y/N)', 'Time',\n",
       "       'Species ', 'Investigator or Source', 'pdf', 'href formula', 'href',\n",
       "       'Case Number.1', 'Case Number.2', 'original order', 'Unnamed: 22',\n",
       "       'Unnamed: 23'],\n",
       "      dtype='object')"
      ]
     },
     "execution_count": 4,
     "metadata": {},
     "output_type": "execute_result"
    }
   ],
   "source": [
    "df.columns  \n",
    "#las columnas 'Sex ' y alguna más tiene 'espacios' en el nombre de la columna (que resulta algo molesto para trabajar )"
   ]
  },
  {
   "cell_type": "code",
   "execution_count": 5,
   "metadata": {},
   "outputs": [
    {
     "data": {
      "text/plain": [
       "Index(['Case Number', 'Date', 'Year', 'Type', 'Country', 'Area', 'Location',\n",
       "       'Activity', 'Name', 'Sex', 'Age', 'Injury', 'Fatal (Y/N)', 'Time',\n",
       "       'Species', 'Investigator or Source', 'pdf', 'href formula', 'href',\n",
       "       'Case Number.1', 'Case Number.2', 'original order', 'Unnamed: 22',\n",
       "       'Unnamed: 23'],\n",
       "      dtype='object')"
      ]
     },
     "execution_count": 5,
     "metadata": {},
     "output_type": "execute_result"
    }
   ],
   "source": [
    "df.columns = [name.strip() for name in df.columns] \n",
    "#Me quito todos los espacios para todos los nombres de las columnas que puedan llevar espacios y poder trabajar mejor  \n",
    "df.columns"
   ]
  },
  {
   "cell_type": "markdown",
   "metadata": {},
   "source": [
    "<h3>Checking NULLS</h3>"
   ]
  },
  {
   "cell_type": "code",
   "execution_count": 6,
   "metadata": {},
   "outputs": [
    {
     "data": {
      "text/plain": [
       "Unnamed: 22               25722\n",
       "Unnamed: 23               25721\n",
       "Time                      22775\n",
       "Species                   22259\n",
       "Age                       22252\n",
       "Sex                       19986\n",
       "Activity                  19965\n",
       "Location                  19961\n",
       "Fatal (Y/N)               19960\n",
       "Area                      19876\n",
       "Name                      19631\n",
       "Country                   19471\n",
       "Injury                    19449\n",
       "Investigator or Source    19438\n",
       "Type                      19425\n",
       "Year                      19423\n",
       "href formula              19422\n",
       "pdf                       19421\n",
       "href                      19421\n",
       "Case Number.1             19421\n",
       "Case Number.2             19421\n",
       "Date                      19421\n",
       "original order            19414\n",
       "Case Number               17021\n",
       "dtype: int64"
      ]
     },
     "execution_count": 6,
     "metadata": {},
     "output_type": "execute_result"
    }
   ],
   "source": [
    "df_null_COLS = df.isnull().sum().sort_values(ascending=False)\n",
    "df_null_COLS\n",
    "\n",
    "# Null  -->  'Age'  --> 22252 \n",
    "# Null  -->  'Sex'  --> 19986"
   ]
  },
  {
   "cell_type": "code",
   "execution_count": 7,
   "metadata": {},
   "outputs": [
    {
     "data": {
      "text/plain": [
       "Unnamed: 22               0.999961\n",
       "Unnamed: 23               0.999922\n",
       "Time                      0.885394\n",
       "Species                   0.865335\n",
       "Age                       0.865062\n",
       "Sex                       0.776970\n",
       "Activity                  0.776154\n",
       "Location                  0.775998\n",
       "Fatal (Y/N)               0.775959\n",
       "Area                      0.772694\n",
       "Name                      0.763169\n",
       "Country                   0.756949\n",
       "Injury                    0.756094\n",
       "Investigator or Source    0.755666\n",
       "Type                      0.755161\n",
       "Year                      0.755083\n",
       "href formula              0.755044\n",
       "pdf                       0.755005\n",
       "href                      0.755005\n",
       "Case Number.1             0.755005\n",
       "Case Number.2             0.755005\n",
       "Date                      0.755005\n",
       "original order            0.754733\n",
       "Case Number               0.661704\n",
       "dtype: float64"
      ]
     },
     "execution_count": 7,
     "metadata": {},
     "output_type": "execute_result"
    }
   ],
   "source": [
    "df_null_porcentage_COLS = df.isnull().sum().apply(lambda x: x/df.shape[0]).sort_values(ascending=False)\n",
    "df_null_porcentage_COLS\n",
    "# Null  -->  'Age'  --> 86% de 'celdas' nulas  🙃\n",
    "# Null  -->  'Sex'  --> 77% de 'celdas' nulas  🙃"
   ]
  },
  {
   "cell_type": "code",
   "execution_count": 8,
   "metadata": {},
   "outputs": [
    {
     "data": {
      "text/plain": [
       "12861    1.000000\n",
       "14368    1.000000\n",
       "14382    1.000000\n",
       "14381    1.000000\n",
       "14380    1.000000\n",
       "           ...   \n",
       "1839     0.083333\n",
       "1840     0.083333\n",
       "1841     0.083333\n",
       "1843     0.083333\n",
       "0        0.083333\n",
       "Length: 25723, dtype: float64"
      ]
     },
     "execution_count": 8,
     "metadata": {},
     "output_type": "execute_result"
    }
   ],
   "source": [
    "df_null_porcentage_ROWS = df.isnull().sum(axis=1).apply(lambda x: x/df.shape[1]).sort_values(ascending=False)\n",
    "df_null_porcentage_ROWS #hay filas con un 100% de nulos  💣💣"
   ]
  },
  {
   "cell_type": "code",
   "execution_count": 9,
   "metadata": {},
   "outputs": [
    {
     "data": {
      "text/plain": [
       "12861    24\n",
       "14368    24\n",
       "14382    24\n",
       "14381    24\n",
       "14380    24\n",
       "         ..\n",
       "1839      2\n",
       "1840      2\n",
       "1841      2\n",
       "1843      2\n",
       "0         2\n",
       "Length: 25723, dtype: int64"
      ]
     },
     "execution_count": 9,
     "metadata": {},
     "output_type": "execute_result"
    }
   ],
   "source": [
    "df_null_ROWS = df.isnull().sum(axis=1).sort_values(ascending=False)\n",
    "df_null_ROWS    #hay filas que tienen todas las filas Nulas"
   ]
  },
  {
   "cell_type": "code",
   "execution_count": 10,
   "metadata": {},
   "outputs": [
    {
     "data": {
      "text/plain": [
       "Case Number                                                      2018.05.12\n",
       "Date                                                            12-May-2018\n",
       "Year                                                                   2018\n",
       "Type                                                             Unprovoked\n",
       "Country                                                        SOUTH AFRICA\n",
       "Area                                                  Eastern Cape Province\n",
       "Location                                          Nahoon Beach, East London\n",
       "Activity                                                            Surfing\n",
       "Name                                                                   male\n",
       "Sex                                                                       M\n",
       "Age                                                                     NaN\n",
       "Injury                                         Minor injury, marks on board\n",
       "Fatal (Y/N)                                                               N\n",
       "Time                                                                  11h00\n",
       "Species                                                                 NaN\n",
       "Investigator or Source                    B.Jacob, Dispatch Live, 5/12/2018\n",
       "pdf                                               2018.05.12-EastLondon.pdf\n",
       "href formula              http://sharkattackfile.net/spreadsheets/pdf_di...\n",
       "href                      http://sharkattackfile.net/spreadsheets/pdf_di...\n",
       "Case Number.1                                                    2018.05.12\n",
       "Case Number.2                                                    2018.05.12\n",
       "original order                                                         6288\n",
       "Unnamed: 22                                                             NaN\n",
       "Unnamed: 23                                                             NaN\n",
       "Name: 15, dtype: object"
      ]
     },
     "execution_count": 10,
     "metadata": {},
     "output_type": "execute_result"
    }
   ],
   "source": [
    "df.iloc[15]   #así puedo ver los datos de solo una persona"
   ]
  },
  {
   "cell_type": "markdown",
   "metadata": {},
   "source": [
    "<h1>1. DEMOGRAPHICS </h1>"
   ]
  },
  {
   "cell_type": "markdown",
   "metadata": {},
   "source": [
    "<h2>1.1 COL \"SEX\" </h2>"
   ]
  },
  {
   "cell_type": "code",
   "execution_count": 11,
   "metadata": {},
   "outputs": [
    {
     "data": {
      "text/plain": [
       "array(['F', 'M', nan, 'M ', 'lli', 'N', '.'], dtype=object)"
      ]
     },
     "execution_count": 11,
     "metadata": {},
     "output_type": "execute_result"
    }
   ],
   "source": [
    "df['Sex'].unique()   #Podemos ver que no solo tenemos 'F', 'M' o 'NaN' "
   ]
  },
  {
   "cell_type": "code",
   "execution_count": 12,
   "metadata": {},
   "outputs": [
    {
     "data": {
      "text/plain": [
       "NaN    19986\n",
       "M       5094\n",
       "F        637\n",
       "M          2\n",
       "N          2\n",
       ".          1\n",
       "lli        1\n",
       "Name: Sex, dtype: int64"
      ]
     },
     "execution_count": 12,
     "metadata": {},
     "output_type": "execute_result"
    }
   ],
   "source": [
    "df[\"Sex\"].value_counts(dropna=False)"
   ]
  },
  {
   "cell_type": "code",
   "execution_count": 13,
   "metadata": {},
   "outputs": [
    {
     "data": {
      "text/html": [
       "<div>\n",
       "<style scoped>\n",
       "    .dataframe tbody tr th:only-of-type {\n",
       "        vertical-align: middle;\n",
       "    }\n",
       "\n",
       "    .dataframe tbody tr th {\n",
       "        vertical-align: top;\n",
       "    }\n",
       "\n",
       "    .dataframe thead th {\n",
       "        text-align: right;\n",
       "    }\n",
       "</style>\n",
       "<table border=\"1\" class=\"dataframe\">\n",
       "  <thead>\n",
       "    <tr style=\"text-align: right;\">\n",
       "      <th></th>\n",
       "      <th>Case Number</th>\n",
       "      <th>Date</th>\n",
       "      <th>Year</th>\n",
       "      <th>Type</th>\n",
       "      <th>Country</th>\n",
       "      <th>Area</th>\n",
       "      <th>Location</th>\n",
       "      <th>Activity</th>\n",
       "      <th>Name</th>\n",
       "      <th>Sex</th>\n",
       "      <th>...</th>\n",
       "      <th>Species</th>\n",
       "      <th>Investigator or Source</th>\n",
       "      <th>pdf</th>\n",
       "      <th>href formula</th>\n",
       "      <th>href</th>\n",
       "      <th>Case Number.1</th>\n",
       "      <th>Case Number.2</th>\n",
       "      <th>original order</th>\n",
       "      <th>Unnamed: 22</th>\n",
       "      <th>Unnamed: 23</th>\n",
       "    </tr>\n",
       "  </thead>\n",
       "  <tbody>\n",
       "    <tr>\n",
       "      <th>563</th>\n",
       "      <td>2014.04.22</td>\n",
       "      <td>22-Apr-2014</td>\n",
       "      <td>2014.0</td>\n",
       "      <td>Unprovoked</td>\n",
       "      <td>USA</td>\n",
       "      <td>Florida</td>\n",
       "      <td>Cocoa Beach, Brevard  County</td>\n",
       "      <td>Swimming</td>\n",
       "      <td>male</td>\n",
       "      <td>M</td>\n",
       "      <td>...</td>\n",
       "      <td>NaN</td>\n",
       "      <td>R. Neale, Florida Today, 4/22/2014</td>\n",
       "      <td>2014.04.22-CocoaBeach.pdf</td>\n",
       "      <td>http://sharkattackfile.net/spreadsheets/pdf_di...</td>\n",
       "      <td>http://sharkattackfile.net/spreadsheets/pdf_di...</td>\n",
       "      <td>2014.04.22</td>\n",
       "      <td>2014.04.22</td>\n",
       "      <td>5740.0</td>\n",
       "      <td>NaN</td>\n",
       "      <td>NaN</td>\n",
       "    </tr>\n",
       "    <tr>\n",
       "      <th>1587</th>\n",
       "      <td>2005.05.15</td>\n",
       "      <td>15-May-2005</td>\n",
       "      <td>2005.0</td>\n",
       "      <td>Unprovoked</td>\n",
       "      <td>AUSTRALIA</td>\n",
       "      <td>Queensland</td>\n",
       "      <td>50 km east of Townsville</td>\n",
       "      <td>Spearfishing</td>\n",
       "      <td>Ben Edelstein</td>\n",
       "      <td>M</td>\n",
       "      <td>...</td>\n",
       "      <td>Blacktip shark</td>\n",
       "      <td>J. Anderson, Townsville Bulletin, 5/21/2005</td>\n",
       "      <td>2005.05.15-Edelstein.pdf</td>\n",
       "      <td>http://sharkattackfile.net/spreadsheets/pdf_di...</td>\n",
       "      <td>http://sharkattackfile.net/spreadsheets/pdf_di...</td>\n",
       "      <td>2005.05.15</td>\n",
       "      <td>2005.05.15</td>\n",
       "      <td>4716.0</td>\n",
       "      <td>NaN</td>\n",
       "      <td>NaN</td>\n",
       "    </tr>\n",
       "  </tbody>\n",
       "</table>\n",
       "<p>2 rows × 24 columns</p>\n",
       "</div>"
      ],
      "text/plain": [
       "     Case Number         Date    Year        Type    Country        Area  \\\n",
       "563   2014.04.22  22-Apr-2014  2014.0  Unprovoked        USA     Florida   \n",
       "1587  2005.05.15  15-May-2005  2005.0  Unprovoked  AUSTRALIA  Queensland   \n",
       "\n",
       "                          Location      Activity           Name Sex  ...  \\\n",
       "563   Cocoa Beach, Brevard  County      Swimming           male  M   ...   \n",
       "1587      50 km east of Townsville  Spearfishing  Ben Edelstein  M   ...   \n",
       "\n",
       "             Species                        Investigator or Source  \\\n",
       "563              NaN            R. Neale, Florida Today, 4/22/2014   \n",
       "1587  Blacktip shark  J. Anderson, Townsville Bulletin, 5/21/2005    \n",
       "\n",
       "                            pdf  \\\n",
       "563   2014.04.22-CocoaBeach.pdf   \n",
       "1587   2005.05.15-Edelstein.pdf   \n",
       "\n",
       "                                           href formula  \\\n",
       "563   http://sharkattackfile.net/spreadsheets/pdf_di...   \n",
       "1587  http://sharkattackfile.net/spreadsheets/pdf_di...   \n",
       "\n",
       "                                                   href Case Number.1  \\\n",
       "563   http://sharkattackfile.net/spreadsheets/pdf_di...    2014.04.22   \n",
       "1587  http://sharkattackfile.net/spreadsheets/pdf_di...    2005.05.15   \n",
       "\n",
       "     Case Number.2 original order Unnamed: 22 Unnamed: 23  \n",
       "563     2014.04.22         5740.0         NaN         NaN  \n",
       "1587    2005.05.15         4716.0         NaN         NaN  \n",
       "\n",
       "[2 rows x 24 columns]"
      ]
     },
     "execution_count": 13,
     "metadata": {},
     "output_type": "execute_result"
    }
   ],
   "source": [
    "df[(df.Sex =='M ')]  # Aquí quiero ver donde se encuentran el resto de valores sueltos, y ver si les puedo reasignar "
   ]
  },
  {
   "cell_type": "code",
   "execution_count": 14,
   "metadata": {},
   "outputs": [],
   "source": [
    "df[(df.Sex =='M ')] = 'M'  #Reasignamos "
   ]
  },
  {
   "cell_type": "code",
   "execution_count": 15,
   "metadata": {},
   "outputs": [
    {
     "data": {
      "text/plain": [
       "NaN    19986\n",
       "M       5096\n",
       "F        637\n",
       "N          2\n",
       ".          1\n",
       "lli        1\n",
       "Name: Sex, dtype: int64"
      ]
     },
     "execution_count": 15,
     "metadata": {},
     "output_type": "execute_result"
    }
   ],
   "source": [
    "df[\"Sex\"].value_counts(dropna=False) \n",
    "#aquí vemos que ha desaparecido 'M '(que tenía un espacio), vamos ha hacer los mismo para el resto "
   ]
  },
  {
   "cell_type": "code",
   "execution_count": 16,
   "metadata": {},
   "outputs": [
    {
     "data": {
      "text/html": [
       "<div>\n",
       "<style scoped>\n",
       "    .dataframe tbody tr th:only-of-type {\n",
       "        vertical-align: middle;\n",
       "    }\n",
       "\n",
       "    .dataframe tbody tr th {\n",
       "        vertical-align: top;\n",
       "    }\n",
       "\n",
       "    .dataframe thead th {\n",
       "        text-align: right;\n",
       "    }\n",
       "</style>\n",
       "<table border=\"1\" class=\"dataframe\">\n",
       "  <thead>\n",
       "    <tr style=\"text-align: right;\">\n",
       "      <th></th>\n",
       "      <th>Case Number</th>\n",
       "      <th>Date</th>\n",
       "      <th>Year</th>\n",
       "      <th>Type</th>\n",
       "      <th>Country</th>\n",
       "      <th>Area</th>\n",
       "      <th>Location</th>\n",
       "      <th>Activity</th>\n",
       "      <th>Name</th>\n",
       "      <th>Sex</th>\n",
       "      <th>...</th>\n",
       "      <th>Species</th>\n",
       "      <th>Investigator or Source</th>\n",
       "      <th>pdf</th>\n",
       "      <th>href formula</th>\n",
       "      <th>href</th>\n",
       "      <th>Case Number.1</th>\n",
       "      <th>Case Number.2</th>\n",
       "      <th>original order</th>\n",
       "      <th>Unnamed: 22</th>\n",
       "      <th>Unnamed: 23</th>\n",
       "    </tr>\n",
       "  </thead>\n",
       "  <tbody>\n",
       "    <tr>\n",
       "      <th>1624</th>\n",
       "      <td>2004.11.11.b</td>\n",
       "      <td>11-Nov-2004</td>\n",
       "      <td>2004</td>\n",
       "      <td>Unprovoked</td>\n",
       "      <td>USA</td>\n",
       "      <td>California</td>\n",
       "      <td>Bunkers, Humboldt Bay, Eureka, Humboldt County</td>\n",
       "      <td>Surfing</td>\n",
       "      <td>Brian Kang</td>\n",
       "      <td>lli</td>\n",
       "      <td>...</td>\n",
       "      <td>5.5 m [18'] white shark</td>\n",
       "      <td>R. Collier, GSAF</td>\n",
       "      <td>2004.11.11.b-Kang.pdf</td>\n",
       "      <td>http://sharkattackfile.net/spreadsheets/pdf_di...</td>\n",
       "      <td>http://sharkattackfile.net/spreadsheets/pdf_di...</td>\n",
       "      <td>2004.11.11.b</td>\n",
       "      <td>2004.11.11.b</td>\n",
       "      <td>4679</td>\n",
       "      <td>NaN</td>\n",
       "      <td>NaN</td>\n",
       "    </tr>\n",
       "  </tbody>\n",
       "</table>\n",
       "<p>1 rows × 24 columns</p>\n",
       "</div>"
      ],
      "text/plain": [
       "       Case Number         Date  Year        Type Country        Area  \\\n",
       "1624  2004.11.11.b  11-Nov-2004  2004  Unprovoked     USA  California   \n",
       "\n",
       "                                            Location Activity        Name  \\\n",
       "1624  Bunkers, Humboldt Bay, Eureka, Humboldt County  Surfing  Brian Kang   \n",
       "\n",
       "      Sex  ...                  Species            Investigator or Source  \\\n",
       "1624  lli  ...  5.5 m [18'] white shark  R. Collier, GSAF                   \n",
       "\n",
       "                        pdf  \\\n",
       "1624  2004.11.11.b-Kang.pdf   \n",
       "\n",
       "                                           href formula  \\\n",
       "1624  http://sharkattackfile.net/spreadsheets/pdf_di...   \n",
       "\n",
       "                                                   href Case Number.1  \\\n",
       "1624  http://sharkattackfile.net/spreadsheets/pdf_di...  2004.11.11.b   \n",
       "\n",
       "     Case Number.2 original order Unnamed: 22 Unnamed: 23  \n",
       "1624  2004.11.11.b           4679         NaN         NaN  \n",
       "\n",
       "[1 rows x 24 columns]"
      ]
     },
     "execution_count": 16,
     "metadata": {},
     "output_type": "execute_result"
    }
   ],
   "source": [
    "#Averiguamos sus index \n",
    "df[(df.Sex == 'N')]     \n",
    "df[(df.Sex == '.')]     \n",
    "df[(df.Sex == 'lli')] "
   ]
  },
  {
   "cell_type": "code",
   "execution_count": 17,
   "metadata": {},
   "outputs": [],
   "source": [
    "df.Sex[6131] = 'M'      #es un 'N' y le asiganamos a 'M'  por su 'Name'(Stephen Pettigew)\n",
    "df.Sex[4938] = 'F'      #es un 'N'                   'F'\n",
    "df.Sex[5437] = np.nan   #es   '.'                   'NaN' por su 'Name'(NaN)\n",
    "df.Sex[1624] = 'M'      #es   'lli'                 'M'   por su 'Name'(Brian Kang)"
   ]
  },
  {
   "cell_type": "code",
   "execution_count": 18,
   "metadata": {},
   "outputs": [
    {
     "data": {
      "text/plain": [
       "NaN    19987\n",
       "M       5098\n",
       "F        638\n",
       "Name: Sex, dtype: int64"
      ]
     },
     "execution_count": 18,
     "metadata": {},
     "output_type": "execute_result"
    }
   ],
   "source": [
    "df[\"Sex\"].value_counts(dropna=False)  # Me quedo solo con 3 valores "
   ]
  },
  {
   "cell_type": "code",
   "execution_count": null,
   "metadata": {},
   "outputs": [],
   "source": []
  },
  {
   "cell_type": "markdown",
   "metadata": {},
   "source": [
    "<h2>1.2 COL  \"AGE\"</h2>"
   ]
  },
  {
   "cell_type": "code",
   "execution_count": 19,
   "metadata": {},
   "outputs": [
    {
     "data": {
      "text/plain": [
       "NaN         22251\n",
       "17            154\n",
       "18            150\n",
       "19            142\n",
       "20            141\n",
       "            ...  \n",
       "? & 19          1\n",
       "18 to 22        1\n",
       "21 or 26        1\n",
       "81              1\n",
       "16 to 18        1\n",
       "Name: Age, Length: 159, dtype: int64"
      ]
     },
     "execution_count": 19,
     "metadata": {},
     "output_type": "execute_result"
    }
   ],
   "source": [
    "df['Age'].value_counts(dropna=False)   #vemos que tenemos 159 datos únos de edad 🤯"
   ]
  },
  {
   "cell_type": "code",
   "execution_count": 20,
   "metadata": {},
   "outputs": [
    {
     "data": {
      "text/plain": [
       "array(['57', '11', '48', nan, '18', '52', '15', '12', '32', '10', '21',\n",
       "       '34', '30', '60', '33', '29', '54', '41', '37', '56', '19', '25',\n",
       "       '69', '38', '55', '35', '46', '45', '14', '40s', '28', '20', '24',\n",
       "       '26', '49', '22', '7', '31', '17', '40', '13', '42', '3', '8',\n",
       "       '50', '16', '82', '73', '20s', '68', '51', '39', '58', 'Teen',\n",
       "       '47', '61', '65', '36', '66', '43', '60s', '9', '72', '59', '6',\n",
       "       '27', '64', '23', '71', '44', '62', '63', '70', '18 months', '53',\n",
       "       '30s', '50s', 'M', 'teen', '77', '74', '28 & 26', '5', '86',\n",
       "       '18 or 20', '12 or 13', '46 & 34', '28, 23 & 30', 'Teens',\n",
       "       '36 & 26', '8 or 10', '84', '\\xa0 ', ' ', '30 or 36', '6½',\n",
       "       '21 & ?', '75', '33 or 37', 'mid-30s', '23 & 20', ' 30',\n",
       "       '7      &    31', ' 28', '20?', \"60's\", '32 & 30', '16 to 18',\n",
       "       '87', '67', 'Elderly', 'mid-20s', 'Ca. 33', '74 ', '45 ',\n",
       "       '21 or 26', '20 ', '>50', '18 to 22', 'adult', '9 & 12', '? & 19',\n",
       "       '9 months', '25 to 35', '23 & 26', '1', '(adult)', '33 & 37',\n",
       "       '25 or 28', '37, 67, 35, 27,  ? & 27', '21, 34,24 & 35', '30 & 32',\n",
       "       '50 & 30', '17 & 35', 'X', '\"middle-age\"', '13 or 18', '34 & 19',\n",
       "       '33 & 26', '2 to 3 months', 'MAKE LINE GREEN', ' 43', '81',\n",
       "       '\"young\"', '7 or 8', '78', '17 & 16', 'F', 'Both 11', '9 or 10',\n",
       "       'young', '36 & 23', '  ', 'A.M.', '?    &   14', '10 or 12',\n",
       "       '31 or 33', '2½', '13 or 14'], dtype=object)"
      ]
     },
     "execution_count": 20,
     "metadata": {},
     "output_type": "execute_result"
    }
   ],
   "source": [
    "df.Age.unique()   "
   ]
  },
  {
   "cell_type": "markdown",
   "metadata": {},
   "source": [
    "<h3>PICANDO DATA 🔨</h3>"
   ]
  },
  {
   "cell_type": "code",
   "execution_count": 21,
   "metadata": {},
   "outputs": [
    {
     "data": {
      "text/html": [
       "<div>\n",
       "<style scoped>\n",
       "    .dataframe tbody tr th:only-of-type {\n",
       "        vertical-align: middle;\n",
       "    }\n",
       "\n",
       "    .dataframe tbody tr th {\n",
       "        vertical-align: top;\n",
       "    }\n",
       "\n",
       "    .dataframe thead th {\n",
       "        text-align: right;\n",
       "    }\n",
       "</style>\n",
       "<table border=\"1\" class=\"dataframe\">\n",
       "  <thead>\n",
       "    <tr style=\"text-align: right;\">\n",
       "      <th></th>\n",
       "      <th>Case Number</th>\n",
       "      <th>Date</th>\n",
       "      <th>Year</th>\n",
       "      <th>Type</th>\n",
       "      <th>Country</th>\n",
       "      <th>Area</th>\n",
       "      <th>Location</th>\n",
       "      <th>Activity</th>\n",
       "      <th>Name</th>\n",
       "      <th>Sex</th>\n",
       "      <th>...</th>\n",
       "      <th>Species</th>\n",
       "      <th>Investigator or Source</th>\n",
       "      <th>pdf</th>\n",
       "      <th>href formula</th>\n",
       "      <th>href</th>\n",
       "      <th>Case Number.1</th>\n",
       "      <th>Case Number.2</th>\n",
       "      <th>original order</th>\n",
       "      <th>Unnamed: 22</th>\n",
       "      <th>Unnamed: 23</th>\n",
       "    </tr>\n",
       "  </thead>\n",
       "  <tbody>\n",
       "    <tr>\n",
       "      <th>3153</th>\n",
       "      <td>1977.03.13.b</td>\n",
       "      <td>13-Mar-1977</td>\n",
       "      <td>1977</td>\n",
       "      <td>Sea Disaster</td>\n",
       "      <td>AUSTRALIA</td>\n",
       "      <td>Queensland</td>\n",
       "      <td>Near Moreton Island in Moreton Bay</td>\n",
       "      <td>Their 9 m launch was run down by a 25,000-ton ...</td>\n",
       "      <td>Victor Beaver</td>\n",
       "      <td>M</td>\n",
       "      <td>...</td>\n",
       "      <td>NaN</td>\n",
       "      <td>Sunday Mail (QLD), 10/11/1992, p.109; A. Sharp...</td>\n",
       "      <td>1977.03.13.b-Beaver.pdf</td>\n",
       "      <td>http://sharkattackfile.net/spreadsheets/pdf_di...</td>\n",
       "      <td>http://sharkattackfile.net/spreadsheets/pdf_di...</td>\n",
       "      <td>1977.03.13.b</td>\n",
       "      <td>1977.03.13.b</td>\n",
       "      <td>3150</td>\n",
       "      <td>NaN</td>\n",
       "      <td>NaN</td>\n",
       "    </tr>\n",
       "  </tbody>\n",
       "</table>\n",
       "<p>1 rows × 24 columns</p>\n",
       "</div>"
      ],
      "text/plain": [
       "       Case Number         Date  Year          Type    Country        Area  \\\n",
       "3153  1977.03.13.b  13-Mar-1977  1977  Sea Disaster  AUSTRALIA  Queensland   \n",
       "\n",
       "                                Location  \\\n",
       "3153  Near Moreton Island in Moreton Bay   \n",
       "\n",
       "                                               Activity           Name Sex  \\\n",
       "3153  Their 9 m launch was run down by a 25,000-ton ...  Victor Beaver   M   \n",
       "\n",
       "      ... Species                             Investigator or Source  \\\n",
       "3153  ...     NaN  Sunday Mail (QLD), 10/11/1992, p.109; A. Sharp...   \n",
       "\n",
       "                          pdf  \\\n",
       "3153  1977.03.13.b-Beaver.pdf   \n",
       "\n",
       "                                           href formula  \\\n",
       "3153  http://sharkattackfile.net/spreadsheets/pdf_di...   \n",
       "\n",
       "                                                   href Case Number.1  \\\n",
       "3153  http://sharkattackfile.net/spreadsheets/pdf_di...  1977.03.13.b   \n",
       "\n",
       "     Case Number.2 original order Unnamed: 22 Unnamed: 23  \n",
       "3153  1977.03.13.b           3150         NaN         NaN  \n",
       "\n",
       "[1 rows x 24 columns]"
      ]
     },
     "execution_count": 21,
     "metadata": {},
     "output_type": "execute_result"
    }
   ],
   "source": [
    "#En algunos vamos a 'REDONDEAR' al año y otros vamos a sacar la 'MEDIA'\n",
    "df[(df.Age == '18 months')]\n",
    "df[(df.Age == '2 to 3 months')]\n",
    "df[(df.Age == '13 or 14')]\n",
    "df[(df.Age == '10 or 12')]\n",
    "df[(df.Age == '31 or 33')]\n",
    "df[(df.Age == '9 or 10')]\n",
    "df[(df.Age == '18 or 20')]\n",
    "df[(df.Age == '36 & 23')]\n",
    "df[(df.Age == '9 months')]\n",
    "df[(df.Age == '13 or 18')]\n",
    "df[(df.Age == '21 & ?')]\n",
    "df[(df.Age == '21, 34,24 & 35')]\n",
    "df[(df.Age == '7 or 8')]\n",
    "df[(df.Age == '37, 67, 35, 27,  ? & 27')]\n",
    "df[(df.Age == '17 & 16')]\n",
    "df[(df.Age == '30 & 32')]\n",
    "df[(df.Age == '33 & 26')]\n",
    "df[(df.Age == '33 or 37')]    \n",
    "df[(df.Age == '? & 19')]    \n",
    "df[(df.Age == '25 or 28')]    \n",
    "df[(df.Age == '18 to 22')]       \n",
    "df[(df.Age == '30)')]\n",
    "df[(df.Age == '')]\n",
    "df[(df.Age == '0 ')]\n",
    "df[(df.Age == '74 ')]"
   ]
  },
  {
   "cell_type": "code",
   "execution_count": 22,
   "metadata": {},
   "outputs": [],
   "source": [
    "#Reasignando valores\n",
    "df.Age[445] = '3'  #Año\n",
    "df.Age[4213] = '1'  \n",
    "df.Age[6265] = '14'\n",
    "df.Age[5312] = '11'\n",
    "df.Age[5483] = '32'\n",
    "df.Age[4818] = '10'\n",
    "df.Age[1325] = '19'\n",
    "df.Age[4999] = '29'\n",
    "df.Age[3546] = '1'\n",
    "df.Age[4075] = '15'\n",
    "df.Age[1925] = '21'\n",
    "df.Age[3998] = '28'\n",
    "df.Age[4489] = '8'  #'7 or 8'\n",
    "df.Age[6063] = '8'  #'7 or 8'\n",
    "df.Age[3986] = '39' \n",
    "df.Age[4587] = '17'\n",
    "df.Age[4009] = '31'\n",
    "df.Age[4118] = '29'\n",
    "df.Age[1949] = '35'\n",
    "df.Age[3517] = '19'\n",
    "df.Age[3933] = '26'\n",
    "df.Age[3375] = '20'\n",
    "df.Age[1825] = '0'\n",
    "df.Age[3108] = '0'\n",
    "df.Age[5084] = '0'\n",
    "df.Age[3802] = '30'\n",
    "df.Age[1824] = '30'\n",
    "df.Age[3153] = '74'"
   ]
  },
  {
   "cell_type": "markdown",
   "metadata": {},
   "source": [
    "**¿Y SI MEJOR USO REGEX? 🧐🤓**"
   ]
  },
  {
   "cell_type": "code",
   "execution_count": 23,
   "metadata": {},
   "outputs": [],
   "source": [
    "df['Age'] = df['Age'].str.replace(r'Teen|teen|Teens|\"young\"|young', \"16\")\n",
    "df['Age'] = df['Age'].str.replace(r'adult|\"middle-age\"|(adult)|mid-30s|30or\\s36', \"30\")\n",
    "df['Age'] = df['Age'].str.replace(r'MAKE LINE GREEN|\\xa0|(M)|X|A.M.|F', '0')\n",
    "df['Age'] = df['Age'].str.replace(r'Elderly', '50')\n",
    "df['Age'] = df['Age'].str.replace(r'mid-20s|(20\\W)', '20')\n",
    "\n",
    "df['Age'] = df['Age'].str.replace(r'.s$', '')  # Me cargo a todos aquellos años que van acompañados de una 's' Ej: '50s'\n",
    "df['Age'] = df['Age'].str.replace(r'½', '')\n",
    "df['Age'] = df['Age'].str.replace(r'^\\W', '')\n",
    "\n",
    "df['Age'] = df['Age'].str.replace(r'\\d+\\s+(\\w)+\\s+\\d+', '20')  # Uniendo OR ('30 or 36') y TO ('25 to 35')= media de 20\n",
    "df['Age'] = df['Age'].str.replace(r'\\d+\\s+(\\W)+\\s+\\d+', '30')  # Uniendo & ('32 & 30') = media de 30\n",
    "df['Age'] = df['Age'].str.replace(r'Both\\s11', '11')\n",
    "df['Age'] = df['Age'].str.replace(r'Ca.\\s33', '11')\n",
    "df['Age'] = df['Age'].str.replace(r'\\s+&\\s+14', '14')\n",
    "df['Age'] = df['Age'].str.replace(r'00', '0')\n",
    "\n",
    "df['Age'] = df['Age'].str.replace(r'450', '45')\n",
    "df['Age'] = df['Age'].str.replace(r'740', '45')\n",
    "df['Age'] = df['Age'].str.replace(r'28,030', '45')\n",
    "df['Age'] = df['Age'].str.replace(r'28\\,\\s30', '45')"
   ]
  },
  {
   "cell_type": "code",
   "execution_count": 24,
   "metadata": {},
   "outputs": [
    {
     "data": {
      "text/plain": [
       "array(['9', '87', '86', '84', '82', '81', '8', '78', '77', '75', '74',\n",
       "       '73', '72', '71', '70', '7', '69', '68', '67', '66', '65', '64',\n",
       "       '63', '62', '61', '60', '6', '59', '58', '57', '56', '55', '54',\n",
       "       '53', '52', '51', '50', '5', '49', '48', '47', '46', '45 ', '45',\n",
       "       '44', '43', '42', '41', '40', '4', '39', '38', '37', '36', '35',\n",
       "       '34', '33', '32', '31', '30', '3', '29', '28', '27', '26', '25',\n",
       "       '24', '23', '22', '21', '20', '2', '19', '18', '17', '16', '15',\n",
       "       '14', '13', '12', '11', '10', '1', '0', nan], dtype=object)"
      ]
     },
     "execution_count": 24,
     "metadata": {},
     "output_type": "execute_result"
    }
   ],
   "source": [
    "df.Age.sort_values(ascending = False).unique()       #😎 y"
   ]
  },
  {
   "cell_type": "code",
   "execution_count": 25,
   "metadata": {},
   "outputs": [],
   "source": [
    "df['Age'] = df.Age.apply(float)  #😎🎉🎊 ya tenemos una lista guapa y ya no son strings. "
   ]
  },
  {
   "cell_type": "code",
   "execution_count": 26,
   "metadata": {},
   "outputs": [
    {
     "data": {
      "text/plain": [
       "2846     87.0\n",
       "922      86.0\n",
       "1798     84.0\n",
       "130      82.0\n",
       "4428     81.0\n",
       "         ... \n",
       "25718     NaN\n",
       "25719     NaN\n",
       "25720     NaN\n",
       "25721     NaN\n",
       "25722     NaN\n",
       "Name: Age, Length: 25723, dtype: float64"
      ]
     },
     "execution_count": 26,
     "metadata": {},
     "output_type": "execute_result"
    }
   ],
   "source": [
    "df['Age'].sort_values(ascending = False)"
   ]
  },
  {
   "cell_type": "code",
   "execution_count": null,
   "metadata": {},
   "outputs": [],
   "source": []
  },
  {
   "cell_type": "code",
   "execution_count": null,
   "metadata": {},
   "outputs": [],
   "source": []
  },
  {
   "cell_type": "markdown",
   "metadata": {},
   "source": [
    "<h1> 2. SPACE-TIME STATISTICS</h1>"
   ]
  },
  {
   "cell_type": "markdown",
   "metadata": {},
   "source": [
    "<h2>2.1 COL \"DATE\" ===> \"Year\" + \"Month\"</h2>"
   ]
  },
  {
   "cell_type": "code",
   "execution_count": 27,
   "metadata": {},
   "outputs": [
    {
     "data": {
      "text/plain": [
       "NaN                     19421\n",
       "1957                       11\n",
       "1942                        9\n",
       "1956                        8\n",
       "1941                        7\n",
       "                        ...  \n",
       "24-Feb-1991                 1\n",
       "Reported 15-Dec-1877        1\n",
       "Reported 05-May-1917        1\n",
       " 27-Mar-2010                1\n",
       "Reported 08-Jul-1908        1\n",
       "Name: Date, Length: 5433, dtype: int64"
      ]
     },
     "execution_count": 27,
     "metadata": {},
     "output_type": "execute_result"
    }
   ],
   "source": [
    "df.Date.value_counts(dropna=False)    #DATES  tenemos una de \"Length: 5434\" "
   ]
  },
  {
   "cell_type": "code",
   "execution_count": 28,
   "metadata": {},
   "outputs": [
    {
     "data": {
      "text/plain": [
       "array(['25-Jun-2018', '18-Jun-2018', '09-Jun-2018', ..., '1883-1889',\n",
       "       '1845-1853', nan], dtype=object)"
      ]
     },
     "execution_count": 28,
     "metadata": {},
     "output_type": "execute_result"
    }
   ],
   "source": [
    "df.Date.unique()"
   ]
  },
  {
   "cell_type": "code",
   "execution_count": 29,
   "metadata": {},
   "outputs": [
    {
     "data": {
      "text/plain": [
       "0        2018\n",
       "1        2018\n",
       "2        2018\n",
       "3        2018\n",
       "4        2018\n",
       "         ... \n",
       "25718     NaN\n",
       "25719     NaN\n",
       "25720     NaN\n",
       "25721     NaN\n",
       "25722     NaN\n",
       "Name: Year, Length: 25723, dtype: object"
      ]
     },
     "execution_count": 29,
     "metadata": {},
     "output_type": "execute_result"
    }
   ],
   "source": [
    "res = \"(\\d{4})\"  #solo nos quedamos con los AÑOS\n",
    "df['Year'] = df['Date'].str.extract(pat = res)\n",
    "df['Year']"
   ]
  },
  {
   "cell_type": "code",
   "execution_count": 30,
   "metadata": {},
   "outputs": [
    {
     "data": {
      "text/plain": [
       "array(['2018', '2017', '2016', '2015', '2014', nan, '2013', '2012',\n",
       "       '2011', '2008', '2010', '2009', '2006', '2007', '2005', '2004',\n",
       "       '2003', '2002', '2001', '2000', '1999', '1998', '1997', '1996',\n",
       "       '1995', '1984', '1994', '1993', '1992', '1991', '1990', '1989',\n",
       "       '1988', '1987', '1986', '1985', '1983', '1982', '1981', '1980',\n",
       "       '1979', '1978', '1977', '1976', '1975', '1974', '1973', '1972',\n",
       "       '1971', '1970', '1969', '1968', '1967', '1966', '1965', '1964',\n",
       "       '1954', '1963', '1962', '1961', '1960', '1959', '2176', '1958',\n",
       "       '1957', '1956', '1955', '1953', '1952', '1951', '1950', '1949',\n",
       "       '1948', '1848', '1947', '1946', '1945', '1944', '1943', '1942',\n",
       "       '1941', '1940', '1939', '1938', '1937', '1936', '1935', '1934',\n",
       "       '1933', '1932', '1931', '1930', '1929', '1928', '1927', '1926',\n",
       "       '1925', '1924', '1923', '1922', '1921', '1920', '1919', '1918',\n",
       "       '1917', '1916', '1915', '1914', '1913', '1912', '1911', '1910',\n",
       "       '1909', '1908', '1907', '1906', '1905', '1904', '1903', '1902',\n",
       "       '1901', '1900', '1899', '1898', '1897', '1896', '1895', '1894',\n",
       "       '1893', '1892', '1891', '1890', '1889', '1888', '1887', '1886',\n",
       "       '1885', '1884', '1883', '1882', '1881', '1880', '1879', '1878',\n",
       "       '1877', '1876', '1875', '1874', '1870', '1873', '1872', '1871',\n",
       "       '1869', '1868', '1867', '1866', '1865', '1864', '1863', '1862',\n",
       "       '1861', '1860', '1859', '1858', '1857', '1856', '1855', '1853',\n",
       "       '1852', '1850', '1851', '1849', '1847', '1846', '1845', '1844',\n",
       "       '1842', '1841', '1840', '1839', '1837', '1836', '1835', '1834',\n",
       "       '1832', '1831', '1830', '1829', '1828', '1827', '1826', '1820',\n",
       "       '1825', '1823', '1822', '1819', '1818', '1817', '1816', '1815',\n",
       "       '1812', '1811', '1810', '1808', '1807', '1806', '1805', '1804',\n",
       "       '1803', '1802', '1801', '1800', '1797', '1792', '1791', '1788',\n",
       "       '1787', '1786', '1785', '1784', '1783', '1780', '1779', '1776',\n",
       "       '1771', '1767', '1764', '1758', '1753', '1751', '1749', '1755',\n",
       "       '1748', '1742', '1738', '1733', '1723', '1721', '1703', '1700',\n",
       "       '1600', '1638', '1637', '1617', '1642', '1595', '1580', '1555',\n",
       "       '1554', '1543'], dtype=object)"
      ]
     },
     "execution_count": 30,
     "metadata": {},
     "output_type": "execute_result"
    }
   ],
   "source": [
    "df.Year.unique()"
   ]
  },
  {
   "cell_type": "code",
   "execution_count": 31,
   "metadata": {},
   "outputs": [
    {
     "data": {
      "text/plain": [
       "NaN     19442\n",
       "2015      143\n",
       "2017      137\n",
       "2016      131\n",
       "2011      129\n",
       "        ...  \n",
       "1834        1\n",
       "1791        1\n",
       "1543        1\n",
       "1815        1\n",
       "1580        1\n",
       "Name: Year, Length: 250, dtype: int64"
      ]
     },
     "execution_count": 31,
     "metadata": {},
     "output_type": "execute_result"
    }
   ],
   "source": [
    "df.Year.value_counts(dropna=False)"
   ]
  },
  {
   "cell_type": "code",
   "execution_count": 32,
   "metadata": {},
   "outputs": [
    {
     "data": {
      "text/plain": [
       "0        Jun\n",
       "1        Jun\n",
       "2        Jun\n",
       "3        Jun\n",
       "4        Jun\n",
       "        ... \n",
       "25718    NaN\n",
       "25719    NaN\n",
       "25720    NaN\n",
       "25721    NaN\n",
       "25722    NaN\n",
       "Name: Month, Length: 25723, dtype: object"
      ]
     },
     "execution_count": 32,
     "metadata": {},
     "output_type": "execute_result"
    }
   ],
   "source": [
    "res_mes = '(Jan|Feb|Mar|Apr|May|Jun|Jul|Aug|Oct|Nov|Dec)'    #parece interesante tener otra columna que solo sea MESES\n",
    "df['Month'] = df['Date'].str.extract(pat = res_mes)\n",
    "df['Month']"
   ]
  },
  {
   "cell_type": "code",
   "execution_count": 33,
   "metadata": {},
   "outputs": [
    {
     "data": {
      "text/plain": [
       "array(['Jun', 'May', 'Apr', 'Mar', 'Feb', 'Jan', 'Dec', 'Nov', 'Oct', nan,\n",
       "       'Aug', 'Jul'], dtype=object)"
      ]
     },
     "execution_count": 33,
     "metadata": {},
     "output_type": "execute_result"
    }
   ],
   "source": [
    "df.Month.unique()"
   ]
  },
  {
   "cell_type": "code",
   "execution_count": 34,
   "metadata": {},
   "outputs": [
    {
     "data": {
      "text/plain": [
       "NaN    20496\n",
       "Jul      671\n",
       "Aug      602\n",
       "Jan      519\n",
       "Jun      497\n",
       "Apr      454\n",
       "Oct      446\n",
       "Dec      438\n",
       "Mar      413\n",
       "Nov      408\n",
       "May      397\n",
       "Feb      382\n",
       "Name: Month, dtype: int64"
      ]
     },
     "execution_count": 34,
     "metadata": {},
     "output_type": "execute_result"
    }
   ],
   "source": [
    "df.Month.value_counts(dropna=False)"
   ]
  },
  {
   "cell_type": "markdown",
   "metadata": {},
   "source": [
    "<h2> 2.2 COL \"LOCATION\" ===>  \"Place\"</h2>"
   ]
  },
  {
   "cell_type": "code",
   "execution_count": 35,
   "metadata": {},
   "outputs": [
    {
     "data": {
      "text/plain": [
       "NaN                                                                          19961\n",
       "New Smyrna Beach, Volusia County                                               163\n",
       "Daytona Beach, Volusia County                                                   30\n",
       "Ponce Inlet, Volusia County                                                     20\n",
       "Melbourne Beach, Brevard County                                                 18\n",
       "                                                                             ...  \n",
       "Cobblestones, Margaret River Area                                                1\n",
       "Cone Bay                                                                         1\n",
       "Near mouth of River Cumalarang, 5 miles from Port Isabela, Basilan Island        1\n",
       "Off Domain, Sydney Harbor                                                        1\n",
       "Southport, Brunswick County                                                      1\n",
       "Name: Location, Length: 4109, dtype: int64"
      ]
     },
     "execution_count": 35,
     "metadata": {},
     "output_type": "execute_result"
    }
   ],
   "source": [
    "df.Location.value_counts(dropna=False)  #LOCATION, vemos si alguno de estos lugares se encuentran en en los paises "
   ]
  },
  {
   "cell_type": "code",
   "execution_count": 36,
   "metadata": {},
   "outputs": [
    {
     "data": {
      "text/plain": [
       "array(['Oceanside, San Diego County', 'St. Simon Island, Glynn County',\n",
       "       'Habush, Oahu', 'Arrawarra Headland', 'La Ticla',\n",
       "       'Flat Rock, Ballina', 'Piedade Beach, Recife',\n",
       "       'Lighhouse Point Park, Ponce Inlet, Volusia County',\n",
       "       'Cocoa Beach, Brevard  County', 'Daytona Beach, Volusia County',\n",
       "       'Cairns Aquarium', 'Isle of Palms,  Charleston County',\n",
       "       'Hilton Head Island, Beaufort County', \"Off Land's End\",\n",
       "       'Dugong Bay', 'Nahoon Beach, East London',\n",
       "       'Sharpes Beach, Ballina', 'Sai Noi Beach', 'Manuelita',\n",
       "       'Gearys Beach', 'Lennox Head', 'Surfers Point, Prevelly',\n",
       "       'South Point, Gracetown', 'Madoogali',\n",
       "       'Robberg Beach, Plettenberg Bay',\n",
       "       'Shipwreck’s Beach, Keoneloa Bay, Kauai', 'Piedade',\n",
       "       'Lefthanders, Margaret River Area',\n",
       "       'Cobblestones, Margaret River Area', 'Nirvana Beach',\n",
       "       'Praia de Sauaçuhy, Maceió', 'Magenta Beach, Noumea', 'Bimini',\n",
       "       'St. Francis Bay', 'Kukio Beach', \"Waterman's Bay\", 'Lorne',\n",
       "       'Winkipop', 'Durban', 'Little Congwong Beach, La Perouse ',\n",
       "       'Westernport Bay', 'Surf Beach, Kiama', 'Mooloolaba Beach',\n",
       "       'Espirito Santo', 'Santa Fe Island', 'Avalon Point, Manurah',\n",
       "       'Cone Bay', 'Nouville', 'Lizard Island'], dtype=object)"
      ]
     },
     "execution_count": 36,
     "metadata": {},
     "output_type": "execute_result"
    }
   ],
   "source": [
    "df.Location.head(50).unique()"
   ]
  },
  {
   "cell_type": "code",
   "execution_count": 37,
   "metadata": {},
   "outputs": [],
   "source": [
    "res_place = '..(\\,.\\w+$)'   #Me quedo con el NAME de cada 'Location'\n",
    "df['Place'] = df.Location.str.extract(pat = res_place)\n"
   ]
  },
  {
   "cell_type": "code",
   "execution_count": 38,
   "metadata": {},
   "outputs": [
    {
     "data": {
      "text/plain": [
       ", Maui           74\n",
       ", Durban         45\n",
       ", Sydney         41\n",
       ", Recife         36\n",
       ", Oahu           20\n",
       "                 ..\n",
       ", Macau           1\n",
       ", Strand          1\n",
       ", Northcliffe     1\n",
       ", Manila          1\n",
       ", Naples          1\n",
       "Name: Place, Length: 153, dtype: int64"
      ]
     },
     "execution_count": 38,
     "metadata": {},
     "output_type": "execute_result"
    }
   ],
   "source": [
    "df.Place.value_counts()"
   ]
  },
  {
   "cell_type": "code",
   "execution_count": 39,
   "metadata": {},
   "outputs": [],
   "source": [
    "df['Place'] = df['Place'].str.replace(r'(\\,)', '')"
   ]
  },
  {
   "cell_type": "code",
   "execution_count": 40,
   "metadata": {},
   "outputs": [
    {
     "data": {
      "text/plain": [
       "NaN          25223\n",
       " Maui           74\n",
       " Durban         45\n",
       " Sydney         41\n",
       " Recife         36\n",
       "             ...  \n",
       " Truk            1\n",
       " Lifou           1\n",
       " Eilat           1\n",
       " Freetown        1\n",
       " Búzios          1\n",
       "Name: Place, Length: 154, dtype: int64"
      ]
     },
     "execution_count": 40,
     "metadata": {},
     "output_type": "execute_result"
    }
   ],
   "source": [
    "df.Place.value_counts(dropna=False)"
   ]
  },
  {
   "cell_type": "code",
   "execution_count": 41,
   "metadata": {},
   "outputs": [],
   "source": [
    "res_place = '(^\\w+\\,)'      #Me quedo con el NAME de cada 'Location'   \n",
    "df['Place'] = df.Location.str.extract(pat = res_place)\n"
   ]
  },
  {
   "cell_type": "code",
   "execution_count": 42,
   "metadata": {},
   "outputs": [
    {
     "data": {
      "text/plain": [
       "NaN              25365\n",
       "Ahvaz,              12\n",
       "Nahoon,              9\n",
       "Jacksonville,        7\n",
       "Jupiter,             6\n",
       "                 ...  \n",
       "Cobblestones,        1\n",
       "Hamstead,            1\n",
       "Offshore,            1\n",
       "Southgates,          1\n",
       "Velzyland,           1\n",
       "Name: Place, Length: 262, dtype: int64"
      ]
     },
     "execution_count": 42,
     "metadata": {},
     "output_type": "execute_result"
    }
   ],
   "source": [
    "df.Place.value_counts(dropna=False)"
   ]
  },
  {
   "cell_type": "code",
   "execution_count": null,
   "metadata": {},
   "outputs": [],
   "source": []
  },
  {
   "cell_type": "markdown",
   "metadata": {},
   "source": [
    "<h1>3. FREE PROYECT </h1>"
   ]
  },
  {
   "cell_type": "markdown",
   "metadata": {},
   "source": [
    "<h2>COL \"SPECIES\"</h2>"
   ]
  },
  {
   "cell_type": "code",
   "execution_count": 43,
   "metadata": {},
   "outputs": [
    {
     "data": {
      "text/plain": [
       "NaN                                                            22258\n",
       "White shark                                                      163\n",
       "Shark involvement prior to death was not confirmed               105\n",
       "Invalid                                                          102\n",
       "Shark involvement not confirmed                                   88\n",
       "                                                               ...  \n",
       "17' white shark                                                    1\n",
       "Bronze whaler shark, 2.4 m [8'] Identified by Clyde Buttery        1\n",
       "Zambesi shark, 1.2 m [4']                                          1\n",
       "Juvenile bull shark                                                1\n",
       "White shark, 1.5 m [5'] k                                          1\n",
       "Name: Species, Length: 1551, dtype: int64"
      ]
     },
     "execution_count": 43,
     "metadata": {},
     "output_type": "execute_result"
    }
   ],
   "source": [
    "df.Species.value_counts(dropna=False)  #ESPECIES DE TIBURON"
   ]
  },
  {
   "cell_type": "code",
   "execution_count": 44,
   "metadata": {},
   "outputs": [
    {
     "data": {
      "text/plain": [
       "array(['White shark', nan, '2 m shark', 'Tiger shark, 3m', 'Tiger shark',\n",
       "       \"Lemon shark, 3'\", \"Bull shark, 6'\", 'Grey reef shark',\n",
       "       'Invalid incident', 'Tawny nurse shark, 2m',\n",
       "       'Shark involvement not confirmed', 'Questionable', '3 m shark',\n",
       "       'White shark, 3.5 m', 'White shark, 2.5 m', \"6' shark\",\n",
       "       'Juvenile bull shark', 'Bull shark', \"Tiger shark, 12'\",\n",
       "       'Wobbegong shark', '3.5 m shark', '1.8 m shark', 'Blacktip shark',\n",
       "       'Juvenile white shark,  2.7 to 3.2 m', 'Bull shark, 2 m',\n",
       "       'Possibly a wobbegong',\n",
       "       'Injury believed caused by an eel, not a shark',\n",
       "       'Galapagos shark?', '2m shark', 'Bull shark, 3 m ',\n",
       "       'Grey reef shark. 2 m', 'small shark', 'Wobbegong shark?',\n",
       "       'Juvenile nurse shark', \"Nurse shark. 5'\", 'Tiger shark, female',\n",
       "       'Some drowned but other may have been killed by blue sharks',\n",
       "       'White shark, 4.6 m', 'Cookiecutter shark', 'Wobbegong shark, 1 m',\n",
       "       'White shark, 4.5 m', 'Spinner shark, 4 to 5 feet',\n",
       "       'Tiger shark, 8 to 10 feet', \"8' shark\",\n",
       "       'Death may have been due to drowning', \"5' shark\",\n",
       "       \"4' to 5' shark\", 'Porbeagle, 1.5 m', 'White shark, 3.5m',\n",
       "       \"5' to 6' shark\", 'White shark, 3 to 3.5m ', 'Nurse shark',\n",
       "       'White shark, 3 m', 'Shark involvement questionable',\n",
       "       \"White shark, 5' to 7'\", 'Possibly a juvenile blacktip shark',\n",
       "       'Oceanic whitetip shark, 1.8 to 2 m', \"4' shark\",\n",
       "       \"White shark, 10'\", 'A small shark', \"Sandtiger shark  2'\",\n",
       "       \"Blue shark 6'\", '\"A small shark\"', \"White shark, 11' to 13'\",\n",
       "       \"White shark, 8' to 10'\", \"White shark, 9'\",\n",
       "       \"Bull shark, 4' to 5'\", 'Tiger shark, 100 kg',\n",
       "       'Shark involvement prior to death not confirmed',\n",
       "       'No shark invovlement ', 'Bull shark, 2m', 'White shark, 4 m',\n",
       "       'Seven-gill shark', '3m shark, probably a smooth hound',\n",
       "       \"3' shark\", \"9' shark\", 'Shark involvement highly doubtful',\n",
       "       'No shark invovlement - it ws a publicity stunt',\n",
       "       \"Bull shark, 5' to 7'\", \"10' shark\", 'Lemon shark',\n",
       "       'Bull shark, 1.5', 'Lemon shark pup', \"White shark, female, 14'\",\n",
       "       'Caribbean reef shark', 'Bull shark, 4 m', 'Bull shark, 1 m',\n",
       "       'a small shark', 'Wobbegong shark, 2m',\n",
       "       'Broadnose sevengill shark, 1.5 m', \" 6' to 8' shark\",\n",
       "       \"3' to 4' shark\", \"Tiger shark, 10'\", 'Invalid',\n",
       "       'Bull shark, 3.5 m', \"Tiger shark, 10' \", 'Blue shark',\n",
       "       \"Nurse shark, 4'\", 'reef shark, 1m', \"White shark, 10' to 12'\",\n",
       "       \"Lemon shark, 9'\", 'Angel shark', 'dogfish shark',\n",
       "       'Tawny nurse shark', \"Caribbean reef shark, 4.5'\",\n",
       "       \"3' to 5' shark\",\n",
       "       \"Said to involve an 8' shark but more likely damage caused by debris\",\n",
       "       '3+ m shark', 'Mako shark', 'Bronze whaler sharks x 3'],\n",
       "      dtype=object)"
      ]
     },
     "execution_count": 44,
     "metadata": {},
     "output_type": "execute_result"
    }
   ],
   "source": [
    "df.Species.head(270).unique()"
   ]
  },
  {
   "cell_type": "code",
   "execution_count": 45,
   "metadata": {},
   "outputs": [],
   "source": [
    "#res_species = '(+Nurse+ shark|Cookiecutter shark|blue sharks|Bull shark|White+ shark|Lemon shark|Grey reef shark|Tiger shark|Invalid incident|Wobbegong+ shark)'\n",
    "res_species ='(Lemon|Seven-gil|Bull|Wobbegong|White|Spinner|Tiger|Porbeagle|Nurse|Galapagos|Cookiecutter|shark|Invalid|not|No shark|Angel|reef|sevengill)'\n",
    "df['Species'] = df.Species.str.extract(pat = res_species)"
   ]
  },
  {
   "cell_type": "code",
   "execution_count": 46,
   "metadata": {},
   "outputs": [
    {
     "data": {
      "text/plain": [
       "array(['White', nan, 'shark', 'Tiger', 'Lemon', 'Bull', 'reef', 'Invalid',\n",
       "       'not', 'Wobbegong', 'Galapagos', 'Nurse', 'Cookiecutter',\n",
       "       'Spinner', 'Porbeagle', 'No shark', 'Seven-gil', 'sevengill',\n",
       "       'Angel'], dtype=object)"
      ]
     },
     "execution_count": 46,
     "metadata": {},
     "output_type": "execute_result"
    }
   ],
   "source": [
    "df.Species.unique()"
   ]
  },
  {
   "cell_type": "code",
   "execution_count": 47,
   "metadata": {},
   "outputs": [
    {
     "data": {
      "text/plain": [
       "NaN             22485\n",
       "shark            1848\n",
       "White             439\n",
       "Tiger             237\n",
       "not               225\n",
       "Bull              133\n",
       "Invalid           103\n",
       "reef               60\n",
       "Nurse              49\n",
       "Wobbegong          49\n",
       "Lemon              32\n",
       "No shark           23\n",
       "Spinner            14\n",
       "Galapagos           7\n",
       "Angel               6\n",
       "Porbeagle           6\n",
       "sevengill           4\n",
       "Seven-gil           2\n",
       "Cookiecutter        1\n",
       "Name: Species, dtype: int64"
      ]
     },
     "execution_count": 47,
     "metadata": {},
     "output_type": "execute_result"
    }
   ],
   "source": [
    "df.Species.value_counts(dropna=False)"
   ]
  },
  {
   "cell_type": "markdown",
   "metadata": {},
   "source": [
    "<h2>COL \"INJURY\"</h2>"
   ]
  },
  {
   "cell_type": "code",
   "execution_count": 48,
   "metadata": {},
   "outputs": [
    {
     "data": {
      "text/plain": [
       "NaN                                                    19449\n",
       "FATAL                                                    802\n",
       "Survived                                                  97\n",
       "Foot bitten                                               87\n",
       "No injury                                                 82\n",
       "                                                       ...  \n",
       "Hamstring bitten                                           1\n",
       "No injury to occupants, shark bit anchor and ladder        1\n",
       "Minor injury to foot & ankle                               1\n",
       "\"Very severe wounds\"                                       1\n",
       "FATAL or drowning & scavenging                             1\n",
       "Name: Injury, Length: 3737, dtype: int64"
      ]
     },
     "execution_count": 48,
     "metadata": {},
     "output_type": "execute_result"
    }
   ],
   "source": [
    "df.Injury.value_counts(dropna=False)   #LESIONES - ATAQUES DE TIBURON, la col 'Fatal' no es tan sabrosón como está "
   ]
  },
  {
   "cell_type": "code",
   "execution_count": 49,
   "metadata": {},
   "outputs": [
    {
     "data": {
      "text/plain": [
       "array(['No injury to occupant, outrigger canoe and paddle damaged',\n",
       "       'Minor injury to left thigh',\n",
       "       'Injury to left lower leg from surfboard skeg',\n",
       "       'Minor injury to lower leg',\n",
       "       'Lacerations to leg & hand shark PROVOKED INCIDENT',\n",
       "       'No injury, board bitten', 'FATAL',\n",
       "       'Minor injury to foot. PROVOKED INCIDENT', 'Lower left leg bitten',\n",
       "       'Minor injury to foot',\n",
       "       'Minor bite to hand by captive shark. PROVOKED INCIDENT',\n",
       "       'Injuries to lower right leg and foot',\n",
       "       'Severe bite to right forearm',\n",
       "       'Injured by teeth of a dead porbeagle shark he was tossing overboard.',\n",
       "       'Shallow lacerations to finger PROVOKED INCIDENT',\n",
       "       'Minor injury, marks on board', 'No injury, surfboard damaged',\n",
       "       'Minor injury to ankle', 'No injury, shark bit scuba gear',\n",
       "       'No injury, knocked off board by shark', 'No injury',\n",
       "       'No injury, shark struck his leg', '5-inch cut to hand',\n",
       "       'No injury, shark bit hole in ski'], dtype=object)"
      ]
     },
     "execution_count": 49,
     "metadata": {},
     "output_type": "execute_result"
    }
   ],
   "source": [
    "df.Injury.head(25).unique()"
   ]
  },
  {
   "cell_type": "code",
   "execution_count": 50,
   "metadata": {},
   "outputs": [],
   "source": [
    "res_injury = '(^\\w+\\s+injury)'\n",
    "df.Injury = df.Injury.str.extract(pat = res_injury)"
   ]
  },
  {
   "cell_type": "code",
   "execution_count": 51,
   "metadata": {},
   "outputs": [],
   "source": [
    "df['Injury'] = df.Injury.str.replace(r'minor injury', 'Minor injury')\n",
    "df['Injury'] = df.Injury.str.replace(r'Serious injury', 'Major injury')\n",
    "df['Injury'] = df.Injury.str.replace(r'Superficial injury', 'Minor injury')\n",
    "df['Injury'] = df.Injury.str.replace(r'Severe injury', 'Major injury')\n",
    "df['Injury'] = df.Injury.str.replace(r'Avulsion injury', 'Major injury')"
   ]
  },
  {
   "cell_type": "code",
   "execution_count": 52,
   "metadata": {},
   "outputs": [
    {
     "data": {
      "text/plain": [
       "NaN             24866\n",
       "No injury         733\n",
       "Minor injury      112\n",
       "Major injury       12\n",
       "Name: Injury, dtype: int64"
      ]
     },
     "execution_count": 52,
     "metadata": {},
     "output_type": "execute_result"
    }
   ],
   "source": [
    "df.Injury.value_counts(dropna=False)"
   ]
  },
  {
   "cell_type": "markdown",
   "metadata": {},
   "source": [
    "<h2>COL \"TIME\"</h2>"
   ]
  },
  {
   "cell_type": "code",
   "execution_count": 53,
   "metadata": {},
   "outputs": [
    {
     "data": {
      "text/plain": [
       "NaN                            22774\n",
       "Afternoon                        187\n",
       "11h00                            128\n",
       "Morning                          121\n",
       "12h00                            109\n",
       "                               ...  \n",
       "19h35                              1\n",
       "11h57                              1\n",
       "11h01 -time of ship sinking        1\n",
       "\"After dark\"                       1\n",
       "After midnight                     1\n",
       "Name: Time, Length: 368, dtype: int64"
      ]
     },
     "execution_count": 53,
     "metadata": {},
     "output_type": "execute_result"
    }
   ],
   "source": [
    "df.Time.value_counts(dropna=False) #MOMENTO DEL DÍA EN EL QUE SUCEDIO EL ATAQUE"
   ]
  },
  {
   "cell_type": "code",
   "execution_count": 54,
   "metadata": {},
   "outputs": [
    {
     "data": {
      "text/plain": [
       "array(['18h00', '14h00  -15h00', '07h45', nan, 'Late afternoon', '17h00',\n",
       "       '14h00', 'Morning', '15h00', '08h15', '11h00', '10h30', '10h40',\n",
       "       '16h50', '07h00', '09h30', 'Afternoon', '21h50', '09h40', '08h00',\n",
       "       '17h35', '15h30', '07h30', '19h00, Dusk', 'Night', '16h00',\n",
       "       '15h01', '12h00', '13h45', '23h30', '09h00', '14h30', '18h30',\n",
       "       '12h30', '16h30', '18h45', '06h00', '10h00', '10h44', '13h19',\n",
       "       'Midday', '13h30', '10h45', '11h20', '11h45', '19h30', '08h30',\n",
       "       '15h45', 'Shortly before 12h00', '17h34', '17h10', '11h15',\n",
       "       '08h50', '17h45', '13h00', '10h20', '13h20', '02h00', '09h50',\n",
       "       '11h30', '17h30', '9h00', '10h43', 'After noon', '15h15', '15h40',\n",
       "       '19h05', '1300', '14h30 / 15h30', '22h00', '16h20', '14h34',\n",
       "       '15h25', '14h55', '17h46', 'Morning ', '15h49', '19h00',\n",
       "       'Midnight', '09h30 / 10h00', '10h15', '18h15', '04h00', '14h50',\n",
       "       '13h50', '19h20', '10h25', '10h45-11h15', '16h45', '15h52',\n",
       "       '06h15', '14h40', '19h45', '10h10', '08h45', 'Evening', '12h10',\n",
       "       '18h05', '11h41', '12h25', '17h51', '16h12', '12h45', '10h50',\n",
       "       '14h15', '09h45', '06h45', '05h00', '03h30',\n",
       "       'Sometime between 06h00 & 08hoo', '06h30', '17h20', '20h00',\n",
       "       '16h40', '16h18', '11h10', 'Early afternoon', '17h50',\n",
       "       '07h00 - 08h00', '18h15-18h30', '17h01', 'M', '09h57', '08h20',\n",
       "       '17h58', '20h30', '15h19', '10h55', '15h55', '23h00', '12h40',\n",
       "       '13h55', '16h05', '14h10', '15h20', '12h50', '14h45', '13h40',\n",
       "       '13h24', '09h00 - 09h30', '0830', '11h40', '08h10', '15h56',\n",
       "       '14h20', 'Just before noon', '07h56', '1600', '17h17', '16h35',\n",
       "       '09h05', '07h15', '07h20', '19h28', '12h38', '05h50', '15h50',\n",
       "       '11h05', 'Early morning', 'Dawn', '05h45', '13h25', '12h20',\n",
       "       '13h26', '09h11', '12h15', '13h15', '18h20', '15h35', 'AM',\n",
       "       '13h51', 'A.M.', '08h05', '19h15', '10h35', '15h44', 'Dusk',\n",
       "       '21h00', 'Lunchtime', '15j45', '09h35', '10h27', '10h16', '0500',\n",
       "       'Before 07h00', '09h20', '10h00 -- 11h00', '12h05', '14h21',\n",
       "       '18h50', '15h53', '\"Just before 11h00\"', '11h115', '13h42',\n",
       "       '20h15', '12h39', '07h05', 'Sunset', '  ', '13h05', '11h50',\n",
       "       '\"Evening\"', 'Just before sundown', '17h55', '22h30', '17h15',\n",
       "       '16h10', '11h30 ', '06h10', '16h15', 'Between 05h00 and 08h00',\n",
       "       '07h08', '17h00 or 17h40', '03h00', '>08h00', '--', '12h02',\n",
       "       '12h55', '16h14', '17h11', '00h30', '14h37', '10h07', '13h53',\n",
       "       '11h55', '13h23', 'Just after 12h00', '02h30', '08h40', '11h56',\n",
       "       '14h35', ' ', 'Early Morning', '07h50', 'Shortly after midnight',\n",
       "       '14h25', '13h345', '\\xa0 ', '06h47', '09h00 -10h00',\n",
       "       '20h45 (Sunset)', 'Late morning', 'P.M.', '18h40', '13h14',\n",
       "       '13h06', 'Shortly before 13h00', '12h34', '11h53', '8:04 pm',\n",
       "       '12h46', '12h48', '17h42', '12h35',\n",
       "       'Possibly same incident as 2000.08.21', 'After Dusk', '11h57',\n",
       "       'Noon', '17h40', '11h25', '18h25', '10h28', '09h15', '14h16',\n",
       "       '09h55', '2 hours after Opperman', '15h05', '09h30 ',\n",
       "       'Mid afternoon', 'Mid morning', '11h48', '11h00 / 11h30', '07h19',\n",
       "       '13h37', '11h06', '\"Night\"', '18h30?', '11h58', '11h51', '18h12',\n",
       "       '07h10', '07h40', '12h33', '30 minutes after 1992.07.08.a',\n",
       "       '>06h45', '15h06', '12h54', 'Between 06h00 & 07h20', '16h55',\n",
       "       '05h40', '<07h30', '21h30', '17h00 Sunset', 'Nightfall', 'X',\n",
       "       '08h57', '18h30 (Sunset)', '06j00', '08h35', '10h22', '02h45',\n",
       "       'Prior to 10h37', 'Daybreak', '18h10', '>12h00', 'Mid-morning',\n",
       "       '08h55', '16h30 or 18h00', 'Just before dawn', ' 14h00', 'Daytime',\n",
       "       '06h50', '01h00', 'Dark', '10h00 / 11h00', '\"After lunch\"',\n",
       "       '07h32', '15h00 or 15h45', '>17h00', '19h00 / 20h00',\n",
       "       '12h45 / 13h45', '14h00 - 15h00', 'night', '03h45 - 04h00',\n",
       "       '13h10', '09h30 / 15h30', '08h00 / 09h30', '19h35',\n",
       "       '12h00 to 14h00', '13h35', 'Late night', '01h32', '10h30 or 13h30',\n",
       "       '16h23', '15h00j', 'Midday.', '\"After dark\"', '10h00 or 14h00',\n",
       "       '19h10', '16h25', '2 hrs before sunset', '18h15 to 21h30', '1500',\n",
       "       '\"shortly before dusk\"', '>17h30', '>14h30',\n",
       "       'Between 11h00 & 12h00', 'After 04h00',\n",
       "       '11h01 -time of ship sinking', 'Ship aban-doned at 03h10', '19h55',\n",
       "       'After dusk',\n",
       "       'FATAL  (Wire netting installed at local beaches after this incident.)',\n",
       "       '01h30', 'After midnight', 'Late afternon', '05h30', '08h58',\n",
       "       '\"Early evening\"', 'Late Afternoon', '   ', 'Before daybreak',\n",
       "       'dusk', 'Before 10h30', '06h00 -- 07h00', '01h50', '17h00-18h00',\n",
       "       '19h00-20h00'], dtype=object)"
      ]
     },
     "execution_count": 54,
     "metadata": {},
     "output_type": "execute_result"
    }
   ],
   "source": [
    "df.Time.unique()"
   ]
  },
  {
   "cell_type": "code",
   "execution_count": 55,
   "metadata": {},
   "outputs": [],
   "source": [
    "res_time = '(^\\d\\d\\w)'\n",
    "df['Time'] = df['Time'].str.extract(pat = res_time)"
   ]
  },
  {
   "cell_type": "code",
   "execution_count": 56,
   "metadata": {},
   "outputs": [],
   "source": [
    "df['Time'] = df['Time'].str.replace(r'15j','15h')\n",
    "df['Time'] = df['Time'].str.replace(r'06j','06h')\n",
    "df['Time'] = df['Time'].str.replace(r'150','15h')\n",
    "df['Time'] = df['Time'].str.replace(r'050','05h')\n",
    "df['Time'] = df['Time'].str.replace(r'160','16h')\n",
    "df['Time'] = df['Time'].str.replace(r'083','08h')\n",
    "df['Time'] = df['Time'].str.replace(r'130','13h')"
   ]
  },
  {
   "cell_type": "code",
   "execution_count": 57,
   "metadata": {},
   "outputs": [
    {
     "data": {
      "text/plain": [
       "array(['18h', '14h', '07h', nan, '17h', '15h', '08h', '11h', '10h', '16h',\n",
       "       '09h', '21h', '19h', '12h', '13h', '23h', '06h', '02h', '22h',\n",
       "       '04h', '05h', '03h', '20h', '00h', '01h'], dtype=object)"
      ]
     },
     "execution_count": 57,
     "metadata": {},
     "output_type": "execute_result"
    }
   ],
   "source": [
    "df.Time.unique()"
   ]
  },
  {
   "cell_type": "code",
   "execution_count": null,
   "metadata": {},
   "outputs": [],
   "source": []
  },
  {
   "cell_type": "markdown",
   "metadata": {},
   "source": [
    "<h2>COL \"TYPE\"</h2> "
   ]
  },
  {
   "cell_type": "code",
   "execution_count": 58,
   "metadata": {},
   "outputs": [
    {
     "data": {
      "text/plain": [
       "NaN             19425\n",
       "Unprovoked       4593\n",
       "Provoked          574\n",
       "Invalid           547\n",
       "Sea Disaster      239\n",
       "Boating           203\n",
       "Boat              137\n",
       "M                   2\n",
       "Questionable        2\n",
       "Boatomg             1\n",
       "Name: Type, dtype: int64"
      ]
     },
     "execution_count": 58,
     "metadata": {},
     "output_type": "execute_result"
    }
   ],
   "source": [
    "df['Type'].value_counts(dropna=False)  #DÓNDE SUCEDIERON LOS ATAQUES"
   ]
  },
  {
   "cell_type": "code",
   "execution_count": 59,
   "metadata": {},
   "outputs": [
    {
     "data": {
      "text/plain": [
       "array(['Boating', 'Unprovoked', 'Invalid', 'Provoked', 'Questionable',\n",
       "       'Sea Disaster', nan, 'Boat', 'M', 'Boatomg'], dtype=object)"
      ]
     },
     "execution_count": 59,
     "metadata": {},
     "output_type": "execute_result"
    }
   ],
   "source": [
    "df.Type.unique()"
   ]
  },
  {
   "cell_type": "code",
   "execution_count": 60,
   "metadata": {},
   "outputs": [],
   "source": [
    "df['Type'] = df['Type'].str.replace(r'M','Invalid')\n",
    "df['Type'] = df['Type'].str.replace(r'Boatomg','Boat')\n",
    "df['Type'] = df['Type'].str.replace(r'Boating','Boat')\n",
    "df['Type'] = df['Type'].str.replace(r'Questionable','Unprovoked')"
   ]
  },
  {
   "cell_type": "code",
   "execution_count": 61,
   "metadata": {},
   "outputs": [
    {
     "data": {
      "text/plain": [
       "NaN             19425\n",
       "Unprovoked       4595\n",
       "Provoked          574\n",
       "Invalid           549\n",
       "Boat              341\n",
       "Sea Disaster      239\n",
       "Name: Type, dtype: int64"
      ]
     },
     "execution_count": 61,
     "metadata": {},
     "output_type": "execute_result"
    }
   ],
   "source": [
    "df.Type.value_counts(dropna=False)"
   ]
  },
  {
   "cell_type": "code",
   "execution_count": null,
   "metadata": {},
   "outputs": [],
   "source": []
  },
  {
   "cell_type": "markdown",
   "metadata": {},
   "source": [
    "<h1> RECAP LIMPIEZA👩‍💻 </h1>"
   ]
  },
  {
   "cell_type": "code",
   "execution_count": 62,
   "metadata": {},
   "outputs": [
    {
     "data": {
      "text/html": [
       "<div>\n",
       "<style scoped>\n",
       "    .dataframe tbody tr th:only-of-type {\n",
       "        vertical-align: middle;\n",
       "    }\n",
       "\n",
       "    .dataframe tbody tr th {\n",
       "        vertical-align: top;\n",
       "    }\n",
       "\n",
       "    .dataframe thead th {\n",
       "        text-align: right;\n",
       "    }\n",
       "</style>\n",
       "<table border=\"1\" class=\"dataframe\">\n",
       "  <thead>\n",
       "    <tr style=\"text-align: right;\">\n",
       "      <th></th>\n",
       "      <th>Case Number</th>\n",
       "      <th>Date</th>\n",
       "      <th>Year</th>\n",
       "      <th>Type</th>\n",
       "      <th>Country</th>\n",
       "      <th>Area</th>\n",
       "      <th>Location</th>\n",
       "      <th>Activity</th>\n",
       "      <th>Name</th>\n",
       "      <th>Sex</th>\n",
       "      <th>...</th>\n",
       "      <th>pdf</th>\n",
       "      <th>href formula</th>\n",
       "      <th>href</th>\n",
       "      <th>Case Number.1</th>\n",
       "      <th>Case Number.2</th>\n",
       "      <th>original order</th>\n",
       "      <th>Unnamed: 22</th>\n",
       "      <th>Unnamed: 23</th>\n",
       "      <th>Month</th>\n",
       "      <th>Place</th>\n",
       "    </tr>\n",
       "  </thead>\n",
       "  <tbody>\n",
       "    <tr>\n",
       "      <th>0</th>\n",
       "      <td>2018.06.25</td>\n",
       "      <td>25-Jun-2018</td>\n",
       "      <td>2018</td>\n",
       "      <td>Boat</td>\n",
       "      <td>USA</td>\n",
       "      <td>California</td>\n",
       "      <td>Oceanside, San Diego County</td>\n",
       "      <td>Paddling</td>\n",
       "      <td>Julie Wolfe</td>\n",
       "      <td>F</td>\n",
       "      <td>...</td>\n",
       "      <td>2018.06.25-Wolfe.pdf</td>\n",
       "      <td>http://sharkattackfile.net/spreadsheets/pdf_di...</td>\n",
       "      <td>http://sharkattackfile.net/spreadsheets/pdf_di...</td>\n",
       "      <td>2018.06.25</td>\n",
       "      <td>2018.06.25</td>\n",
       "      <td>6303</td>\n",
       "      <td>NaN</td>\n",
       "      <td>NaN</td>\n",
       "      <td>Jun</td>\n",
       "      <td>Oceanside,</td>\n",
       "    </tr>\n",
       "    <tr>\n",
       "      <th>1</th>\n",
       "      <td>2018.06.18</td>\n",
       "      <td>18-Jun-2018</td>\n",
       "      <td>2018</td>\n",
       "      <td>Unprovoked</td>\n",
       "      <td>USA</td>\n",
       "      <td>Georgia</td>\n",
       "      <td>St. Simon Island, Glynn County</td>\n",
       "      <td>Standing</td>\n",
       "      <td>Adyson McNeely</td>\n",
       "      <td>F</td>\n",
       "      <td>...</td>\n",
       "      <td>2018.06.18-McNeely.pdf</td>\n",
       "      <td>http://sharkattackfile.net/spreadsheets/pdf_di...</td>\n",
       "      <td>http://sharkattackfile.net/spreadsheets/pdf_di...</td>\n",
       "      <td>2018.06.18</td>\n",
       "      <td>2018.06.18</td>\n",
       "      <td>6302</td>\n",
       "      <td>NaN</td>\n",
       "      <td>NaN</td>\n",
       "      <td>Jun</td>\n",
       "      <td>NaN</td>\n",
       "    </tr>\n",
       "    <tr>\n",
       "      <th>2</th>\n",
       "      <td>2018.06.09</td>\n",
       "      <td>09-Jun-2018</td>\n",
       "      <td>2018</td>\n",
       "      <td>Invalid</td>\n",
       "      <td>USA</td>\n",
       "      <td>Hawaii</td>\n",
       "      <td>Habush, Oahu</td>\n",
       "      <td>Surfing</td>\n",
       "      <td>John Denges</td>\n",
       "      <td>M</td>\n",
       "      <td>...</td>\n",
       "      <td>2018.06.09-Denges.pdf</td>\n",
       "      <td>http://sharkattackfile.net/spreadsheets/pdf_di...</td>\n",
       "      <td>http://sharkattackfile.net/spreadsheets/pdf_di...</td>\n",
       "      <td>2018.06.09</td>\n",
       "      <td>2018.06.09</td>\n",
       "      <td>6301</td>\n",
       "      <td>NaN</td>\n",
       "      <td>NaN</td>\n",
       "      <td>Jun</td>\n",
       "      <td>Habush,</td>\n",
       "    </tr>\n",
       "    <tr>\n",
       "      <th>3</th>\n",
       "      <td>2018.06.08</td>\n",
       "      <td>08-Jun-2018</td>\n",
       "      <td>2018</td>\n",
       "      <td>Unprovoked</td>\n",
       "      <td>AUSTRALIA</td>\n",
       "      <td>New South Wales</td>\n",
       "      <td>Arrawarra Headland</td>\n",
       "      <td>Surfing</td>\n",
       "      <td>male</td>\n",
       "      <td>M</td>\n",
       "      <td>...</td>\n",
       "      <td>2018.06.08-Arrawarra.pdf</td>\n",
       "      <td>http://sharkattackfile.net/spreadsheets/pdf_di...</td>\n",
       "      <td>http://sharkattackfile.net/spreadsheets/pdf_di...</td>\n",
       "      <td>2018.06.08</td>\n",
       "      <td>2018.06.08</td>\n",
       "      <td>6300</td>\n",
       "      <td>NaN</td>\n",
       "      <td>NaN</td>\n",
       "      <td>Jun</td>\n",
       "      <td>NaN</td>\n",
       "    </tr>\n",
       "    <tr>\n",
       "      <th>4</th>\n",
       "      <td>2018.06.04</td>\n",
       "      <td>04-Jun-2018</td>\n",
       "      <td>2018</td>\n",
       "      <td>Provoked</td>\n",
       "      <td>MEXICO</td>\n",
       "      <td>Colima</td>\n",
       "      <td>La Ticla</td>\n",
       "      <td>Free diving</td>\n",
       "      <td>Gustavo Ramos</td>\n",
       "      <td>M</td>\n",
       "      <td>...</td>\n",
       "      <td>2018.06.04-Ramos.pdf</td>\n",
       "      <td>http://sharkattackfile.net/spreadsheets/pdf_di...</td>\n",
       "      <td>http://sharkattackfile.net/spreadsheets/pdf_di...</td>\n",
       "      <td>2018.06.04</td>\n",
       "      <td>2018.06.04</td>\n",
       "      <td>6299</td>\n",
       "      <td>NaN</td>\n",
       "      <td>NaN</td>\n",
       "      <td>Jun</td>\n",
       "      <td>NaN</td>\n",
       "    </tr>\n",
       "    <tr>\n",
       "      <th>...</th>\n",
       "      <td>...</td>\n",
       "      <td>...</td>\n",
       "      <td>...</td>\n",
       "      <td>...</td>\n",
       "      <td>...</td>\n",
       "      <td>...</td>\n",
       "      <td>...</td>\n",
       "      <td>...</td>\n",
       "      <td>...</td>\n",
       "      <td>...</td>\n",
       "      <td>...</td>\n",
       "      <td>...</td>\n",
       "      <td>...</td>\n",
       "      <td>...</td>\n",
       "      <td>...</td>\n",
       "      <td>...</td>\n",
       "      <td>...</td>\n",
       "      <td>...</td>\n",
       "      <td>...</td>\n",
       "      <td>...</td>\n",
       "      <td>...</td>\n",
       "    </tr>\n",
       "    <tr>\n",
       "      <th>95</th>\n",
       "      <td>2017.09.02.a</td>\n",
       "      <td>02-Sep-2017</td>\n",
       "      <td>2017</td>\n",
       "      <td>Unprovoked</td>\n",
       "      <td>USA</td>\n",
       "      <td>Florida</td>\n",
       "      <td>New Smyrna Beach, Volusia County</td>\n",
       "      <td>Surfing</td>\n",
       "      <td>Chase Elmore</td>\n",
       "      <td>M</td>\n",
       "      <td>...</td>\n",
       "      <td>2017.09.02.a-Elmore.pdf</td>\n",
       "      <td>http://sharkattackfile.net/spreadsheets/pdf_di...</td>\n",
       "      <td>http://sharkattackfile.net/spreadsheets/pdf_di...</td>\n",
       "      <td>2017.09.02.a</td>\n",
       "      <td>2017.09.02.a</td>\n",
       "      <td>6208</td>\n",
       "      <td>NaN</td>\n",
       "      <td>NaN</td>\n",
       "      <td>NaN</td>\n",
       "      <td>NaN</td>\n",
       "    </tr>\n",
       "    <tr>\n",
       "      <th>96</th>\n",
       "      <td>2017.08.29</td>\n",
       "      <td>29-Aug-2017</td>\n",
       "      <td>2017</td>\n",
       "      <td>Unprovoked</td>\n",
       "      <td>AUSTRALIA</td>\n",
       "      <td>Victoria</td>\n",
       "      <td>Cathedral Rock</td>\n",
       "      <td>Surfing</td>\n",
       "      <td>Marcel Brundler</td>\n",
       "      <td>M</td>\n",
       "      <td>...</td>\n",
       "      <td>2017.08.27-Brundler.pdf</td>\n",
       "      <td>http://sharkattackfile.net/spreadsheets/pdf_di...</td>\n",
       "      <td>http://sharkattackfile.net/spreadsheets/pdf_di...</td>\n",
       "      <td>2017.08.29</td>\n",
       "      <td>2017.08.29</td>\n",
       "      <td>6207</td>\n",
       "      <td>NaN</td>\n",
       "      <td>NaN</td>\n",
       "      <td>Aug</td>\n",
       "      <td>NaN</td>\n",
       "    </tr>\n",
       "    <tr>\n",
       "      <th>97</th>\n",
       "      <td>2017.08.27</td>\n",
       "      <td>27-Aug-2017</td>\n",
       "      <td>2017</td>\n",
       "      <td>Unprovoked</td>\n",
       "      <td>USA</td>\n",
       "      <td>Florida</td>\n",
       "      <td>Bathtub Beach</td>\n",
       "      <td>Wading</td>\n",
       "      <td>Violet Veatch</td>\n",
       "      <td>F</td>\n",
       "      <td>...</td>\n",
       "      <td>2017.08.27-Veatch.pdf</td>\n",
       "      <td>http://sharkattackfile.net/spreadsheets/pdf_di...</td>\n",
       "      <td>http://sharkattackfile.net/spreadsheets/pdf_di...</td>\n",
       "      <td>2017.08.27</td>\n",
       "      <td>2017.08.27</td>\n",
       "      <td>6206</td>\n",
       "      <td>NaN</td>\n",
       "      <td>NaN</td>\n",
       "      <td>Aug</td>\n",
       "      <td>NaN</td>\n",
       "    </tr>\n",
       "    <tr>\n",
       "      <th>98</th>\n",
       "      <td>2017.08.26.b</td>\n",
       "      <td>26-Aug-2017</td>\n",
       "      <td>2017</td>\n",
       "      <td>Invalid</td>\n",
       "      <td>SPAIN</td>\n",
       "      <td>Castellón</td>\n",
       "      <td>Grao de Moncofa</td>\n",
       "      <td>Swimming</td>\n",
       "      <td>female</td>\n",
       "      <td>F</td>\n",
       "      <td>...</td>\n",
       "      <td>2017.08.26.b-Spain.pdf</td>\n",
       "      <td>http://sharkattackfile.net/spreadsheets/pdf_di...</td>\n",
       "      <td>http://sharkattackfile.net/spreadsheets/pdf_di...</td>\n",
       "      <td>2017.08.26.b</td>\n",
       "      <td>2017.08.26.b</td>\n",
       "      <td>6205</td>\n",
       "      <td>NaN</td>\n",
       "      <td>NaN</td>\n",
       "      <td>Aug</td>\n",
       "      <td>NaN</td>\n",
       "    </tr>\n",
       "    <tr>\n",
       "      <th>99</th>\n",
       "      <td>2017.08.26.a</td>\n",
       "      <td>26-Aug-2017</td>\n",
       "      <td>2017</td>\n",
       "      <td>Unprovoked</td>\n",
       "      <td>NEW ZEALAND</td>\n",
       "      <td>North Island</td>\n",
       "      <td>Off Tutukaka</td>\n",
       "      <td>Canoeing</td>\n",
       "      <td>Matt Kensington</td>\n",
       "      <td>M</td>\n",
       "      <td>...</td>\n",
       "      <td>2017.08.26.a-Kensington.pdf</td>\n",
       "      <td>http://sharkattackfile.net/spreadsheets/pdf_di...</td>\n",
       "      <td>http://sharkattackfile.net/spreadsheets/pdf_di...</td>\n",
       "      <td>2017.08.26.a</td>\n",
       "      <td>2017.08.26.a</td>\n",
       "      <td>6204</td>\n",
       "      <td>NaN</td>\n",
       "      <td>NaN</td>\n",
       "      <td>Aug</td>\n",
       "      <td>NaN</td>\n",
       "    </tr>\n",
       "  </tbody>\n",
       "</table>\n",
       "<p>100 rows × 26 columns</p>\n",
       "</div>"
      ],
      "text/plain": [
       "     Case Number         Date  Year        Type      Country             Area  \\\n",
       "0     2018.06.25  25-Jun-2018  2018        Boat          USA       California   \n",
       "1     2018.06.18  18-Jun-2018  2018  Unprovoked          USA          Georgia   \n",
       "2     2018.06.09  09-Jun-2018  2018     Invalid          USA           Hawaii   \n",
       "3     2018.06.08  08-Jun-2018  2018  Unprovoked    AUSTRALIA  New South Wales   \n",
       "4     2018.06.04  04-Jun-2018  2018    Provoked       MEXICO           Colima   \n",
       "..           ...          ...   ...         ...          ...              ...   \n",
       "95  2017.09.02.a  02-Sep-2017  2017  Unprovoked          USA          Florida   \n",
       "96    2017.08.29  29-Aug-2017  2017  Unprovoked    AUSTRALIA         Victoria   \n",
       "97    2017.08.27  27-Aug-2017  2017  Unprovoked          USA          Florida   \n",
       "98  2017.08.26.b  26-Aug-2017  2017     Invalid        SPAIN        Castellón   \n",
       "99  2017.08.26.a  26-Aug-2017  2017  Unprovoked  NEW ZEALAND     North Island   \n",
       "\n",
       "                            Location     Activity             Name Sex  ...  \\\n",
       "0        Oceanside, San Diego County     Paddling      Julie Wolfe   F  ...   \n",
       "1     St. Simon Island, Glynn County     Standing  Adyson McNeely    F  ...   \n",
       "2                       Habush, Oahu      Surfing      John Denges   M  ...   \n",
       "3                 Arrawarra Headland      Surfing             male   M  ...   \n",
       "4                           La Ticla  Free diving   Gustavo Ramos    M  ...   \n",
       "..                               ...          ...              ...  ..  ...   \n",
       "95  New Smyrna Beach, Volusia County      Surfing     Chase Elmore   M  ...   \n",
       "96                    Cathedral Rock      Surfing  Marcel Brundler   M  ...   \n",
       "97                    Bathtub Beach        Wading    Violet Veatch   F  ...   \n",
       "98                   Grao de Moncofa     Swimming           female   F  ...   \n",
       "99                      Off Tutukaka     Canoeing  Matt Kensington   M  ...   \n",
       "\n",
       "                            pdf  \\\n",
       "0          2018.06.25-Wolfe.pdf   \n",
       "1        2018.06.18-McNeely.pdf   \n",
       "2         2018.06.09-Denges.pdf   \n",
       "3      2018.06.08-Arrawarra.pdf   \n",
       "4          2018.06.04-Ramos.pdf   \n",
       "..                          ...   \n",
       "95      2017.09.02.a-Elmore.pdf   \n",
       "96      2017.08.27-Brundler.pdf   \n",
       "97        2017.08.27-Veatch.pdf   \n",
       "98       2017.08.26.b-Spain.pdf   \n",
       "99  2017.08.26.a-Kensington.pdf   \n",
       "\n",
       "                                         href formula  \\\n",
       "0   http://sharkattackfile.net/spreadsheets/pdf_di...   \n",
       "1   http://sharkattackfile.net/spreadsheets/pdf_di...   \n",
       "2   http://sharkattackfile.net/spreadsheets/pdf_di...   \n",
       "3   http://sharkattackfile.net/spreadsheets/pdf_di...   \n",
       "4   http://sharkattackfile.net/spreadsheets/pdf_di...   \n",
       "..                                                ...   \n",
       "95  http://sharkattackfile.net/spreadsheets/pdf_di...   \n",
       "96  http://sharkattackfile.net/spreadsheets/pdf_di...   \n",
       "97  http://sharkattackfile.net/spreadsheets/pdf_di...   \n",
       "98  http://sharkattackfile.net/spreadsheets/pdf_di...   \n",
       "99  http://sharkattackfile.net/spreadsheets/pdf_di...   \n",
       "\n",
       "                                                 href Case Number.1  \\\n",
       "0   http://sharkattackfile.net/spreadsheets/pdf_di...    2018.06.25   \n",
       "1   http://sharkattackfile.net/spreadsheets/pdf_di...    2018.06.18   \n",
       "2   http://sharkattackfile.net/spreadsheets/pdf_di...    2018.06.09   \n",
       "3   http://sharkattackfile.net/spreadsheets/pdf_di...    2018.06.08   \n",
       "4   http://sharkattackfile.net/spreadsheets/pdf_di...    2018.06.04   \n",
       "..                                                ...           ...   \n",
       "95  http://sharkattackfile.net/spreadsheets/pdf_di...  2017.09.02.a   \n",
       "96  http://sharkattackfile.net/spreadsheets/pdf_di...    2017.08.29   \n",
       "97  http://sharkattackfile.net/spreadsheets/pdf_di...    2017.08.27   \n",
       "98  http://sharkattackfile.net/spreadsheets/pdf_di...  2017.08.26.b   \n",
       "99  http://sharkattackfile.net/spreadsheets/pdf_di...  2017.08.26.a   \n",
       "\n",
       "   Case Number.2 original order Unnamed: 22 Unnamed: 23 Month       Place  \n",
       "0     2018.06.25           6303         NaN         NaN   Jun  Oceanside,  \n",
       "1     2018.06.18           6302         NaN         NaN   Jun         NaN  \n",
       "2     2018.06.09           6301         NaN         NaN   Jun     Habush,  \n",
       "3     2018.06.08           6300         NaN         NaN   Jun         NaN  \n",
       "4     2018.06.04           6299         NaN         NaN   Jun         NaN  \n",
       "..           ...            ...         ...         ...   ...         ...  \n",
       "95  2017.09.02.a           6208         NaN         NaN   NaN         NaN  \n",
       "96    2017.08.29           6207         NaN         NaN   Aug         NaN  \n",
       "97    2017.08.27           6206         NaN         NaN   Aug         NaN  \n",
       "98  2017.08.26.b           6205         NaN         NaN   Aug         NaN  \n",
       "99  2017.08.26.a           6204         NaN         NaN   Aug         NaN  \n",
       "\n",
       "[100 rows x 26 columns]"
      ]
     },
     "execution_count": 62,
     "metadata": {},
     "output_type": "execute_result"
    }
   ],
   "source": [
    "df.head(100)"
   ]
  },
  {
   "cell_type": "code",
   "execution_count": null,
   "metadata": {},
   "outputs": [],
   "source": []
  },
  {
   "cell_type": "code",
   "execution_count": 63,
   "metadata": {},
   "outputs": [
    {
     "data": {
      "text/html": [
       "<div>\n",
       "<style scoped>\n",
       "    .dataframe tbody tr th:only-of-type {\n",
       "        vertical-align: middle;\n",
       "    }\n",
       "\n",
       "    .dataframe tbody tr th {\n",
       "        vertical-align: top;\n",
       "    }\n",
       "\n",
       "    .dataframe thead th {\n",
       "        text-align: right;\n",
       "    }\n",
       "</style>\n",
       "<table border=\"1\" class=\"dataframe\">\n",
       "  <thead>\n",
       "    <tr style=\"text-align: right;\">\n",
       "      <th></th>\n",
       "      <th>Case Number</th>\n",
       "      <th>Date</th>\n",
       "      <th>Year</th>\n",
       "      <th>Type</th>\n",
       "      <th>Country</th>\n",
       "      <th>Area</th>\n",
       "      <th>Location</th>\n",
       "      <th>Activity</th>\n",
       "      <th>Name</th>\n",
       "      <th>Sex</th>\n",
       "      <th>...</th>\n",
       "      <th>pdf</th>\n",
       "      <th>href formula</th>\n",
       "      <th>href</th>\n",
       "      <th>Case Number.1</th>\n",
       "      <th>Case Number.2</th>\n",
       "      <th>original order</th>\n",
       "      <th>Unnamed: 22</th>\n",
       "      <th>Unnamed: 23</th>\n",
       "      <th>Month</th>\n",
       "      <th>Place</th>\n",
       "    </tr>\n",
       "  </thead>\n",
       "  <tbody>\n",
       "    <tr>\n",
       "      <th>0</th>\n",
       "      <td>2018.06.25</td>\n",
       "      <td>25-Jun-2018</td>\n",
       "      <td>2018</td>\n",
       "      <td>Boat</td>\n",
       "      <td>USA</td>\n",
       "      <td>California</td>\n",
       "      <td>Oceanside, San Diego County</td>\n",
       "      <td>Paddling</td>\n",
       "      <td>Julie Wolfe</td>\n",
       "      <td>F</td>\n",
       "      <td>...</td>\n",
       "      <td>2018.06.25-Wolfe.pdf</td>\n",
       "      <td>http://sharkattackfile.net/spreadsheets/pdf_di...</td>\n",
       "      <td>http://sharkattackfile.net/spreadsheets/pdf_di...</td>\n",
       "      <td>2018.06.25</td>\n",
       "      <td>2018.06.25</td>\n",
       "      <td>6303</td>\n",
       "      <td>NaN</td>\n",
       "      <td>NaN</td>\n",
       "      <td>Jun</td>\n",
       "      <td>Oceanside,</td>\n",
       "    </tr>\n",
       "    <tr>\n",
       "      <th>1</th>\n",
       "      <td>2018.06.18</td>\n",
       "      <td>18-Jun-2018</td>\n",
       "      <td>2018</td>\n",
       "      <td>Unprovoked</td>\n",
       "      <td>USA</td>\n",
       "      <td>Georgia</td>\n",
       "      <td>St. Simon Island, Glynn County</td>\n",
       "      <td>Standing</td>\n",
       "      <td>Adyson McNeely</td>\n",
       "      <td>F</td>\n",
       "      <td>...</td>\n",
       "      <td>2018.06.18-McNeely.pdf</td>\n",
       "      <td>http://sharkattackfile.net/spreadsheets/pdf_di...</td>\n",
       "      <td>http://sharkattackfile.net/spreadsheets/pdf_di...</td>\n",
       "      <td>2018.06.18</td>\n",
       "      <td>2018.06.18</td>\n",
       "      <td>6302</td>\n",
       "      <td>NaN</td>\n",
       "      <td>NaN</td>\n",
       "      <td>Jun</td>\n",
       "      <td>NaN</td>\n",
       "    </tr>\n",
       "    <tr>\n",
       "      <th>2</th>\n",
       "      <td>2018.06.09</td>\n",
       "      <td>09-Jun-2018</td>\n",
       "      <td>2018</td>\n",
       "      <td>Invalid</td>\n",
       "      <td>USA</td>\n",
       "      <td>Hawaii</td>\n",
       "      <td>Habush, Oahu</td>\n",
       "      <td>Surfing</td>\n",
       "      <td>John Denges</td>\n",
       "      <td>M</td>\n",
       "      <td>...</td>\n",
       "      <td>2018.06.09-Denges.pdf</td>\n",
       "      <td>http://sharkattackfile.net/spreadsheets/pdf_di...</td>\n",
       "      <td>http://sharkattackfile.net/spreadsheets/pdf_di...</td>\n",
       "      <td>2018.06.09</td>\n",
       "      <td>2018.06.09</td>\n",
       "      <td>6301</td>\n",
       "      <td>NaN</td>\n",
       "      <td>NaN</td>\n",
       "      <td>Jun</td>\n",
       "      <td>Habush,</td>\n",
       "    </tr>\n",
       "    <tr>\n",
       "      <th>3</th>\n",
       "      <td>2018.06.08</td>\n",
       "      <td>08-Jun-2018</td>\n",
       "      <td>2018</td>\n",
       "      <td>Unprovoked</td>\n",
       "      <td>AUSTRALIA</td>\n",
       "      <td>New South Wales</td>\n",
       "      <td>Arrawarra Headland</td>\n",
       "      <td>Surfing</td>\n",
       "      <td>male</td>\n",
       "      <td>M</td>\n",
       "      <td>...</td>\n",
       "      <td>2018.06.08-Arrawarra.pdf</td>\n",
       "      <td>http://sharkattackfile.net/spreadsheets/pdf_di...</td>\n",
       "      <td>http://sharkattackfile.net/spreadsheets/pdf_di...</td>\n",
       "      <td>2018.06.08</td>\n",
       "      <td>2018.06.08</td>\n",
       "      <td>6300</td>\n",
       "      <td>NaN</td>\n",
       "      <td>NaN</td>\n",
       "      <td>Jun</td>\n",
       "      <td>NaN</td>\n",
       "    </tr>\n",
       "    <tr>\n",
       "      <th>4</th>\n",
       "      <td>2018.06.04</td>\n",
       "      <td>04-Jun-2018</td>\n",
       "      <td>2018</td>\n",
       "      <td>Provoked</td>\n",
       "      <td>MEXICO</td>\n",
       "      <td>Colima</td>\n",
       "      <td>La Ticla</td>\n",
       "      <td>Free diving</td>\n",
       "      <td>Gustavo Ramos</td>\n",
       "      <td>M</td>\n",
       "      <td>...</td>\n",
       "      <td>2018.06.04-Ramos.pdf</td>\n",
       "      <td>http://sharkattackfile.net/spreadsheets/pdf_di...</td>\n",
       "      <td>http://sharkattackfile.net/spreadsheets/pdf_di...</td>\n",
       "      <td>2018.06.04</td>\n",
       "      <td>2018.06.04</td>\n",
       "      <td>6299</td>\n",
       "      <td>NaN</td>\n",
       "      <td>NaN</td>\n",
       "      <td>Jun</td>\n",
       "      <td>NaN</td>\n",
       "    </tr>\n",
       "  </tbody>\n",
       "</table>\n",
       "<p>5 rows × 26 columns</p>\n",
       "</div>"
      ],
      "text/plain": [
       "  Case Number         Date  Year        Type    Country             Area  \\\n",
       "0  2018.06.25  25-Jun-2018  2018        Boat        USA       California   \n",
       "1  2018.06.18  18-Jun-2018  2018  Unprovoked        USA          Georgia   \n",
       "2  2018.06.09  09-Jun-2018  2018     Invalid        USA           Hawaii   \n",
       "3  2018.06.08  08-Jun-2018  2018  Unprovoked  AUSTRALIA  New South Wales   \n",
       "4  2018.06.04  04-Jun-2018  2018    Provoked     MEXICO           Colima   \n",
       "\n",
       "                         Location     Activity             Name Sex  ...  \\\n",
       "0     Oceanside, San Diego County     Paddling      Julie Wolfe   F  ...   \n",
       "1  St. Simon Island, Glynn County     Standing  Adyson McNeely    F  ...   \n",
       "2                    Habush, Oahu      Surfing      John Denges   M  ...   \n",
       "3              Arrawarra Headland      Surfing             male   M  ...   \n",
       "4                        La Ticla  Free diving   Gustavo Ramos    M  ...   \n",
       "\n",
       "                        pdf  \\\n",
       "0      2018.06.25-Wolfe.pdf   \n",
       "1    2018.06.18-McNeely.pdf   \n",
       "2     2018.06.09-Denges.pdf   \n",
       "3  2018.06.08-Arrawarra.pdf   \n",
       "4      2018.06.04-Ramos.pdf   \n",
       "\n",
       "                                        href formula  \\\n",
       "0  http://sharkattackfile.net/spreadsheets/pdf_di...   \n",
       "1  http://sharkattackfile.net/spreadsheets/pdf_di...   \n",
       "2  http://sharkattackfile.net/spreadsheets/pdf_di...   \n",
       "3  http://sharkattackfile.net/spreadsheets/pdf_di...   \n",
       "4  http://sharkattackfile.net/spreadsheets/pdf_di...   \n",
       "\n",
       "                                                href Case Number.1  \\\n",
       "0  http://sharkattackfile.net/spreadsheets/pdf_di...    2018.06.25   \n",
       "1  http://sharkattackfile.net/spreadsheets/pdf_di...    2018.06.18   \n",
       "2  http://sharkattackfile.net/spreadsheets/pdf_di...    2018.06.09   \n",
       "3  http://sharkattackfile.net/spreadsheets/pdf_di...    2018.06.08   \n",
       "4  http://sharkattackfile.net/spreadsheets/pdf_di...    2018.06.04   \n",
       "\n",
       "  Case Number.2 original order Unnamed: 22 Unnamed: 23 Month       Place  \n",
       "0    2018.06.25           6303         NaN         NaN   Jun  Oceanside,  \n",
       "1    2018.06.18           6302         NaN         NaN   Jun         NaN  \n",
       "2    2018.06.09           6301         NaN         NaN   Jun     Habush,  \n",
       "3    2018.06.08           6300         NaN         NaN   Jun         NaN  \n",
       "4    2018.06.04           6299         NaN         NaN   Jun         NaN  \n",
       "\n",
       "[5 rows x 26 columns]"
      ]
     },
     "execution_count": 63,
     "metadata": {},
     "output_type": "execute_result"
    }
   ],
   "source": [
    "df1 = df.dropna(axis=0, how='all')\n",
    "df1.head()"
   ]
  },
  {
   "cell_type": "code",
   "execution_count": 64,
   "metadata": {},
   "outputs": [
    {
     "data": {
      "text/plain": [
       "(8703, 26)"
      ]
     },
     "execution_count": 64,
     "metadata": {},
     "output_type": "execute_result"
    }
   ],
   "source": [
    "df1.shape"
   ]
  },
  {
   "cell_type": "code",
   "execution_count": 65,
   "metadata": {},
   "outputs": [
    {
     "data": {
      "text/plain": [
       "1957                         11\n",
       "1942                          9\n",
       "1956                          8\n",
       "1950                          7\n",
       "1941                          7\n",
       "                             ..\n",
       " 27-Mar-2010                  1\n",
       "04-May-1988                   1\n",
       "Reported      19-Aug-1993     1\n",
       "02-Oct-1959                   1\n",
       "02-Oct-2000                   1\n",
       "Name: Date, Length: 5432, dtype: int64"
      ]
     },
     "execution_count": 65,
     "metadata": {},
     "output_type": "execute_result"
    }
   ],
   "source": [
    "df1.Date.value_counts()"
   ]
  },
  {
   "cell_type": "markdown",
   "metadata": {},
   "source": [
    "<h3> ¿Veamos la cantidad de NaN con la que nos hemos quedado ? 🤡🔎</h3>"
   ]
  },
  {
   "cell_type": "code",
   "execution_count": 66,
   "metadata": {},
   "outputs": [
    {
     "data": {
      "text/plain": [
       "26"
      ]
     },
     "execution_count": 66,
     "metadata": {},
     "output_type": "execute_result"
    }
   ],
   "source": [
    "df1.columns.value_counts().sum()  # TENGO 26 COLUMNAS EN TOTAL (con las que yo me he creado)"
   ]
  },
  {
   "cell_type": "code",
   "execution_count": 67,
   "metadata": {},
   "outputs": [
    {
     "data": {
      "text/plain": [
       "Unnamed: 22               8700\n",
       "Unnamed: 23               8699\n",
       "Place                     8345\n",
       "Injury                    7846\n",
       "Time                      6351\n",
       "Species                   5465\n",
       "Age                       5231\n",
       "Month                     3476\n",
       "Sex                       2967\n",
       "Activity                  2945\n",
       "Location                  2941\n",
       "Fatal (Y/N)               2940\n",
       "Area                      2856\n",
       "Name                      2611\n",
       "Country                   2451\n",
       "Year                      2422\n",
       "Investigator or Source    2418\n",
       "Type                      2405\n",
       "href formula              2402\n",
       "pdf                       2401\n",
       "href                      2401\n",
       "Case Number.1             2401\n",
       "Case Number.2             2401\n",
       "Date                      2401\n",
       "original order            2394\n",
       "Case Number                  1\n",
       "dtype: int64"
      ]
     },
     "execution_count": 67,
     "metadata": {},
     "output_type": "execute_result"
    }
   ],
   "source": [
    "df1_null_COLS = df1.isnull().sum().sort_values(ascending=False)   #COLUMNAS\n",
    "df1_null_COLS"
   ]
  },
  {
   "cell_type": "code",
   "execution_count": 68,
   "metadata": {},
   "outputs": [
    {
     "data": {
      "text/plain": [
       "Unnamed: 22               0.999655\n",
       "Unnamed: 23               0.999540\n",
       "Place                     0.958865\n",
       "Injury                    0.901528\n",
       "Time                      0.729748\n",
       "Species                   0.627944\n",
       "Age                       0.601057\n",
       "Month                     0.399403\n",
       "Sex                       0.340917\n",
       "Activity                  0.338389\n",
       "Location                  0.337929\n",
       "Fatal (Y/N)               0.337815\n",
       "Area                      0.328163\n",
       "Name                      0.300011\n",
       "Country                   0.281627\n",
       "Year                      0.278295\n",
       "Investigator or Source    0.277835\n",
       "Type                      0.276341\n",
       "href formula              0.275997\n",
       "pdf                       0.275882\n",
       "href                      0.275882\n",
       "Case Number.1             0.275882\n",
       "Case Number.2             0.275882\n",
       "Date                      0.275882\n",
       "original order            0.275078\n",
       "Case Number               0.000115\n",
       "dtype: float64"
      ]
     },
     "execution_count": 68,
     "metadata": {},
     "output_type": "execute_result"
    }
   ],
   "source": [
    "df1_null_porcentage_COLS = df1.isnull().sum().apply(lambda x: x/df1.shape[0]).sort_values(ascending=False)\n",
    "df1_null_porcentage_COLS        #  % COLUMNAS - hay columnas que podriamos descartar porque casi el 99% de NULOs"
   ]
  },
  {
   "cell_type": "code",
   "execution_count": 69,
   "metadata": {},
   "outputs": [
    {
     "data": {
      "text/plain": [
       "25722    25\n",
       "7111     25\n",
       "7109     25\n",
       "7108     25\n",
       "7107     25\n",
       "         ..\n",
       "884       2\n",
       "555       2\n",
       "2893      2\n",
       "1497      2\n",
       "0         2\n",
       "Length: 8703, dtype: int64"
      ]
     },
     "execution_count": 69,
     "metadata": {},
     "output_type": "execute_result"
    }
   ],
   "source": [
    "df1_null_COLS = df1.isnull().sum(axis=1).sort_values(ascending=False)   #FILAS\n",
    "df1_null_COLS   #seguimos viendo filas con muchos nulos"
   ]
  },
  {
   "cell_type": "code",
   "execution_count": 70,
   "metadata": {},
   "outputs": [
    {
     "data": {
      "text/plain": [
       "25722    0.961538\n",
       "7111     0.961538\n",
       "7109     0.961538\n",
       "7108     0.961538\n",
       "7107     0.961538\n",
       "           ...   \n",
       "884      0.076923\n",
       "555      0.076923\n",
       "2893     0.076923\n",
       "1497     0.076923\n",
       "0        0.076923\n",
       "Length: 8703, dtype: float64"
      ]
     },
     "execution_count": 70,
     "metadata": {},
     "output_type": "execute_result"
    }
   ],
   "source": [
    "df1_null_porcentage_ROWS = df1.isnull().sum(axis=1).apply(lambda x: x/df1.shape[1]).sort_values(ascending=False)\n",
    "df1_null_porcentage_ROWS    # % FILAS"
   ]
  },
  {
   "cell_type": "code",
   "execution_count": null,
   "metadata": {},
   "outputs": [],
   "source": []
  },
  {
   "cell_type": "code",
   "execution_count": 71,
   "metadata": {},
   "outputs": [],
   "source": [
    "df1_null_porcentage_ROWS_NULLS = df1_null_porcentage_ROWS[df1_null_porcentage_ROWS < .8].index"
   ]
  },
  {
   "cell_type": "markdown",
   "metadata": {},
   "source": [
    "<h1> Finish Data cleaning (finitooo 🐱‍🏍) ===> DATAFRAME 2  </h1>"
   ]
  },
  {
   "cell_type": "code",
   "execution_count": 72,
   "metadata": {},
   "outputs": [
    {
     "data": {
      "text/plain": [
       "Index(['Case Number', 'Date', 'Year', 'Type', 'Country', 'Area', 'Location',\n",
       "       'Activity', 'Name', 'Sex', 'Age', 'Injury', 'Fatal (Y/N)', 'Time',\n",
       "       'Species', 'Investigator or Source', 'pdf', 'href formula', 'href',\n",
       "       'Case Number.1', 'Case Number.2', 'original order', 'Unnamed: 22',\n",
       "       'Unnamed: 23', 'Month', 'Place'],\n",
       "      dtype='object')"
      ]
     },
     "execution_count": 72,
     "metadata": {},
     "output_type": "execute_result"
    }
   ],
   "source": [
    "df.columns"
   ]
  },
  {
   "cell_type": "code",
   "execution_count": 73,
   "metadata": {},
   "outputs": [],
   "source": [
    "df2 = df1[['Case Number', 'Date', 'Year', 'Type', 'Country', 'Area', 'Location',\n",
    "       'Activity', 'Name', 'Sex', 'Age', 'Injury', 'Time','Species','Case Number.1', 'Case Number.2', 'original order', 'Month', 'Place']]"
   ]
  },
  {
   "cell_type": "code",
   "execution_count": 74,
   "metadata": {},
   "outputs": [
    {
     "data": {
      "text/html": [
       "<div>\n",
       "<style scoped>\n",
       "    .dataframe tbody tr th:only-of-type {\n",
       "        vertical-align: middle;\n",
       "    }\n",
       "\n",
       "    .dataframe tbody tr th {\n",
       "        vertical-align: top;\n",
       "    }\n",
       "\n",
       "    .dataframe thead th {\n",
       "        text-align: right;\n",
       "    }\n",
       "</style>\n",
       "<table border=\"1\" class=\"dataframe\">\n",
       "  <thead>\n",
       "    <tr style=\"text-align: right;\">\n",
       "      <th></th>\n",
       "      <th>Case Number</th>\n",
       "      <th>Date</th>\n",
       "      <th>Year</th>\n",
       "      <th>Type</th>\n",
       "      <th>Country</th>\n",
       "      <th>Area</th>\n",
       "      <th>Location</th>\n",
       "      <th>Activity</th>\n",
       "      <th>Name</th>\n",
       "      <th>Sex</th>\n",
       "      <th>Age</th>\n",
       "      <th>Injury</th>\n",
       "      <th>Time</th>\n",
       "      <th>Species</th>\n",
       "      <th>Case Number.1</th>\n",
       "      <th>Case Number.2</th>\n",
       "      <th>original order</th>\n",
       "      <th>Month</th>\n",
       "      <th>Place</th>\n",
       "    </tr>\n",
       "  </thead>\n",
       "  <tbody>\n",
       "    <tr>\n",
       "      <th>0</th>\n",
       "      <td>2018.06.25</td>\n",
       "      <td>25-Jun-2018</td>\n",
       "      <td>2018</td>\n",
       "      <td>Boat</td>\n",
       "      <td>USA</td>\n",
       "      <td>California</td>\n",
       "      <td>Oceanside, San Diego County</td>\n",
       "      <td>Paddling</td>\n",
       "      <td>Julie Wolfe</td>\n",
       "      <td>F</td>\n",
       "      <td>57.0</td>\n",
       "      <td>No injury</td>\n",
       "      <td>18h</td>\n",
       "      <td>White</td>\n",
       "      <td>2018.06.25</td>\n",
       "      <td>2018.06.25</td>\n",
       "      <td>6303</td>\n",
       "      <td>Jun</td>\n",
       "      <td>Oceanside,</td>\n",
       "    </tr>\n",
       "    <tr>\n",
       "      <th>1</th>\n",
       "      <td>2018.06.18</td>\n",
       "      <td>18-Jun-2018</td>\n",
       "      <td>2018</td>\n",
       "      <td>Unprovoked</td>\n",
       "      <td>USA</td>\n",
       "      <td>Georgia</td>\n",
       "      <td>St. Simon Island, Glynn County</td>\n",
       "      <td>Standing</td>\n",
       "      <td>Adyson McNeely</td>\n",
       "      <td>F</td>\n",
       "      <td>11.0</td>\n",
       "      <td>Minor injury</td>\n",
       "      <td>14h</td>\n",
       "      <td>NaN</td>\n",
       "      <td>2018.06.18</td>\n",
       "      <td>2018.06.18</td>\n",
       "      <td>6302</td>\n",
       "      <td>Jun</td>\n",
       "      <td>NaN</td>\n",
       "    </tr>\n",
       "    <tr>\n",
       "      <th>2</th>\n",
       "      <td>2018.06.09</td>\n",
       "      <td>09-Jun-2018</td>\n",
       "      <td>2018</td>\n",
       "      <td>Invalid</td>\n",
       "      <td>USA</td>\n",
       "      <td>Hawaii</td>\n",
       "      <td>Habush, Oahu</td>\n",
       "      <td>Surfing</td>\n",
       "      <td>John Denges</td>\n",
       "      <td>M</td>\n",
       "      <td>48.0</td>\n",
       "      <td>NaN</td>\n",
       "      <td>07h</td>\n",
       "      <td>NaN</td>\n",
       "      <td>2018.06.09</td>\n",
       "      <td>2018.06.09</td>\n",
       "      <td>6301</td>\n",
       "      <td>Jun</td>\n",
       "      <td>Habush,</td>\n",
       "    </tr>\n",
       "    <tr>\n",
       "      <th>3</th>\n",
       "      <td>2018.06.08</td>\n",
       "      <td>08-Jun-2018</td>\n",
       "      <td>2018</td>\n",
       "      <td>Unprovoked</td>\n",
       "      <td>AUSTRALIA</td>\n",
       "      <td>New South Wales</td>\n",
       "      <td>Arrawarra Headland</td>\n",
       "      <td>Surfing</td>\n",
       "      <td>male</td>\n",
       "      <td>M</td>\n",
       "      <td>NaN</td>\n",
       "      <td>Minor injury</td>\n",
       "      <td>NaN</td>\n",
       "      <td>shark</td>\n",
       "      <td>2018.06.08</td>\n",
       "      <td>2018.06.08</td>\n",
       "      <td>6300</td>\n",
       "      <td>Jun</td>\n",
       "      <td>NaN</td>\n",
       "    </tr>\n",
       "    <tr>\n",
       "      <th>4</th>\n",
       "      <td>2018.06.04</td>\n",
       "      <td>04-Jun-2018</td>\n",
       "      <td>2018</td>\n",
       "      <td>Provoked</td>\n",
       "      <td>MEXICO</td>\n",
       "      <td>Colima</td>\n",
       "      <td>La Ticla</td>\n",
       "      <td>Free diving</td>\n",
       "      <td>Gustavo Ramos</td>\n",
       "      <td>M</td>\n",
       "      <td>NaN</td>\n",
       "      <td>NaN</td>\n",
       "      <td>NaN</td>\n",
       "      <td>Tiger</td>\n",
       "      <td>2018.06.04</td>\n",
       "      <td>2018.06.04</td>\n",
       "      <td>6299</td>\n",
       "      <td>Jun</td>\n",
       "      <td>NaN</td>\n",
       "    </tr>\n",
       "  </tbody>\n",
       "</table>\n",
       "</div>"
      ],
      "text/plain": [
       "  Case Number         Date  Year        Type    Country             Area  \\\n",
       "0  2018.06.25  25-Jun-2018  2018        Boat        USA       California   \n",
       "1  2018.06.18  18-Jun-2018  2018  Unprovoked        USA          Georgia   \n",
       "2  2018.06.09  09-Jun-2018  2018     Invalid        USA           Hawaii   \n",
       "3  2018.06.08  08-Jun-2018  2018  Unprovoked  AUSTRALIA  New South Wales   \n",
       "4  2018.06.04  04-Jun-2018  2018    Provoked     MEXICO           Colima   \n",
       "\n",
       "                         Location     Activity             Name Sex   Age  \\\n",
       "0     Oceanside, San Diego County     Paddling      Julie Wolfe   F  57.0   \n",
       "1  St. Simon Island, Glynn County     Standing  Adyson McNeely    F  11.0   \n",
       "2                    Habush, Oahu      Surfing      John Denges   M  48.0   \n",
       "3              Arrawarra Headland      Surfing             male   M   NaN   \n",
       "4                        La Ticla  Free diving   Gustavo Ramos    M   NaN   \n",
       "\n",
       "         Injury Time Species Case Number.1 Case Number.2 original order Month  \\\n",
       "0     No injury  18h   White    2018.06.25    2018.06.25           6303   Jun   \n",
       "1  Minor injury  14h     NaN    2018.06.18    2018.06.18           6302   Jun   \n",
       "2           NaN  07h     NaN    2018.06.09    2018.06.09           6301   Jun   \n",
       "3  Minor injury  NaN   shark    2018.06.08    2018.06.08           6300   Jun   \n",
       "4           NaN  NaN   Tiger    2018.06.04    2018.06.04           6299   Jun   \n",
       "\n",
       "        Place  \n",
       "0  Oceanside,  \n",
       "1         NaN  \n",
       "2     Habush,  \n",
       "3         NaN  \n",
       "4         NaN  "
      ]
     },
     "execution_count": 74,
     "metadata": {},
     "output_type": "execute_result"
    }
   ],
   "source": [
    "df2.head()"
   ]
  },
  {
   "cell_type": "code",
   "execution_count": 75,
   "metadata": {},
   "outputs": [
    {
     "data": {
      "text/plain": [
       "19"
      ]
     },
     "execution_count": 75,
     "metadata": {},
     "output_type": "execute_result"
    }
   ],
   "source": [
    "df2.columns.value_counts().sum()"
   ]
  },
  {
   "cell_type": "code",
   "execution_count": 77,
   "metadata": {},
   "outputs": [
    {
     "data": {
      "text/plain": [
       "(8703, 19)"
      ]
     },
     "execution_count": 77,
     "metadata": {},
     "output_type": "execute_result"
    }
   ],
   "source": [
    "df2.shape"
   ]
  },
  {
   "cell_type": "markdown",
   "metadata": {},
   "source": [
    "<h1> GUARDAMOS NUESTRA DATA  🔐<h1>"
   ]
  },
  {
   "cell_type": "code",
   "execution_count": 83,
   "metadata": {},
   "outputs": [],
   "source": [
    "df2.to_csv('Sharks.csv', header=True, index=True)"
   ]
  },
  {
   "cell_type": "code",
   "execution_count": null,
   "metadata": {},
   "outputs": [],
   "source": []
  }
 ],
 "metadata": {
  "kernelspec": {
   "display_name": "Python 3",
   "language": "python",
   "name": "python3"
  },
  "language_info": {
   "codemirror_mode": {
    "name": "ipython",
    "version": 3
   },
   "file_extension": ".py",
   "mimetype": "text/x-python",
   "name": "python",
   "nbconvert_exporter": "python",
   "pygments_lexer": "ipython3",
   "version": "3.8.5"
  }
 },
 "nbformat": 4,
 "nbformat_minor": 4
}
